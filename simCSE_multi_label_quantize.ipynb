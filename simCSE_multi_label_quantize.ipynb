{
 "cells": [
  {
   "cell_type": "code",
   "execution_count": 14,
   "id": "cad4ee76",
   "metadata": {},
   "outputs": [],
   "source": [
    "import torch\n",
    "import warnings\n",
    "import onnx\n",
    "import onnxruntime as ort\n",
    "from onnxruntime.quantization import quantize_dynamic, QuantType\n",
    "warnings.filterwarnings('ignore')\n",
    "from datasets import load_dataset, Dataset\n",
    "from transformers import AutoTokenizer, pipeline\n",
    "from transformers import AutoModelForSequenceClassification, TrainingArguments, Trainer\n",
    "from sklearn.metrics import f1_score, accuracy_score\n",
    "import numpy as np\n",
    "device = torch.device(\"cuda\" if torch.cuda.is_available() else \"cpu\")"
   ]
  },
  {
   "cell_type": "code",
   "execution_count": 2,
   "id": "7e21cd15",
   "metadata": {},
   "outputs": [],
   "source": [
    "label_map = {'toxic':0, 'severe_toxic':1, 'obscene':2, 'threat':3, 'insult':4, 'identity_hate':5}"
   ]
  },
  {
   "cell_type": "code",
   "execution_count": 6,
   "id": "89047ab2",
   "metadata": {},
   "outputs": [
    {
     "data": {
      "text/plain": [
       "Embedding(30522, 768, padding_idx=0)"
      ]
     },
     "execution_count": 6,
     "metadata": {},
     "output_type": "execute_result"
    }
   ],
   "source": [
    "output_dir = \"simCSE_models\\simcse_multi\"\n",
    "model = AutoModelForSequenceClassification.from_pretrained(output_dir, num_labels=len(label_map.keys()), hidden_dropout_prob=0.1)\n",
    "tokenizer = AutoTokenizer.from_pretrained(output_dir)\n",
    "model.resize_token_embeddings(len(tokenizer)) "
   ]
  },
  {
   "cell_type": "code",
   "execution_count": 9,
   "id": "8e03d274",
   "metadata": {},
   "outputs": [
    {
     "name": "stderr",
     "output_type": "stream",
     "text": [
      "Map:   0%|          | 0/500 [00:00<?, ? examples/s]"
     ]
    },
    {
     "name": "stderr",
     "output_type": "stream",
     "text": [
      "Map: 100%|██████████| 500/500 [00:00<00:00, 3373.56 examples/s]\n"
     ]
    },
    {
     "data": {
      "text/plain": [
       "{'id': 'fd74868bc7a076e1',\n",
       " 'comment_text': \"What the hell, what would we call her if we wanted to say she was black? I'm talking about her race.\",\n",
       " 'cyberbullying': 1,\n",
       " 'labels': [1.0, 0.0, 0.0, 0.0, 0.0, 0.0]}"
      ]
     },
     "execution_count": 9,
     "metadata": {},
     "output_type": "execute_result"
    }
   ],
   "source": [
    "test_dataset = Dataset.from_file(r\"subset_test\\data-00000-of-00001.arrow\")\n",
    "def create_multi_label(example):\n",
    "    return {\"labels\": [np.float32(example[label]) for label in label_map.keys()]}\n",
    "test_dataset = test_dataset.map(create_multi_label).remove_columns(list(label_map.keys()))\n",
    "test_dataset[0]"
   ]
  },
  {
   "cell_type": "code",
   "execution_count": 22,
   "id": "51634b00",
   "metadata": {},
   "outputs": [
    {
     "name": "stderr",
     "output_type": "stream",
     "text": [
      "Map: 100%|██████████| 500/500 [00:00<00:00, 1674.87 examples/s]\n"
     ]
    }
   ],
   "source": [
    "def preprocess_for_onnx(ex):\n",
    "    tokens = tokenizer(\n",
    "        ex[\"comment_text\"],\n",
    "        padding=\"max_length\",\n",
    "        truncation=True,\n",
    "        max_length=128,\n",
    "        return_tensors=\"np\"\n",
    "    )\n",
    "    return {\n",
    "        \"input_ids\": tokens[\"input_ids\"][0],\n",
    "        \"attention_mask\": tokens[\"attention_mask\"][0],\n",
    "        \"labels\": ex[\"labels\"]\n",
    "    }\n",
    "onnx_test_dataset = test_dataset.map(preprocess_for_onnx)"
   ]
  },
  {
   "cell_type": "code",
   "execution_count": 24,
   "id": "47e9c135",
   "metadata": {},
   "outputs": [
    {
     "data": {
      "text/plain": [
       "[1.0, 0.0, 0.0, 0.0, 0.0, 0.0]"
      ]
     },
     "execution_count": 24,
     "metadata": {},
     "output_type": "execute_result"
    }
   ],
   "source": [
    "onnx_test_dataset[0]['labels']"
   ]
  },
  {
   "cell_type": "markdown",
   "id": "53365b6f",
   "metadata": {},
   "source": [
    "### Quantization code"
   ]
  },
  {
   "cell_type": "code",
   "execution_count": null,
   "id": "0a46908d",
   "metadata": {},
   "outputs": [
    {
     "ename": "NameError",
     "evalue": "name 'onnx' is not defined",
     "output_type": "error",
     "traceback": [
      "\u001b[31m---------------------------------------------------------------------------\u001b[39m",
      "\u001b[31mNameError\u001b[39m                                 Traceback (most recent call last)",
      "\u001b[36mCell\u001b[39m\u001b[36m \u001b[39m\u001b[32mIn[11]\u001b[39m\u001b[32m, line 17\u001b[39m\n\u001b[32m      3\u001b[39m onnx_model_name = \u001b[33m\"\u001b[39m\u001b[33msimcse_multi_model.onnx\u001b[39m\u001b[33m\"\u001b[39m\n\u001b[32m      4\u001b[39m torch.onnx.export(\n\u001b[32m      5\u001b[39m     model,\n\u001b[32m      6\u001b[39m     (dummy[\u001b[33m\"\u001b[39m\u001b[33minput_ids\u001b[39m\u001b[33m\"\u001b[39m], dummy[\u001b[33m\"\u001b[39m\u001b[33mattention_mask\u001b[39m\u001b[33m\"\u001b[39m]),\n\u001b[32m   (...)\u001b[39m\u001b[32m     15\u001b[39m     opset_version=\u001b[32m14\u001b[39m\n\u001b[32m     16\u001b[39m )\n\u001b[32m---> \u001b[39m\u001b[32m17\u001b[39m onnx_model = \u001b[43monnx\u001b[49m.load(onnx_model_name)\n\u001b[32m     18\u001b[39m onnx.checker.check_model(onnx_model)\n\u001b[32m     19\u001b[39m \u001b[38;5;28mprint\u001b[39m(\u001b[33m\"\u001b[39m\u001b[33mONNX export successful and model is valid!\u001b[39m\u001b[33m\"\u001b[39m)\n",
      "\u001b[31mNameError\u001b[39m: name 'onnx' is not defined"
     ]
    }
   ],
   "source": [
    "dummy = tokenizer(\"This is a test\", return_tensors=\"pt\", padding=\"max_length\", truncation=True, max_length=128)\n",
    "dummy.to(device)  # Move model to GPU if available\n",
    "onnx_model_name = \"simCSE_models/simcse_multi_model.onnx\"\n",
    "torch.onnx.export(\n",
    "    model,\n",
    "    (dummy[\"input_ids\"], dummy[\"attention_mask\"]),\n",
    "    onnx_model_name,\n",
    "    input_names=[\"input_ids\", \"attention_mask\"],\n",
    "    output_names=[\"logits\"],\n",
    "    dynamic_axes={\n",
    "        \"input_ids\": {0: \"batch_size\", 1: \"seq_len\"},\n",
    "        \"attention_mask\": {0: \"batch_size\", 1: \"seq_len\"},\n",
    "        \"logits\": {0: \"batch_size\", 1: \"num_labels\"},\n",
    "    },\n",
    "    opset_version=14\n",
    ")"
   ]
  },
  {
   "cell_type": "code",
   "execution_count": 13,
   "id": "7812c60e",
   "metadata": {},
   "outputs": [
    {
     "name": "stdout",
     "output_type": "stream",
     "text": [
      "ONNX export successful and model is valid!\n"
     ]
    }
   ],
   "source": [
    "onnx_model = onnx.load(onnx_model_name)\n",
    "onnx.checker.check_model(onnx_model)\n",
    "print(\"ONNX export successful and model is valid!\")"
   ]
  },
  {
   "cell_type": "code",
   "execution_count": 15,
   "id": "85cd964c",
   "metadata": {},
   "outputs": [
    {
     "name": "stderr",
     "output_type": "stream",
     "text": [
      "WARNING:root:Please consider to run pre-processing before quantization. Refer to example: https://github.com/microsoft/onnxruntime-inference-examples/blob/main/quantization/image_classification/cpu/ReadMe.md \n"
     ]
    }
   ],
   "source": [
    "model_input=\"simCSE_models/simcse_multi_model.onnx\"\n",
    "model_output=\"simCSE_models/simcse_multi_model_quantized.onnx\"\n",
    "quantize_dynamic(\n",
    "    model_input=model_input,\n",
    "    model_output=model_output,\n",
    "    weight_type=QuantType.QUInt8,\n",
    ")"
   ]
  },
  {
   "cell_type": "markdown",
   "id": "4f4cb0d1",
   "metadata": {},
   "source": [
    "### Inference Section"
   ]
  },
  {
   "cell_type": "code",
   "execution_count": 16,
   "id": "38ba300b",
   "metadata": {},
   "outputs": [
    {
     "name": "stdout",
     "output_type": "stream",
     "text": [
      "PyTorch Model  Size (MB): 438.012793\n",
      "ONNX Model Size (MB): 110.38\n"
     ]
    }
   ],
   "source": [
    "import os\n",
    "def print_size_of_model(model,name):\n",
    "    torch.save(model.state_dict(), \"temp.p\")\n",
    "    print(name,' Size (MB):', os.path.getsize(\"temp.p\")/1e6)\n",
    "    os.remove('temp.p')\n",
    "def print_size_of_onnx_model(model_path, name=\"ONNX Model\"):\n",
    "    size_mb = os.path.getsize(model_path) / 1e6\n",
    "    print(f\"{name} Size (MB): {size_mb:.2f}\")\n",
    "print_size_of_model(model, \"PyTorch Model\")\n",
    "print_size_of_onnx_model(model_output, \"ONNX Model\")"
   ]
  },
  {
   "cell_type": "code",
   "execution_count": 18,
   "id": "1e4510c5",
   "metadata": {},
   "outputs": [],
   "source": [
    "import time\n",
    "def timed_onnx_inference(session, tokenizer, dataset, batch_size=32):\n",
    "    start_time = time.time()\n",
    "    all_preds = []\n",
    "    all_labels = []\n",
    "\n",
    "    for i in range(0, len(dataset), batch_size):\n",
    "        batch = dataset[i:i+batch_size]  # This is a dict of batched columns\n",
    "\n",
    "        # Tokenize batch[\"comment_text\"]\n",
    "        tokens = tokenizer(\n",
    "            batch[\"comment_text\"],\n",
    "            return_tensors=\"np\",\n",
    "            padding=\"max_length\",\n",
    "            truncation=True,\n",
    "            max_length=128\n",
    "        )\n",
    "\n",
    "        inputs = {\n",
    "            \"input_ids\": tokens[\"input_ids\"].astype(np.int64),\n",
    "            \"attention_mask\": tokens[\"attention_mask\"].astype(np.int64)\n",
    "        }\n",
    "\n",
    "        # ONNX inference\n",
    "        logits = session.run([\"logits\"], inputs)[0]\n",
    "        probs = 1 / (1 + np.exp(-logits))  # Sigmoid\n",
    "\n",
    "        preds = (probs > 0.5).astype(int)\n",
    "\n",
    "        all_preds.extend(preds.tolist())\n",
    "        all_labels.extend(batch[\"labels\"])\n",
    "\n",
    "    end_time = time.time()\n",
    "\n",
    "    f1 = f1_score(all_labels, all_preds, average=\"micro\")\n",
    "    accuracy = accuracy_score(all_labels, all_preds)\n",
    "    return f1, end_time - start_time, accuracy\n",
    "\n",
    "def timed_inference(model, tokenizer):\n",
    "    start_time = time.time()\n",
    "    classifier = pipeline(\"text-classification\", model=model, tokenizer=tokenizer, device=device, return_all_scores=True)\n",
    "    results = classifier(test_dataset['comment_text'], max_length=128, padding=\"max_length\", truncation=True)\n",
    "    end_time = time.time()\n",
    "    cleaned_results = [\n",
    "    [1 if score[\"score\"] > 0.5 else 0 for score in result]\n",
    "    for result in results\n",
    "    ]\n",
    "    f1 = f1_score(test_dataset['labels'], cleaned_results, average='micro')\n",
    "    accuracy = accuracy_score(test_dataset['labels'], cleaned_results)\n",
    "    return f1, end_time - start_time, accuracy"
   ]
  },
  {
   "cell_type": "code",
   "execution_count": 19,
   "id": "e40ab483",
   "metadata": {},
   "outputs": [
    {
     "data": {
      "text/plain": [
       "['AzureExecutionProvider', 'CPUExecutionProvider']"
      ]
     },
     "execution_count": 19,
     "metadata": {},
     "output_type": "execute_result"
    }
   ],
   "source": [
    "ort.get_available_providers()"
   ]
  },
  {
   "cell_type": "code",
   "execution_count": 25,
   "id": "1a8ad9de",
   "metadata": {},
   "outputs": [
    {
     "name": "stderr",
     "output_type": "stream",
     "text": [
      "Device set to use cpu\n"
     ]
    },
    {
     "name": "stdout",
     "output_type": "stream",
     "text": [
      "Original Model F1 Score: 0.8162911611785095, Time taken: 65.98052549362183 seconds\n",
      "Original Model Accuracy: 0.68, Time taken: 65.98052549362183 seconds\n",
      "Quantized Model F1 Score: 0.8146853146853147, Time taken: 14.120506525039673 seconds\n",
      "Quantized Model Accuracy: 0.694, Time taken: 14.120506525039673 seconds\n"
     ]
    }
   ],
   "source": [
    "model.eval()\n",
    "providers = [\"CUDAExecutionProvider\"] if torch.cuda.is_available() else [\"CPUExecutionProvider\"]\n",
    "quantized_session = ort.InferenceSession(model_output,providers=providers)\n",
    "originalModelScore = timed_inference(model, tokenizer)\n",
    "print(f\"Original Model F1 Score: {originalModelScore[0]}, Time taken: {originalModelScore[1]} seconds\")\n",
    "print(f\"Original Model Accuracy: {originalModelScore[2]}, Time taken: {originalModelScore[1]} seconds\")\n",
    "quantizedModelScore = timed_onnx_inference(session=quantized_session, tokenizer=tokenizer,dataset=onnx_test_dataset)\n",
    "print(f\"Quantized Model F1 Score: {quantizedModelScore[0]}, Time taken: {quantizedModelScore[1]} seconds\")\n",
    "print(f\"Quantized Model Accuracy: {quantizedModelScore[2]}, Time taken: {quantizedModelScore[1]} seconds\")"
   ]
  }
 ],
 "metadata": {
  "kernelspec": {
   "display_name": "AI_env",
   "language": "python",
   "name": "python3"
  },
  "language_info": {
   "codemirror_mode": {
    "name": "ipython",
    "version": 3
   },
   "file_extension": ".py",
   "mimetype": "text/x-python",
   "name": "python",
   "nbconvert_exporter": "python",
   "pygments_lexer": "ipython3",
   "version": "3.12.0"
  }
 },
 "nbformat": 4,
 "nbformat_minor": 5
}
