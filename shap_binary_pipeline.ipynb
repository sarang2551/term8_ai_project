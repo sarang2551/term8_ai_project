{
 "cells": [
  {
   "cell_type": "code",
   "execution_count": 3,
   "id": "795904d6",
   "metadata": {},
   "outputs": [],
   "source": [
    "from transformers import DistilBertTokenizer\n",
    "import torch\n",
    "import joblib\n",
    "from torch.utils.data import DataLoader, Dataset\n",
    "from transformers import pipeline\n",
    "import numpy as np\n",
    "import os\n",
    "import time\n",
    "from datasets import Dataset\n",
    "import shap\n",
    "device = torch.device(\"cuda\" if torch.cuda.is_available() else \"cpu\")"
   ]
  },
  {
   "cell_type": "code",
   "execution_count": null,
   "id": "3680c5a5",
   "metadata": {},
   "outputs": [],
   "source": [
    "model = joblib.load(\"binary_classification_kd.joblib\")  # if you used joblib to save a wrapped torch model\n",
    "tokenizer = DistilBertTokenizer.from_pretrained(\"distilbert-base-uncased\")\n",
    "classifier = pipeline(\"text-classification\", model=model, tokenizer=tokenizer, device=device)"
   ]
  },
  {
   "cell_type": "code",
   "execution_count": null,
   "id": "48348221",
   "metadata": {},
   "outputs": [],
   "source": [
    "explainer = shap.Explainer(classifier, output_names=[\"positive\", \"negative\"])"
   ]
  },
  {
   "cell_type": "code",
   "execution_count": null,
   "id": "2b79da17",
   "metadata": {},
   "outputs": [],
   "source": [
    "shap_values = explainer([\"you fucking cocksucker\"])"
   ]
  },
  {
   "cell_type": "code",
   "execution_count": null,
   "id": "b2e5ce95",
   "metadata": {},
   "outputs": [],
   "source": [
    "shap.plots.text(shap_values[0])"
   ]
  }
 ],
 "metadata": {
  "kernelspec": {
   "display_name": "AI_env",
   "language": "python",
   "name": "python3"
  },
  "language_info": {
   "codemirror_mode": {
    "name": "ipython",
    "version": 3
   },
   "file_extension": ".py",
   "mimetype": "text/x-python",
   "name": "python",
   "nbconvert_exporter": "python",
   "pygments_lexer": "ipython3",
   "version": "3.12.0"
  }
 },
 "nbformat": 4,
 "nbformat_minor": 5
}
