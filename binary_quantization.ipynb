{
 "cells": [
  {
   "cell_type": "code",
   "execution_count": 23,
   "id": "69e19620-3b9b-4ead-893c-bdaa1738416a",
   "metadata": {},
   "outputs": [
    {
     "name": "stdout",
     "output_type": "stream",
     "text": [
      "Requirement already satisfied: transformers in /opt/conda/lib/python3.11/site-packages (4.51.3)\n",
      "Requirement already satisfied: filelock in /opt/conda/lib/python3.11/site-packages (from transformers) (3.9.0)\n",
      "Requirement already satisfied: huggingface-hub<1.0,>=0.30.0 in /opt/conda/lib/python3.11/site-packages (from transformers) (0.30.2)\n",
      "Requirement already satisfied: numpy>=1.17 in /opt/conda/lib/python3.11/site-packages (from transformers) (1.26.0)\n",
      "Requirement already satisfied: packaging>=20.0 in /opt/conda/lib/python3.11/site-packages (from transformers) (23.2)\n",
      "Requirement already satisfied: pyyaml>=5.1 in /opt/conda/lib/python3.11/site-packages (from transformers) (6.0.1)\n",
      "Requirement already satisfied: regex!=2019.12.17 in /opt/conda/lib/python3.11/site-packages (from transformers) (2024.11.6)\n",
      "Requirement already satisfied: requests in /opt/conda/lib/python3.11/site-packages (from transformers) (2.31.0)\n",
      "Requirement already satisfied: tokenizers<0.22,>=0.21 in /opt/conda/lib/python3.11/site-packages (from transformers) (0.21.1)\n",
      "Requirement already satisfied: safetensors>=0.4.3 in /opt/conda/lib/python3.11/site-packages (from transformers) (0.5.3)\n",
      "Requirement already satisfied: tqdm>=4.27 in /opt/conda/lib/python3.11/site-packages (from transformers) (4.66.1)\n",
      "Requirement already satisfied: fsspec>=2023.5.0 in /opt/conda/lib/python3.11/site-packages (from huggingface-hub<1.0,>=0.30.0->transformers) (2025.3.2)\n",
      "Requirement already satisfied: typing-extensions>=3.7.4.3 in /opt/conda/lib/python3.11/site-packages (from huggingface-hub<1.0,>=0.30.0->transformers) (4.13.2)\n",
      "Requirement already satisfied: charset-normalizer<4,>=2 in /opt/conda/lib/python3.11/site-packages (from requests->transformers) (3.3.2)\n",
      "Requirement already satisfied: idna<4,>=2.5 in /opt/conda/lib/python3.11/site-packages (from requests->transformers) (3.4)\n",
      "Requirement already satisfied: urllib3<3,>=1.21.1 in /opt/conda/lib/python3.11/site-packages (from requests->transformers) (2.1.0)\n",
      "Requirement already satisfied: certifi>=2017.4.17 in /opt/conda/lib/python3.11/site-packages (from requests->transformers) (2023.7.22)\n",
      "Requirement already satisfied: torch in /opt/conda/lib/python3.11/site-packages (2.6.0)\n",
      "Requirement already satisfied: filelock in /opt/conda/lib/python3.11/site-packages (from torch) (3.9.0)\n",
      "Requirement already satisfied: typing-extensions>=4.10.0 in /opt/conda/lib/python3.11/site-packages (from torch) (4.13.2)\n",
      "Requirement already satisfied: networkx in /opt/conda/lib/python3.11/site-packages (from torch) (3.0)\n",
      "Requirement already satisfied: jinja2 in /opt/conda/lib/python3.11/site-packages (from torch) (3.1.2)\n",
      "Requirement already satisfied: fsspec in /opt/conda/lib/python3.11/site-packages (from torch) (2025.3.2)\n",
      "Requirement already satisfied: nvidia-cuda-nvrtc-cu12==12.4.127 in /opt/conda/lib/python3.11/site-packages (from torch) (12.4.127)\n",
      "Requirement already satisfied: nvidia-cuda-runtime-cu12==12.4.127 in /opt/conda/lib/python3.11/site-packages (from torch) (12.4.127)\n",
      "Requirement already satisfied: nvidia-cuda-cupti-cu12==12.4.127 in /opt/conda/lib/python3.11/site-packages (from torch) (12.4.127)\n",
      "Requirement already satisfied: nvidia-cudnn-cu12==9.1.0.70 in /opt/conda/lib/python3.11/site-packages (from torch) (9.1.0.70)\n",
      "Requirement already satisfied: nvidia-cublas-cu12==12.4.5.8 in /opt/conda/lib/python3.11/site-packages (from torch) (12.4.5.8)\n",
      "Requirement already satisfied: nvidia-cufft-cu12==11.2.1.3 in /opt/conda/lib/python3.11/site-packages (from torch) (11.2.1.3)\n",
      "Requirement already satisfied: nvidia-curand-cu12==10.3.5.147 in /opt/conda/lib/python3.11/site-packages (from torch) (10.3.5.147)\n",
      "Requirement already satisfied: nvidia-cusolver-cu12==11.6.1.9 in /opt/conda/lib/python3.11/site-packages (from torch) (11.6.1.9)\n",
      "Requirement already satisfied: nvidia-cusparse-cu12==12.3.1.170 in /opt/conda/lib/python3.11/site-packages (from torch) (12.3.1.170)\n",
      "Requirement already satisfied: nvidia-cusparselt-cu12==0.6.2 in /opt/conda/lib/python3.11/site-packages (from torch) (0.6.2)\n",
      "Requirement already satisfied: nvidia-nccl-cu12==2.21.5 in /opt/conda/lib/python3.11/site-packages (from torch) (2.21.5)\n",
      "Requirement already satisfied: nvidia-nvtx-cu12==12.4.127 in /opt/conda/lib/python3.11/site-packages (from torch) (12.4.127)\n",
      "Requirement already satisfied: nvidia-nvjitlink-cu12==12.4.127 in /opt/conda/lib/python3.11/site-packages (from torch) (12.4.127)\n",
      "Requirement already satisfied: triton==3.2.0 in /opt/conda/lib/python3.11/site-packages (from torch) (3.2.0)\n",
      "Requirement already satisfied: sympy==1.13.1 in /opt/conda/lib/python3.11/site-packages (from torch) (1.13.1)\n",
      "Requirement already satisfied: mpmath<1.4,>=1.1.0 in /opt/conda/lib/python3.11/site-packages (from sympy==1.13.1->torch) (1.3.0)\n",
      "Requirement already satisfied: MarkupSafe>=2.0 in /opt/conda/lib/python3.11/site-packages (from jinja2->torch) (2.1.3)\n",
      "Requirement already satisfied: joblib in /opt/conda/lib/python3.11/site-packages (1.4.2)\n",
      "Requirement already satisfied: onnx in /opt/conda/lib/python3.11/site-packages (1.17.0)\n",
      "Requirement already satisfied: numpy>=1.20 in /opt/conda/lib/python3.11/site-packages (from onnx) (1.26.0)\n",
      "Requirement already satisfied: protobuf>=3.20.2 in /opt/conda/lib/python3.11/site-packages (from onnx) (6.30.2)\n",
      "Requirement already satisfied: onnxruntime in /opt/conda/lib/python3.11/site-packages (1.21.1)\n",
      "Requirement already satisfied: coloredlogs in /opt/conda/lib/python3.11/site-packages (from onnxruntime) (15.0.1)\n",
      "Requirement already satisfied: flatbuffers in /opt/conda/lib/python3.11/site-packages (from onnxruntime) (25.2.10)\n",
      "Requirement already satisfied: numpy>=1.21.6 in /opt/conda/lib/python3.11/site-packages (from onnxruntime) (1.26.0)\n",
      "Requirement already satisfied: packaging in /opt/conda/lib/python3.11/site-packages (from onnxruntime) (23.2)\n",
      "Requirement already satisfied: protobuf in /opt/conda/lib/python3.11/site-packages (from onnxruntime) (6.30.2)\n",
      "Requirement already satisfied: sympy in /opt/conda/lib/python3.11/site-packages (from onnxruntime) (1.13.1)\n",
      "Requirement already satisfied: humanfriendly>=9.1 in /opt/conda/lib/python3.11/site-packages (from coloredlogs->onnxruntime) (10.0)\n",
      "Requirement already satisfied: mpmath<1.4,>=1.1.0 in /opt/conda/lib/python3.11/site-packages (from sympy->onnxruntime) (1.3.0)\n",
      "Requirement already satisfied: scikit-learn in /opt/conda/lib/python3.11/site-packages (1.6.1)\n",
      "Requirement already satisfied: numpy>=1.19.5 in /opt/conda/lib/python3.11/site-packages (from scikit-learn) (1.26.0)\n",
      "Requirement already satisfied: scipy>=1.6.0 in /opt/conda/lib/python3.11/site-packages (from scikit-learn) (1.15.2)\n",
      "Requirement already satisfied: joblib>=1.2.0 in /opt/conda/lib/python3.11/site-packages (from scikit-learn) (1.4.2)\n",
      "Requirement already satisfied: threadpoolctl>=3.1.0 in /opt/conda/lib/python3.11/site-packages (from scikit-learn) (3.6.0)\n",
      "Collecting datasets\n",
      "  Using cached datasets-3.5.0-py3-none-any.whl.metadata (19 kB)\n",
      "Requirement already satisfied: filelock in /opt/conda/lib/python3.11/site-packages (from datasets) (3.9.0)\n",
      "Requirement already satisfied: numpy>=1.17 in /opt/conda/lib/python3.11/site-packages (from datasets) (1.26.0)\n",
      "Collecting pyarrow>=15.0.0 (from datasets)\n",
      "  Using cached pyarrow-19.0.1-cp311-cp311-manylinux_2_28_x86_64.whl.metadata (3.3 kB)\n",
      "Collecting dill<0.3.9,>=0.3.0 (from datasets)\n",
      "  Using cached dill-0.3.8-py3-none-any.whl.metadata (10 kB)\n",
      "Collecting pandas (from datasets)\n",
      "  Using cached pandas-2.2.3-cp311-cp311-manylinux_2_17_x86_64.manylinux2014_x86_64.whl.metadata (89 kB)\n",
      "Collecting requests>=2.32.2 (from datasets)\n",
      "  Using cached requests-2.32.3-py3-none-any.whl.metadata (4.6 kB)\n",
      "Collecting tqdm>=4.66.3 (from datasets)\n",
      "  Using cached tqdm-4.67.1-py3-none-any.whl.metadata (57 kB)\n",
      "Collecting xxhash (from datasets)\n",
      "  Using cached xxhash-3.5.0-cp311-cp311-manylinux_2_17_x86_64.manylinux2014_x86_64.whl.metadata (12 kB)\n",
      "Collecting multiprocess<0.70.17 (from datasets)\n",
      "  Using cached multiprocess-0.70.16-py311-none-any.whl.metadata (7.2 kB)\n",
      "Collecting fsspec<=2024.12.0,>=2023.1.0 (from fsspec[http]<=2024.12.0,>=2023.1.0->datasets)\n",
      "  Using cached fsspec-2024.12.0-py3-none-any.whl.metadata (11 kB)\n",
      "Requirement already satisfied: aiohttp in /opt/conda/lib/python3.11/site-packages (from datasets) (3.8.6)\n",
      "Requirement already satisfied: huggingface-hub>=0.24.0 in /opt/conda/lib/python3.11/site-packages (from datasets) (0.30.2)\n",
      "Requirement already satisfied: packaging in /opt/conda/lib/python3.11/site-packages (from datasets) (23.2)\n",
      "Requirement already satisfied: pyyaml>=5.1 in /opt/conda/lib/python3.11/site-packages (from datasets) (6.0.1)\n",
      "Requirement already satisfied: attrs>=17.3.0 in /opt/conda/lib/python3.11/site-packages (from aiohttp->datasets) (23.1.0)\n",
      "Requirement already satisfied: charset-normalizer<4.0,>=2.0 in /opt/conda/lib/python3.11/site-packages (from aiohttp->datasets) (3.3.2)\n",
      "Requirement already satisfied: multidict<7.0,>=4.5 in /opt/conda/lib/python3.11/site-packages (from aiohttp->datasets) (6.0.4)\n",
      "Requirement already satisfied: async-timeout<5.0,>=4.0.0a3 in /opt/conda/lib/python3.11/site-packages (from aiohttp->datasets) (4.0.3)\n",
      "Requirement already satisfied: yarl<2.0,>=1.0 in /opt/conda/lib/python3.11/site-packages (from aiohttp->datasets) (1.9.2)\n",
      "Requirement already satisfied: frozenlist>=1.1.1 in /opt/conda/lib/python3.11/site-packages (from aiohttp->datasets) (1.4.0)\n",
      "Requirement already satisfied: aiosignal>=1.1.2 in /opt/conda/lib/python3.11/site-packages (from aiohttp->datasets) (1.3.1)\n",
      "Requirement already satisfied: typing-extensions>=3.7.4.3 in /opt/conda/lib/python3.11/site-packages (from huggingface-hub>=0.24.0->datasets) (4.13.2)\n",
      "Requirement already satisfied: idna<4,>=2.5 in /opt/conda/lib/python3.11/site-packages (from requests>=2.32.2->datasets) (3.4)\n",
      "Requirement already satisfied: urllib3<3,>=1.21.1 in /opt/conda/lib/python3.11/site-packages (from requests>=2.32.2->datasets) (2.1.0)\n",
      "Requirement already satisfied: certifi>=2017.4.17 in /opt/conda/lib/python3.11/site-packages (from requests>=2.32.2->datasets) (2023.7.22)\n",
      "Requirement already satisfied: python-dateutil>=2.8.2 in /opt/conda/lib/python3.11/site-packages (from pandas->datasets) (2.8.2)\n",
      "Requirement already satisfied: pytz>=2020.1 in /opt/conda/lib/python3.11/site-packages (from pandas->datasets) (2023.3.post1)\n",
      "Collecting tzdata>=2022.7 (from pandas->datasets)\n",
      "  Using cached tzdata-2025.2-py2.py3-none-any.whl.metadata (1.4 kB)\n",
      "Requirement already satisfied: six>=1.5 in /opt/conda/lib/python3.11/site-packages (from python-dateutil>=2.8.2->pandas->datasets) (1.16.0)\n",
      "Using cached datasets-3.5.0-py3-none-any.whl (491 kB)\n",
      "Using cached dill-0.3.8-py3-none-any.whl (116 kB)\n",
      "Using cached fsspec-2024.12.0-py3-none-any.whl (183 kB)\n",
      "Using cached multiprocess-0.70.16-py311-none-any.whl (143 kB)\n",
      "Using cached pyarrow-19.0.1-cp311-cp311-manylinux_2_28_x86_64.whl (42.1 MB)\n",
      "Using cached requests-2.32.3-py3-none-any.whl (64 kB)\n",
      "Using cached tqdm-4.67.1-py3-none-any.whl (78 kB)\n",
      "Using cached pandas-2.2.3-cp311-cp311-manylinux_2_17_x86_64.manylinux2014_x86_64.whl (13.1 MB)\n",
      "Using cached xxhash-3.5.0-cp311-cp311-manylinux_2_17_x86_64.manylinux2014_x86_64.whl (194 kB)\n",
      "Using cached tzdata-2025.2-py2.py3-none-any.whl (347 kB)\n",
      "Installing collected packages: xxhash, tzdata, tqdm, requests, pyarrow, fsspec, dill, pandas, multiprocess, datasets\n",
      "  Attempting uninstall: tqdm\n",
      "    Found existing installation: tqdm 4.66.1\n",
      "    Uninstalling tqdm-4.66.1:\n",
      "      Successfully uninstalled tqdm-4.66.1\n",
      "  Attempting uninstall: requests\n",
      "    Found existing installation: requests 2.31.0\n",
      "    Uninstalling requests-2.31.0:\n",
      "      Successfully uninstalled requests-2.31.0\n",
      "  Attempting uninstall: fsspec\n",
      "    Found existing installation: fsspec 2025.3.2\n",
      "    Uninstalling fsspec-2025.3.2:\n",
      "      Successfully uninstalled fsspec-2025.3.2\n",
      "\u001b[31mERROR: pip's dependency resolver does not currently take into account all the packages that are installed. This behaviour is the source of the following dependency conflicts.\n",
      "conda 23.10.0 requires ruamel-yaml<0.18,>=0.11.14, but you have ruamel-yaml 0.18.5 which is incompatible.\n",
      "torchvision 0.16.1+cu118 requires torch==2.1.1, but you have torch 2.6.0 which is incompatible.\n",
      "torchaudio 2.1.1+cu118 requires torch==2.1.1, but you have torch 2.6.0 which is incompatible.\u001b[0m\u001b[31m\n",
      "\u001b[0mSuccessfully installed datasets-3.5.0 dill-0.3.8 fsspec-2024.12.0 multiprocess-0.70.16 pandas-2.2.3 pyarrow-19.0.1 requests-2.32.3 tqdm-4.67.1 tzdata-2025.2 xxhash-3.5.0\n"
     ]
    }
   ],
   "source": [
    "!pip install -U transformers\n",
    "!pip install -U torch\n",
    "!pip install -U joblib\n",
    "!pip install -U onnx\n",
    "!pip install -U onnxruntime\n",
    "!pip install -U scikit-learn\n",
    "!pip install -U datasets"
   ]
  },
  {
   "cell_type": "code",
   "execution_count": 24,
   "id": "1c3975a5-d8ca-4e25-ac24-499c52aad57a",
   "metadata": {},
   "outputs": [],
   "source": [
    "from transformers import DistilBertTokenizer\n",
    "import torch\n",
    "import joblib\n",
    "from torch.utils.data import DataLoader, Dataset\n",
    "import onnx\n",
    "import onnxruntime as ort\n",
    "from onnxruntime.quantization import quantize_dynamic, QuantType\n",
    "from transformers import AutoTokenizer, AutoModelForSequenceClassification, pipeline\n",
    "import numpy as np\n",
    "from sklearn.metrics import f1_score, accuracy_score\n",
    "import os\n",
    "import time\n",
    "from datasets import Dataset\n",
    "device = torch.device(\"cuda\" if torch.cuda.is_available() else \"cpu\")"
   ]
  },
  {
   "cell_type": "code",
   "execution_count": 25,
   "id": "26b9630c-2018-4e11-921b-b110f076106c",
   "metadata": {},
   "outputs": [
    {
     "name": "stdout",
     "output_type": "stream",
     "text": [
      "DistilBertForSequenceClassification(\n",
      "  (distilbert): DistilBertModel(\n",
      "    (embeddings): Embeddings(\n",
      "      (word_embeddings): Embedding(30522, 768, padding_idx=0)\n",
      "      (position_embeddings): Embedding(512, 768)\n",
      "      (LayerNorm): LayerNorm((768,), eps=1e-12, elementwise_affine=True)\n",
      "      (dropout): Dropout(p=0.1, inplace=False)\n",
      "    )\n",
      "    (transformer): Transformer(\n",
      "      (layer): ModuleList(\n",
      "        (0-5): 6 x TransformerBlock(\n",
      "          (attention): DistilBertSdpaAttention(\n",
      "            (dropout): Dropout(p=0.1, inplace=False)\n",
      "            (q_lin): Linear(in_features=768, out_features=768, bias=True)\n",
      "            (k_lin): Linear(in_features=768, out_features=768, bias=True)\n",
      "            (v_lin): Linear(in_features=768, out_features=768, bias=True)\n",
      "            (out_lin): Linear(in_features=768, out_features=768, bias=True)\n",
      "          )\n",
      "          (sa_layer_norm): LayerNorm((768,), eps=1e-12, elementwise_affine=True)\n",
      "          (ffn): FFN(\n",
      "            (dropout): Dropout(p=0.1, inplace=False)\n",
      "            (lin1): Linear(in_features=768, out_features=3072, bias=True)\n",
      "            (lin2): Linear(in_features=3072, out_features=768, bias=True)\n",
      "            (activation): GELUActivation()\n",
      "          )\n",
      "          (output_layer_norm): LayerNorm((768,), eps=1e-12, elementwise_affine=True)\n",
      "        )\n",
      "      )\n",
      "    )\n",
      "  )\n",
      "  (pre_classifier): Linear(in_features=768, out_features=768, bias=True)\n",
      "  (classifier): Linear(in_features=768, out_features=2, bias=True)\n",
      "  (dropout): Dropout(p=0.2, inplace=False)\n",
      ")\n"
     ]
    }
   ],
   "source": [
    "# Load model and tokenizer\n",
    "model = joblib.load(\"binary_classification_kd.joblib\")  # if you used joblib to save a wrapped torch model\n",
    "print((model))"
   ]
  },
  {
   "cell_type": "code",
   "execution_count": 30,
   "id": "d5ef3c0e-f8b8-4598-8602-c35ae426d19b",
   "metadata": {},
   "outputs": [
    {
     "name": "stdout",
     "output_type": "stream",
     "text": [
      "{'id': 'fd74868bc7a076e1', 'comment_text': \"What the hell, what would we call her if we wanted to say she was black? I'm talking about her race.\", 'cyberbullying': 1}\n"
     ]
    }
   ],
   "source": [
    "test_dataset = Dataset.from_file(r\"../subset_test/data-00000-of-00001.arrow\")\n",
    "label_map = {'toxic':0, 'severe_toxic':1, 'obscene':2, 'threat':3, 'insult':4, 'identity_hate':5}\n",
    "# remove uncessary columns\n",
    "test_dataset = test_dataset.remove_columns(list(label_map.keys()))\n",
    "print(test_dataset[0])\n",
    "\n",
    "# define\n",
    "tokenizer = DistilBertTokenizer.from_pretrained(\"distilbert-base-uncased\")"
   ]
  },
  {
   "cell_type": "code",
   "execution_count": 32,
   "id": "beeda6aa-1a13-4ad8-b2a1-ab841426c9ac",
   "metadata": {},
   "outputs": [
    {
     "name": "stderr",
     "output_type": "stream",
     "text": [
      "Map: 100%|██████████| 500/500 [00:01<00:00, 493.26 examples/s]\n"
     ]
    }
   ],
   "source": [
    "def preprocess_for_onnx(ex):\n",
    "    tokens = tokenizer(\n",
    "        ex[\"comment_text\"],\n",
    "        padding=\"max_length\",\n",
    "        truncation=True,\n",
    "        max_length=128,\n",
    "        return_tensors=\"np\"\n",
    "    )\n",
    "    return {\n",
    "        \"input_ids\": tokens[\"input_ids\"][0],\n",
    "        \"attention_mask\": tokens[\"attention_mask\"][0],\n",
    "        \"labels\": ex[\"cyberbullying\"]\n",
    "    }\n",
    "onnx_test_dataset = test_dataset.map(preprocess_for_onnx)"
   ]
  },
  {
   "cell_type": "markdown",
   "id": "c114933f-2318-47a1-a3d8-7192b2cb3753",
   "metadata": {},
   "source": [
    "## Code for exporting the BERT model into a ONNX model"
   ]
  },
  {
   "cell_type": "code",
   "execution_count": 36,
   "id": "43648f6b-3ca4-42b0-af70-482d0afd6385",
   "metadata": {},
   "outputs": [],
   "source": [
    "dummy = tokenizer(\"This is a test\", return_tensors=\"pt\", padding=\"max_length\", truncation=True, max_length=128)\n",
    "dummy.to(device)  # Move model to GPU if available\n",
    "torch.onnx.export(\n",
    "    model,\n",
    "    (dummy[\"input_ids\"], dummy[\"attention_mask\"]),\n",
    "    \"binary_distill_model.onnx\",\n",
    "    input_names=[\"input_ids\", \"attention_mask\"],\n",
    "    output_names=[\"logits\"],\n",
    "    dynamic_axes={\n",
    "        \"input_ids\": {0: \"batch_size\", 1: \"seq_len\"},\n",
    "        \"attention_mask\": {0: \"batch_size\", 1: \"seq_len\"},\n",
    "        \"logits\": {0: \"batch_size\", 1: \"num_labels\"},\n",
    "    },\n",
    "    opset_version=14\n",
    ")"
   ]
  },
  {
   "cell_type": "code",
   "execution_count": 37,
   "id": "dec03138-e39d-45e7-93c2-9d86402b1f73",
   "metadata": {},
   "outputs": [
    {
     "name": "stdout",
     "output_type": "stream",
     "text": [
      "ONNX export successful and model is valid!\n"
     ]
    }
   ],
   "source": [
    "onnx_model = onnx.load(\"binary_distill_model.onnx\")\n",
    "onnx.checker.check_model(onnx_model)\n",
    "print(\"ONNX export successful and model is valid!\")"
   ]
  },
  {
   "cell_type": "markdown",
   "id": "c9c83609-a938-4bff-9379-116b2359c078",
   "metadata": {},
   "source": [
    "## ONNX quantization code"
   ]
  },
  {
   "cell_type": "code",
   "execution_count": 38,
   "id": "a2b21414-2b27-424a-81af-74340e451cf3",
   "metadata": {},
   "outputs": [
    {
     "name": "stderr",
     "output_type": "stream",
     "text": [
      "WARNING:root:Please consider to run pre-processing before quantization. Refer to example: https://github.com/microsoft/onnxruntime-inference-examples/blob/main/quantization/image_classification/cpu/ReadMe.md \n"
     ]
    }
   ],
   "source": [
    "model_input=\"binary_distill_model.onnx\"\n",
    "model_output=\"binary_distill_model_quant.onnx\"\n",
    "quantize_dynamic(\n",
    "    model_input=model_input,\n",
    "    model_output=model_output,\n",
    "    weight_type=QuantType.QUInt8,\n",
    ")"
   ]
  },
  {
   "cell_type": "code",
   "execution_count": 39,
   "id": "fb440042-97c0-4eff-8763-36fbfe63dcfa",
   "metadata": {},
   "outputs": [],
   "source": [
    "def print_size_of_model(model,name):\n",
    "    torch.save(model.state_dict(), \"temp.p\")\n",
    "    print(name,' Size (MB):', os.path.getsize(\"temp.p\")/1e6)\n",
    "    os.remove('temp.p')\n",
    "def print_size_of_onnx_model(model_path, name=\"ONNX Model\"):\n",
    "    size_mb = os.path.getsize(model_path) / 1e6\n",
    "    print(f\"{name} Size (MB): {size_mb:.2f}\")"
   ]
  },
  {
   "cell_type": "code",
   "execution_count": 41,
   "id": "abab1914-1d61-4f6d-bcee-c6cd908331a3",
   "metadata": {},
   "outputs": [
    {
     "name": "stdout",
     "output_type": "stream",
     "text": [
      "Quant ONNX model Size (MB): 67.38\n",
      "Original model  Size (MB): 267.854622\n"
     ]
    }
   ],
   "source": [
    "print_size_of_onnx_model(\"binary_distill_model_quant.onnx\",\"Quant ONNX model\")\n",
    "print_size_of_model(model,\"Original model\")"
   ]
  },
  {
   "cell_type": "markdown",
   "id": "e4297574-eea3-441f-8ce1-0f3057980db3",
   "metadata": {},
   "source": [
    "# Inference Section"
   ]
  },
  {
   "cell_type": "code",
   "execution_count": 52,
   "id": "9eb75c39-d168-401a-a6ae-17197e5f29d5",
   "metadata": {},
   "outputs": [],
   "source": [
    "def timed_onnx_inference(session, tokenizer, dataset, batch_size=32):\n",
    "    start_time = time.time()\n",
    "    all_preds = []\n",
    "    all_labels = []\n",
    "\n",
    "    for i in range(0, len(dataset), batch_size):\n",
    "        batch = dataset[i:i+batch_size]  # This is a dict of batched columns\n",
    "\n",
    "        # Tokenize batch[\"comment_text\"]\n",
    "        tokens = tokenizer(\n",
    "            batch[\"comment_text\"],\n",
    "            return_tensors=\"np\",\n",
    "            padding=\"max_length\",\n",
    "            truncation=True,\n",
    "            max_length=128\n",
    "        )\n",
    "\n",
    "        inputs = {\n",
    "            \"input_ids\": tokens[\"input_ids\"].astype(np.int64),\n",
    "            \"attention_mask\": tokens[\"attention_mask\"].astype(np.int64)\n",
    "        }\n",
    "\n",
    "        # ONNX inference\n",
    "        logits = session.run([\"logits\"], inputs)[0]\n",
    "        probs = 1 / (1 + np.exp(-logits))  # Sigmoid\n",
    "\n",
    "        preds = (probs > 0.5).astype(int)\n",
    "\n",
    "        all_preds.extend(preds.tolist())\n",
    "        all_labels.extend(batch[\"cyberbullying\"])\n",
    "\n",
    "    end_time = time.time()\n",
    "\n",
    "    f1 = f1_score(all_labels, all_preds, average=\"micro\")\n",
    "    return f1, end_time - start_time\n",
    "\n",
    "def timed_inference(model, tokenizer):\n",
    "    start_time = time.time()\n",
    "    classifier = pipeline(\"text-classification\", model=model, tokenizer=tokenizer, device=device, return_all_scores=True)\n",
    "    results = classifier(test_dataset['comment_text'], max_length=128, padding=\"max_length\", truncation=True)\n",
    "    end_time = time.time()\n",
    "    cleaned_results = [\n",
    "    [1 if score[\"score\"] > 0.5 else 0 for score in result]\n",
    "    for result in results\n",
    "    ]\n",
    "    print(test_dataset['cyberbullying'], results)\n",
    "    f1 = f1_score(test_dataset['cyberbullying'], results, average='micro')\n",
    "    return f1, end_time - start_time"
   ]
  },
  {
   "cell_type": "code",
   "execution_count": 53,
   "id": "d1ccdb74-d9ba-4503-96da-04e1df6a11f8",
   "metadata": {},
   "outputs": [
    {
     "data": {
      "text/plain": [
       "['AzureExecutionProvider', 'CPUExecutionProvider']"
      ]
     },
     "execution_count": 53,
     "metadata": {},
     "output_type": "execute_result"
    }
   ],
   "source": [
    "ort.get_available_providers()"
   ]
  },
  {
   "cell_type": "code",
   "execution_count": 54,
   "id": "969b8391-7fa7-46a1-8656-9b57280c246f",
   "metadata": {},
   "outputs": [
    {
     "name": "stderr",
     "output_type": "stream",
     "text": [
      "/opt/conda/lib/python3.11/site-packages/onnxruntime/capi/onnxruntime_inference_collection.py:118: UserWarning: Specified provider 'CUDAExecutionProvider' is not in available provider names.Available providers: 'AzureExecutionProvider, CPUExecutionProvider'\n",
      "  warnings.warn(\n",
      "Device set to use cuda\n",
      "/opt/conda/lib/python3.11/site-packages/transformers/pipelines/text_classification.py:106: UserWarning: `return_all_scores` is now deprecated,  if want a similar functionality use `top_k=None` instead of `return_all_scores=True` or `top_k=1` instead of `return_all_scores=False`.\n",
      "  warnings.warn(\n"
     ]
    },
    {
     "name": "stdout",
     "output_type": "stream",
     "text": [
      "[1, 1, 1, 1, 1, 1, 1, 1, 1, 1, 1, 1, 1, 1, 1, 1, 1, 1, 1, 1, 1, 1, 1, 1, 1, 1, 1, 1, 1, 1, 1, 1, 1, 1, 1, 1, 1, 1, 1, 1, 1, 1, 1, 1, 1, 1, 1, 1, 1, 1, 1, 1, 1, 1, 1, 1, 1, 1, 1, 1, 1, 1, 1, 1, 1, 1, 1, 1, 1, 1, 1, 1, 1, 1, 1, 1, 1, 1, 1, 1, 1, 1, 1, 1, 1, 1, 1, 1, 1, 1, 1, 1, 1, 1, 1, 1, 1, 1, 1, 1, 1, 1, 1, 1, 1, 1, 1, 1, 1, 1, 1, 1, 1, 1, 1, 1, 1, 1, 1, 1, 1, 1, 1, 1, 1, 1, 1, 1, 1, 1, 1, 1, 1, 1, 1, 1, 1, 1, 1, 1, 1, 1, 1, 1, 1, 1, 1, 1, 1, 1, 1, 1, 1, 1, 1, 1, 1, 1, 1, 1, 1, 1, 1, 1, 1, 1, 1, 1, 1, 1, 1, 1, 1, 1, 1, 1, 1, 1, 1, 1, 1, 1, 1, 1, 1, 1, 1, 1, 1, 1, 1, 1, 1, 1, 1, 1, 1, 1, 1, 1, 1, 1, 1, 1, 1, 1, 1, 1, 1, 1, 1, 1, 1, 1, 1, 1, 1, 1, 1, 1, 1, 1, 1, 1, 1, 1, 1, 1, 1, 1, 1, 1, 1, 1, 1, 1, 1, 1, 1, 1, 1, 1, 1, 1, 1, 1, 1, 1, 1, 1, 0, 0, 0, 0, 0, 0, 0, 0, 0, 0, 0, 0, 0, 0, 0, 0, 0, 0, 0, 0, 0, 0, 0, 0, 0, 0, 0, 0, 0, 0, 0, 0, 0, 0, 0, 0, 0, 0, 0, 0, 0, 0, 0, 0, 0, 0, 0, 0, 0, 0, 0, 0, 0, 0, 0, 0, 0, 0, 0, 0, 0, 0, 0, 0, 0, 0, 0, 0, 0, 0, 0, 0, 0, 0, 0, 0, 0, 0, 0, 0, 0, 0, 0, 0, 0, 0, 0, 0, 0, 0, 0, 0, 0, 0, 0, 0, 0, 0, 0, 0, 0, 0, 0, 0, 0, 0, 0, 0, 0, 0, 0, 0, 0, 0, 0, 0, 0, 0, 0, 0, 0, 0, 0, 0, 0, 0, 0, 0, 0, 0, 0, 0, 0, 0, 0, 0, 0, 0, 0, 0, 0, 0, 0, 0, 0, 0, 0, 0, 0, 0, 0, 0, 0, 0, 0, 0, 0, 0, 0, 0, 0, 0, 0, 0, 0, 0, 0, 0, 0, 0, 0, 0, 0, 0, 0, 0, 0, 0, 0, 0, 0, 0, 0, 0, 0, 0, 0, 0, 0, 0, 0, 0, 0, 0, 0, 0, 0, 0, 0, 0, 0, 0, 0, 0, 0, 0, 0, 0, 0, 0, 0, 0, 0, 0, 0, 0, 0, 0, 0, 0, 0, 0, 0, 0, 0, 0, 0, 0, 0, 0, 0, 0, 0, 0, 0, 0, 0, 0, 0, 0, 0, 0, 0, 0, 0, 0, 0, 0, 0, 0] [[{'label': 'LABEL_0', 'score': 0.9465397000312805}, {'label': 'LABEL_1', 'score': 0.053460247814655304}], [{'label': 'LABEL_0', 'score': 0.17454545199871063}, {'label': 'LABEL_1', 'score': 0.825454592704773}], [{'label': 'LABEL_0', 'score': 5.0107679271604866e-05}, {'label': 'LABEL_1', 'score': 0.9999499320983887}], [{'label': 'LABEL_0', 'score': 0.0001006013189908117}, {'label': 'LABEL_1', 'score': 0.9998993873596191}], [{'label': 'LABEL_0', 'score': 0.03424662724137306}, {'label': 'LABEL_1', 'score': 0.9657533764839172}], [{'label': 'LABEL_0', 'score': 0.00014180185098666698}, {'label': 'LABEL_1', 'score': 0.9998581409454346}], [{'label': 'LABEL_0', 'score': 4.694266681326553e-05}, {'label': 'LABEL_1', 'score': 0.999953031539917}], [{'label': 'LABEL_0', 'score': 9.507205686531961e-05}, {'label': 'LABEL_1', 'score': 0.9999048709869385}], [{'label': 'LABEL_0', 'score': 5.754925950895995e-05}, {'label': 'LABEL_1', 'score': 0.999942421913147}], [{'label': 'LABEL_0', 'score': 0.009255762211978436}, {'label': 'LABEL_1', 'score': 0.9907442927360535}], [{'label': 'LABEL_0', 'score': 5.864945342182182e-05}, {'label': 'LABEL_1', 'score': 0.999941349029541}], [{'label': 'LABEL_0', 'score': 0.4094657897949219}, {'label': 'LABEL_1', 'score': 0.5905342102050781}], [{'label': 'LABEL_0', 'score': 0.9978359341621399}, {'label': 'LABEL_1', 'score': 0.002164088189601898}], [{'label': 'LABEL_0', 'score': 0.0005825429107062519}, {'label': 'LABEL_1', 'score': 0.9994174242019653}], [{'label': 'LABEL_0', 'score': 5.4053445637691766e-05}, {'label': 'LABEL_1', 'score': 0.9999459981918335}], [{'label': 'LABEL_0', 'score': 0.0007575639756396413}, {'label': 'LABEL_1', 'score': 0.9992424249649048}], [{'label': 'LABEL_0', 'score': 0.08422526717185974}, {'label': 'LABEL_1', 'score': 0.9157747030258179}], [{'label': 'LABEL_0', 'score': 0.018818756565451622}, {'label': 'LABEL_1', 'score': 0.981181263923645}], [{'label': 'LABEL_0', 'score': 0.007495134603232145}, {'label': 'LABEL_1', 'score': 0.9925048351287842}], [{'label': 'LABEL_0', 'score': 0.00012584131036419421}, {'label': 'LABEL_1', 'score': 0.9998741149902344}], [{'label': 'LABEL_0', 'score': 4.6457826101686805e-05}, {'label': 'LABEL_1', 'score': 0.9999535083770752}], [{'label': 'LABEL_0', 'score': 0.9901304841041565}, {'label': 'LABEL_1', 'score': 0.009869509376585484}], [{'label': 'LABEL_0', 'score': 4.682744838646613e-05}, {'label': 'LABEL_1', 'score': 0.9999531507492065}], [{'label': 'LABEL_0', 'score': 0.9901432991027832}, {'label': 'LABEL_1', 'score': 0.00985663291066885}], [{'label': 'LABEL_0', 'score': 6.0883314290549606e-05}, {'label': 'LABEL_1', 'score': 0.9999390840530396}], [{'label': 'LABEL_0', 'score': 8.919789252104238e-05}, {'label': 'LABEL_1', 'score': 0.999910831451416}], [{'label': 'LABEL_0', 'score': 0.00010263334115734324}, {'label': 'LABEL_1', 'score': 0.9998973608016968}], [{'label': 'LABEL_0', 'score': 7.783680484862998e-05}, {'label': 'LABEL_1', 'score': 0.9999221563339233}], [{'label': 'LABEL_0', 'score': 5.1480932597769424e-05}, {'label': 'LABEL_1', 'score': 0.9999485015869141}], [{'label': 'LABEL_0', 'score': 0.0021833779755979776}, {'label': 'LABEL_1', 'score': 0.9978165626525879}], [{'label': 'LABEL_0', 'score': 7.927044498501346e-05}, {'label': 'LABEL_1', 'score': 0.9999207258224487}], [{'label': 'LABEL_0', 'score': 4.615022771758959e-05}, {'label': 'LABEL_1', 'score': 0.9999538660049438}], [{'label': 'LABEL_0', 'score': 0.8906235694885254}, {'label': 'LABEL_1', 'score': 0.1093764677643776}], [{'label': 'LABEL_0', 'score': 8.194370457204059e-05}, {'label': 'LABEL_1', 'score': 0.9999181032180786}], [{'label': 'LABEL_0', 'score': 0.009632979519665241}, {'label': 'LABEL_1', 'score': 0.99036705493927}], [{'label': 'LABEL_0', 'score': 0.0030449717305600643}, {'label': 'LABEL_1', 'score': 0.9969550371170044}], [{'label': 'LABEL_0', 'score': 4.839587563765235e-05}, {'label': 'LABEL_1', 'score': 0.9999516010284424}], [{'label': 'LABEL_0', 'score': 7.459768676199019e-05}, {'label': 'LABEL_1', 'score': 0.9999253749847412}], [{'label': 'LABEL_0', 'score': 5.0474518502596766e-05}, {'label': 'LABEL_1', 'score': 0.99994957447052}], [{'label': 'LABEL_0', 'score': 0.9952408075332642}, {'label': 'LABEL_1', 'score': 0.004759164061397314}], [{'label': 'LABEL_0', 'score': 0.05215436965227127}, {'label': 'LABEL_1', 'score': 0.9478455781936646}], [{'label': 'LABEL_0', 'score': 0.016396325081586838}, {'label': 'LABEL_1', 'score': 0.9836037158966064}], [{'label': 'LABEL_0', 'score': 4.4426826207200065e-05}, {'label': 'LABEL_1', 'score': 0.9999555349349976}], [{'label': 'LABEL_0', 'score': 0.003720634151250124}, {'label': 'LABEL_1', 'score': 0.9962794184684753}], [{'label': 'LABEL_0', 'score': 8.367418922716752e-05}, {'label': 'LABEL_1', 'score': 0.9999163150787354}], [{'label': 'LABEL_0', 'score': 0.003361886367201805}, {'label': 'LABEL_1', 'score': 0.9966380596160889}], [{'label': 'LABEL_0', 'score': 6.854028470115736e-05}, {'label': 'LABEL_1', 'score': 0.9999314546585083}], [{'label': 'LABEL_0', 'score': 0.001452085329219699}, {'label': 'LABEL_1', 'score': 0.9985478520393372}], [{'label': 'LABEL_0', 'score': 0.0001500274083809927}, {'label': 'LABEL_1', 'score': 0.9998499155044556}], [{'label': 'LABEL_0', 'score': 0.9887883067131042}, {'label': 'LABEL_1', 'score': 0.011211726814508438}], [{'label': 'LABEL_0', 'score': 0.00047341236495412886}, {'label': 'LABEL_1', 'score': 0.9995266199111938}], [{'label': 'LABEL_0', 'score': 0.012469266541302204}, {'label': 'LABEL_1', 'score': 0.9875307083129883}], [{'label': 'LABEL_0', 'score': 0.0022551226429641247}, {'label': 'LABEL_1', 'score': 0.9977449178695679}], [{'label': 'LABEL_0', 'score': 0.0018376503139734268}, {'label': 'LABEL_1', 'score': 0.9981623291969299}], [{'label': 'LABEL_0', 'score': 0.020053431391716003}, {'label': 'LABEL_1', 'score': 0.9799465537071228}], [{'label': 'LABEL_0', 'score': 5.7190532970707864e-05}, {'label': 'LABEL_1', 'score': 0.9999427795410156}], [{'label': 'LABEL_0', 'score': 8.823171083349735e-05}, {'label': 'LABEL_1', 'score': 0.9999117851257324}], [{'label': 'LABEL_0', 'score': 0.0015933001413941383}, {'label': 'LABEL_1', 'score': 0.998406708240509}], [{'label': 'LABEL_0', 'score': 4.871439159614965e-05}, {'label': 'LABEL_1', 'score': 0.9999512434005737}], [{'label': 'LABEL_0', 'score': 5.5865526519482955e-05}, {'label': 'LABEL_1', 'score': 0.9999440908432007}], [{'label': 'LABEL_0', 'score': 0.004863806068897247}, {'label': 'LABEL_1', 'score': 0.9951362013816833}], [{'label': 'LABEL_0', 'score': 0.01766148954629898}, {'label': 'LABEL_1', 'score': 0.9823384881019592}], [{'label': 'LABEL_0', 'score': 0.011388847604393959}, {'label': 'LABEL_1', 'score': 0.9886111617088318}], [{'label': 'LABEL_0', 'score': 0.02147030085325241}, {'label': 'LABEL_1', 'score': 0.978529691696167}], [{'label': 'LABEL_0', 'score': 5.30372308276128e-05}, {'label': 'LABEL_1', 'score': 0.9999469518661499}], [{'label': 'LABEL_0', 'score': 0.00014515151269733906}, {'label': 'LABEL_1', 'score': 0.9998548030853271}], [{'label': 'LABEL_0', 'score': 0.04340284690260887}, {'label': 'LABEL_1', 'score': 0.9565971493721008}], [{'label': 'LABEL_0', 'score': 0.00014317492605187}, {'label': 'LABEL_1', 'score': 0.9998568296432495}], [{'label': 'LABEL_0', 'score': 4.393501512822695e-05}, {'label': 'LABEL_1', 'score': 0.9999560117721558}], [{'label': 'LABEL_0', 'score': 0.006529080681502819}, {'label': 'LABEL_1', 'score': 0.9934709072113037}], [{'label': 'LABEL_0', 'score': 0.9989966750144958}, {'label': 'LABEL_1', 'score': 0.001003357581794262}], [{'label': 'LABEL_0', 'score': 7.499103958252817e-05}, {'label': 'LABEL_1', 'score': 0.9999250173568726}], [{'label': 'LABEL_0', 'score': 0.000319722545100376}, {'label': 'LABEL_1', 'score': 0.9996802806854248}], [{'label': 'LABEL_0', 'score': 4.5867840526625514e-05}, {'label': 'LABEL_1', 'score': 0.999954104423523}], [{'label': 'LABEL_0', 'score': 0.0006362861022353172}, {'label': 'LABEL_1', 'score': 0.9993637204170227}], [{'label': 'LABEL_0', 'score': 4.515529508353211e-05}, {'label': 'LABEL_1', 'score': 0.9999548196792603}], [{'label': 'LABEL_0', 'score': 4.8108238843269646e-05}, {'label': 'LABEL_1', 'score': 0.9999518394470215}], [{'label': 'LABEL_0', 'score': 7.626986916875467e-05}, {'label': 'LABEL_1', 'score': 0.9999237060546875}], [{'label': 'LABEL_0', 'score': 5.225924542173743e-05}, {'label': 'LABEL_1', 'score': 0.9999477863311768}], [{'label': 'LABEL_0', 'score': 0.8700944185256958}, {'label': 'LABEL_1', 'score': 0.12990553677082062}], [{'label': 'LABEL_0', 'score': 0.0009107078658416867}, {'label': 'LABEL_1', 'score': 0.999089241027832}], [{'label': 'LABEL_0', 'score': 0.021504029631614685}, {'label': 'LABEL_1', 'score': 0.9784960150718689}], [{'label': 'LABEL_0', 'score': 9.292625327361748e-05}, {'label': 'LABEL_1', 'score': 0.9999070167541504}], [{'label': 'LABEL_0', 'score': 0.6975327134132385}, {'label': 'LABEL_1', 'score': 0.3024672567844391}], [{'label': 'LABEL_0', 'score': 5.914528082939796e-05}, {'label': 'LABEL_1', 'score': 0.9999408721923828}], [{'label': 'LABEL_0', 'score': 0.999592125415802}, {'label': 'LABEL_1', 'score': 0.0004078898928128183}], [{'label': 'LABEL_0', 'score': 5.112433063914068e-05}, {'label': 'LABEL_1', 'score': 0.9999488592147827}], [{'label': 'LABEL_0', 'score': 4.558562795864418e-05}, {'label': 'LABEL_1', 'score': 0.9999544620513916}], [{'label': 'LABEL_0', 'score': 7.965698023326695e-05}, {'label': 'LABEL_1', 'score': 0.9999203681945801}], [{'label': 'LABEL_0', 'score': 0.0018567919032648206}, {'label': 'LABEL_1', 'score': 0.998143196105957}], [{'label': 'LABEL_0', 'score': 0.019311808049678802}, {'label': 'LABEL_1', 'score': 0.980688214302063}], [{'label': 'LABEL_0', 'score': 4.6753466449445114e-05}, {'label': 'LABEL_1', 'score': 0.9999532699584961}], [{'label': 'LABEL_0', 'score': 6.0282134654698893e-05}, {'label': 'LABEL_1', 'score': 0.9999396800994873}], [{'label': 'LABEL_0', 'score': 0.0018799171084538102}, {'label': 'LABEL_1', 'score': 0.9981200098991394}], [{'label': 'LABEL_0', 'score': 0.0021373180206865072}, {'label': 'LABEL_1', 'score': 0.9978626370429993}], [{'label': 'LABEL_0', 'score': 9.95733353192918e-05}, {'label': 'LABEL_1', 'score': 0.9999004602432251}], [{'label': 'LABEL_0', 'score': 0.00010456352174514905}, {'label': 'LABEL_1', 'score': 0.999895453453064}], [{'label': 'LABEL_0', 'score': 0.026827923953533173}, {'label': 'LABEL_1', 'score': 0.9731720685958862}], [{'label': 'LABEL_0', 'score': 0.000644940766505897}, {'label': 'LABEL_1', 'score': 0.9993550181388855}], [{'label': 'LABEL_0', 'score': 4.7618937969673425e-05}, {'label': 'LABEL_1', 'score': 0.9999524354934692}], [{'label': 'LABEL_0', 'score': 0.0006192555883899331}, {'label': 'LABEL_1', 'score': 0.9993807077407837}], [{'label': 'LABEL_0', 'score': 0.0003030623774975538}, {'label': 'LABEL_1', 'score': 0.9996969699859619}], [{'label': 'LABEL_0', 'score': 0.006170789711177349}, {'label': 'LABEL_1', 'score': 0.9938291907310486}], [{'label': 'LABEL_0', 'score': 0.007519622333347797}, {'label': 'LABEL_1', 'score': 0.9924803972244263}], [{'label': 'LABEL_0', 'score': 5.810035872855224e-05}, {'label': 'LABEL_1', 'score': 0.9999419450759888}], [{'label': 'LABEL_0', 'score': 6.683273386443034e-05}, {'label': 'LABEL_1', 'score': 0.999933123588562}], [{'label': 'LABEL_0', 'score': 0.060857586562633514}, {'label': 'LABEL_1', 'score': 0.9391424059867859}], [{'label': 'LABEL_0', 'score': 0.0015592373674735427}, {'label': 'LABEL_1', 'score': 0.9984408020973206}], [{'label': 'LABEL_0', 'score': 4.9665301048662513e-05}, {'label': 'LABEL_1', 'score': 0.9999502897262573}], [{'label': 'LABEL_0', 'score': 4.768137659993954e-05}, {'label': 'LABEL_1', 'score': 0.9999523162841797}], [{'label': 'LABEL_0', 'score': 0.0003315519425086677}, {'label': 'LABEL_1', 'score': 0.9996684789657593}], [{'label': 'LABEL_0', 'score': 4.526472184807062e-05}, {'label': 'LABEL_1', 'score': 0.9999547004699707}], [{'label': 'LABEL_0', 'score': 0.03942299261689186}, {'label': 'LABEL_1', 'score': 0.9605770707130432}], [{'label': 'LABEL_0', 'score': 9.40656682359986e-05}, {'label': 'LABEL_1', 'score': 0.9999059438705444}], [{'label': 'LABEL_0', 'score': 5.644800330628641e-05}, {'label': 'LABEL_1', 'score': 0.9999434947967529}], [{'label': 'LABEL_0', 'score': 0.00011875786003656685}, {'label': 'LABEL_1', 'score': 0.9998812675476074}], [{'label': 'LABEL_0', 'score': 0.001977840205654502}, {'label': 'LABEL_1', 'score': 0.998022198677063}], [{'label': 'LABEL_0', 'score': 0.025210166350007057}, {'label': 'LABEL_1', 'score': 0.9747897982597351}], [{'label': 'LABEL_0', 'score': 0.00393908005207777}, {'label': 'LABEL_1', 'score': 0.9960609078407288}], [{'label': 'LABEL_0', 'score': 5.116993634146638e-05}, {'label': 'LABEL_1', 'score': 0.9999488592147827}], [{'label': 'LABEL_0', 'score': 5.513599171536043e-05}, {'label': 'LABEL_1', 'score': 0.999944806098938}], [{'label': 'LABEL_0', 'score': 5.155634062248282e-05}, {'label': 'LABEL_1', 'score': 0.9999483823776245}], [{'label': 'LABEL_0', 'score': 5.347418846213259e-05}, {'label': 'LABEL_1', 'score': 0.9999464750289917}], [{'label': 'LABEL_0', 'score': 4.553600592771545e-05}, {'label': 'LABEL_1', 'score': 0.9999544620513916}], [{'label': 'LABEL_0', 'score': 4.645928493118845e-05}, {'label': 'LABEL_1', 'score': 0.9999535083770752}], [{'label': 'LABEL_0', 'score': 0.003316102083772421}, {'label': 'LABEL_1', 'score': 0.9966838955879211}], [{'label': 'LABEL_0', 'score': 4.8909903853200376e-05}, {'label': 'LABEL_1', 'score': 0.9999511241912842}], [{'label': 'LABEL_0', 'score': 0.00015529213123954833}, {'label': 'LABEL_1', 'score': 0.9998446702957153}], [{'label': 'LABEL_0', 'score': 4.543433533399366e-05}, {'label': 'LABEL_1', 'score': 0.9999545812606812}], [{'label': 'LABEL_0', 'score': 0.14684012532234192}, {'label': 'LABEL_1', 'score': 0.8531599044799805}], [{'label': 'LABEL_0', 'score': 0.00012530774984043092}, {'label': 'LABEL_1', 'score': 0.9998747110366821}], [{'label': 'LABEL_0', 'score': 6.773885252187029e-05}, {'label': 'LABEL_1', 'score': 0.9999322891235352}], [{'label': 'LABEL_0', 'score': 5.929222606937401e-05}, {'label': 'LABEL_1', 'score': 0.9999407529830933}], [{'label': 'LABEL_0', 'score': 0.0033843782730400562}, {'label': 'LABEL_1', 'score': 0.9966155886650085}], [{'label': 'LABEL_0', 'score': 4.5203512854641303e-05}, {'label': 'LABEL_1', 'score': 0.9999548196792603}], [{'label': 'LABEL_0', 'score': 0.05726395547389984}, {'label': 'LABEL_1', 'score': 0.9427360892295837}], [{'label': 'LABEL_0', 'score': 5.642567703034729e-05}, {'label': 'LABEL_1', 'score': 0.9999436140060425}], [{'label': 'LABEL_0', 'score': 0.0017772475257515907}, {'label': 'LABEL_1', 'score': 0.9982227683067322}], [{'label': 'LABEL_0', 'score': 4.9093549023382366e-05}, {'label': 'LABEL_1', 'score': 0.9999508857727051}], [{'label': 'LABEL_0', 'score': 0.9777772426605225}, {'label': 'LABEL_1', 'score': 0.022222725674510002}], [{'label': 'LABEL_0', 'score': 0.0002606748603284359}, {'label': 'LABEL_1', 'score': 0.9997393488883972}], [{'label': 'LABEL_0', 'score': 0.0004685917228925973}, {'label': 'LABEL_1', 'score': 0.9995313882827759}], [{'label': 'LABEL_0', 'score': 5.014190173824318e-05}, {'label': 'LABEL_1', 'score': 0.9999498128890991}], [{'label': 'LABEL_0', 'score': 0.6745764017105103}, {'label': 'LABEL_1', 'score': 0.32542359828948975}], [{'label': 'LABEL_0', 'score': 5.5645505199208856e-05}, {'label': 'LABEL_1', 'score': 0.9999443292617798}], [{'label': 'LABEL_0', 'score': 5.197495556785725e-05}, {'label': 'LABEL_1', 'score': 0.9999480247497559}], [{'label': 'LABEL_0', 'score': 6.357619713526219e-05}, {'label': 'LABEL_1', 'score': 0.9999364614486694}], [{'label': 'LABEL_0', 'score': 0.004014613106846809}, {'label': 'LABEL_1', 'score': 0.9959853291511536}], [{'label': 'LABEL_0', 'score': 0.01889517717063427}, {'label': 'LABEL_1', 'score': 0.9811047911643982}], [{'label': 'LABEL_0', 'score': 0.9706145524978638}, {'label': 'LABEL_1', 'score': 0.029385434463620186}], [{'label': 'LABEL_0', 'score': 0.01564536616206169}, {'label': 'LABEL_1', 'score': 0.9843546152114868}], [{'label': 'LABEL_0', 'score': 4.4842039642389864e-05}, {'label': 'LABEL_1', 'score': 0.9999551773071289}], [{'label': 'LABEL_0', 'score': 6.048857903806493e-05}, {'label': 'LABEL_1', 'score': 0.9999395608901978}], [{'label': 'LABEL_0', 'score': 0.7187996506690979}, {'label': 'LABEL_1', 'score': 0.2812004089355469}], [{'label': 'LABEL_0', 'score': 0.00039767916314303875}, {'label': 'LABEL_1', 'score': 0.9996023774147034}], [{'label': 'LABEL_0', 'score': 0.0013300717109814286}, {'label': 'LABEL_1', 'score': 0.9986699819564819}], [{'label': 'LABEL_0', 'score': 0.0001034914021147415}, {'label': 'LABEL_1', 'score': 0.9998965263366699}], [{'label': 'LABEL_0', 'score': 6.929111259523779e-05}, {'label': 'LABEL_1', 'score': 0.999930739402771}], [{'label': 'LABEL_0', 'score': 0.00022298222756944597}, {'label': 'LABEL_1', 'score': 0.9997770190238953}], [{'label': 'LABEL_0', 'score': 0.0004711597866844386}, {'label': 'LABEL_1', 'score': 0.9995288848876953}], [{'label': 'LABEL_0', 'score': 0.009335992857813835}, {'label': 'LABEL_1', 'score': 0.990664005279541}], [{'label': 'LABEL_0', 'score': 4.7855846787570044e-05}, {'label': 'LABEL_1', 'score': 0.9999521970748901}], [{'label': 'LABEL_0', 'score': 6.075206329114735e-05}, {'label': 'LABEL_1', 'score': 0.9999392032623291}], [{'label': 'LABEL_0', 'score': 0.2929515838623047}, {'label': 'LABEL_1', 'score': 0.7070484161376953}], [{'label': 'LABEL_0', 'score': 0.00025203844415955245}, {'label': 'LABEL_1', 'score': 0.9997479319572449}], [{'label': 'LABEL_0', 'score': 0.15022249519824982}, {'label': 'LABEL_1', 'score': 0.8497774600982666}], [{'label': 'LABEL_0', 'score': 5.1232578698545694e-05}, {'label': 'LABEL_1', 'score': 0.9999487400054932}], [{'label': 'LABEL_0', 'score': 0.00015359620738308877}, {'label': 'LABEL_1', 'score': 0.999846339225769}], [{'label': 'LABEL_0', 'score': 0.368512362241745}, {'label': 'LABEL_1', 'score': 0.6314876079559326}], [{'label': 'LABEL_0', 'score': 0.25656017661094666}, {'label': 'LABEL_1', 'score': 0.7434398531913757}], [{'label': 'LABEL_0', 'score': 0.0003663793613668531}, {'label': 'LABEL_1', 'score': 0.9996335506439209}], [{'label': 'LABEL_0', 'score': 0.00011886128049809486}, {'label': 'LABEL_1', 'score': 0.9998811483383179}], [{'label': 'LABEL_0', 'score': 4.711358269560151e-05}, {'label': 'LABEL_1', 'score': 0.9999529123306274}], [{'label': 'LABEL_0', 'score': 0.0028735222294926643}, {'label': 'LABEL_1', 'score': 0.9971265196800232}], [{'label': 'LABEL_0', 'score': 0.9997715353965759}, {'label': 'LABEL_1', 'score': 0.00022849820379633456}], [{'label': 'LABEL_0', 'score': 4.5717795728705823e-05}, {'label': 'LABEL_1', 'score': 0.9999542236328125}], [{'label': 'LABEL_0', 'score': 0.8302291035652161}, {'label': 'LABEL_1', 'score': 0.16977088153362274}], [{'label': 'LABEL_0', 'score': 0.0025379755534231663}, {'label': 'LABEL_1', 'score': 0.9974620342254639}], [{'label': 'LABEL_0', 'score': 4.700367935583927e-05}, {'label': 'LABEL_1', 'score': 0.999953031539917}], [{'label': 'LABEL_0', 'score': 0.0035710232332348824}, {'label': 'LABEL_1', 'score': 0.9964290261268616}], [{'label': 'LABEL_0', 'score': 0.8426332473754883}, {'label': 'LABEL_1', 'score': 0.1573667824268341}], [{'label': 'LABEL_0', 'score': 0.3319956064224243}, {'label': 'LABEL_1', 'score': 0.6680043935775757}], [{'label': 'LABEL_0', 'score': 0.01351555809378624}, {'label': 'LABEL_1', 'score': 0.9864844679832458}], [{'label': 'LABEL_0', 'score': 0.0001286647457163781}, {'label': 'LABEL_1', 'score': 0.9998713731765747}], [{'label': 'LABEL_0', 'score': 0.002573351375758648}, {'label': 'LABEL_1', 'score': 0.9974265694618225}], [{'label': 'LABEL_0', 'score': 4.44491597590968e-05}, {'label': 'LABEL_1', 'score': 0.9999555349349976}], [{'label': 'LABEL_0', 'score': 0.005913047585636377}, {'label': 'LABEL_1', 'score': 0.9940869808197021}], [{'label': 'LABEL_0', 'score': 0.0024691643193364143}, {'label': 'LABEL_1', 'score': 0.9975308775901794}], [{'label': 'LABEL_0', 'score': 4.493365122471005e-05}, {'label': 'LABEL_1', 'score': 0.9999550580978394}], [{'label': 'LABEL_0', 'score': 4.601290129357949e-05}, {'label': 'LABEL_1', 'score': 0.9999539852142334}], [{'label': 'LABEL_0', 'score': 0.003143535228446126}, {'label': 'LABEL_1', 'score': 0.9968564510345459}], [{'label': 'LABEL_0', 'score': 8.304097718792036e-05}, {'label': 'LABEL_1', 'score': 0.9999169111251831}], [{'label': 'LABEL_0', 'score': 6.321056571323425e-05}, {'label': 'LABEL_1', 'score': 0.9999368190765381}], [{'label': 'LABEL_0', 'score': 0.1308339685201645}, {'label': 'LABEL_1', 'score': 0.8691660165786743}], [{'label': 'LABEL_0', 'score': 0.036732230335474014}, {'label': 'LABEL_1', 'score': 0.9632678031921387}], [{'label': 'LABEL_0', 'score': 5.4343494412023574e-05}, {'label': 'LABEL_1', 'score': 0.9999456405639648}], [{'label': 'LABEL_0', 'score': 0.004987160675227642}, {'label': 'LABEL_1', 'score': 0.9950128197669983}], [{'label': 'LABEL_0', 'score': 0.00018440894200466573}, {'label': 'LABEL_1', 'score': 0.9998156428337097}], [{'label': 'LABEL_0', 'score': 0.00015052132948767394}, {'label': 'LABEL_1', 'score': 0.9998494386672974}], [{'label': 'LABEL_0', 'score': 0.0018658085027709603}, {'label': 'LABEL_1', 'score': 0.998134195804596}], [{'label': 'LABEL_0', 'score': 5.1963215810246766e-05}, {'label': 'LABEL_1', 'score': 0.9999480247497559}], [{'label': 'LABEL_0', 'score': 0.000122291618026793}, {'label': 'LABEL_1', 'score': 0.9998776912689209}], [{'label': 'LABEL_0', 'score': 0.01191769354045391}, {'label': 'LABEL_1', 'score': 0.9880822896957397}], [{'label': 'LABEL_0', 'score': 0.011173308826982975}, {'label': 'LABEL_1', 'score': 0.9888266324996948}], [{'label': 'LABEL_0', 'score': 6.555677828146145e-05}, {'label': 'LABEL_1', 'score': 0.9999344348907471}], [{'label': 'LABEL_0', 'score': 0.00040464269113726914}, {'label': 'LABEL_1', 'score': 0.9995953440666199}], [{'label': 'LABEL_0', 'score': 5.1415197958704084e-05}, {'label': 'LABEL_1', 'score': 0.9999486207962036}], [{'label': 'LABEL_0', 'score': 5.142201189300977e-05}, {'label': 'LABEL_1', 'score': 0.9999486207962036}], [{'label': 'LABEL_0', 'score': 0.014311710372567177}, {'label': 'LABEL_1', 'score': 0.985688328742981}], [{'label': 'LABEL_0', 'score': 0.00010069268319057301}, {'label': 'LABEL_1', 'score': 0.9998992681503296}], [{'label': 'LABEL_0', 'score': 0.08744002878665924}, {'label': 'LABEL_1', 'score': 0.912559986114502}], [{'label': 'LABEL_0', 'score': 0.0022731784265488386}, {'label': 'LABEL_1', 'score': 0.9977268576622009}], [{'label': 'LABEL_0', 'score': 0.9831620454788208}, {'label': 'LABEL_1', 'score': 0.01683792658150196}], [{'label': 'LABEL_0', 'score': 6.955942808417603e-05}, {'label': 'LABEL_1', 'score': 0.9999303817749023}], [{'label': 'LABEL_0', 'score': 0.00265509937889874}, {'label': 'LABEL_1', 'score': 0.9973449110984802}], [{'label': 'LABEL_0', 'score': 0.0018381447298452258}, {'label': 'LABEL_1', 'score': 0.9981618523597717}], [{'label': 'LABEL_0', 'score': 0.253815621137619}, {'label': 'LABEL_1', 'score': 0.7461844086647034}], [{'label': 'LABEL_0', 'score': 0.9902087450027466}, {'label': 'LABEL_1', 'score': 0.009791204705834389}], [{'label': 'LABEL_0', 'score': 0.9998669624328613}, {'label': 'LABEL_1', 'score': 0.0001330717495875433}], [{'label': 'LABEL_0', 'score': 0.0001285499456571415}, {'label': 'LABEL_1', 'score': 0.9998714923858643}], [{'label': 'LABEL_0', 'score': 4.656915916712023e-05}, {'label': 'LABEL_1', 'score': 0.9999533891677856}], [{'label': 'LABEL_0', 'score': 0.9789997339248657}, {'label': 'LABEL_1', 'score': 0.021000336855649948}], [{'label': 'LABEL_0', 'score': 0.0011163982562720776}, {'label': 'LABEL_1', 'score': 0.9988836646080017}], [{'label': 'LABEL_0', 'score': 0.0001880823401734233}, {'label': 'LABEL_1', 'score': 0.9998119473457336}], [{'label': 'LABEL_0', 'score': 4.887661270913668e-05}, {'label': 'LABEL_1', 'score': 0.9999511241912842}], [{'label': 'LABEL_0', 'score': 0.9968834519386292}, {'label': 'LABEL_1', 'score': 0.0031164998654276133}], [{'label': 'LABEL_0', 'score': 0.019784649834036827}, {'label': 'LABEL_1', 'score': 0.980215311050415}], [{'label': 'LABEL_0', 'score': 4.619980973075144e-05}, {'label': 'LABEL_1', 'score': 0.9999537467956543}], [{'label': 'LABEL_0', 'score': 0.009029963985085487}, {'label': 'LABEL_1', 'score': 0.9909700155258179}], [{'label': 'LABEL_0', 'score': 0.001295997528359294}, {'label': 'LABEL_1', 'score': 0.9987039566040039}], [{'label': 'LABEL_0', 'score': 7.870102854212746e-05}, {'label': 'LABEL_1', 'score': 0.9999213218688965}], [{'label': 'LABEL_0', 'score': 0.00012875310494564474}, {'label': 'LABEL_1', 'score': 0.9998712539672852}], [{'label': 'LABEL_0', 'score': 0.0002973982773255557}, {'label': 'LABEL_1', 'score': 0.9997026324272156}], [{'label': 'LABEL_0', 'score': 0.025600062683224678}, {'label': 'LABEL_1', 'score': 0.9743999242782593}], [{'label': 'LABEL_0', 'score': 0.05908847600221634}, {'label': 'LABEL_1', 'score': 0.9409114718437195}], [{'label': 'LABEL_0', 'score': 0.06029461696743965}, {'label': 'LABEL_1', 'score': 0.9397053718566895}], [{'label': 'LABEL_0', 'score': 4.7291116061387584e-05}, {'label': 'LABEL_1', 'score': 0.9999526739120483}], [{'label': 'LABEL_0', 'score': 6.090462193242274e-05}, {'label': 'LABEL_1', 'score': 0.9999390840530396}], [{'label': 'LABEL_0', 'score': 0.06142454966902733}, {'label': 'LABEL_1', 'score': 0.9385754466056824}], [{'label': 'LABEL_0', 'score': 4.492679363465868e-05}, {'label': 'LABEL_1', 'score': 0.9999550580978394}], [{'label': 'LABEL_0', 'score': 0.00010628079326124862}, {'label': 'LABEL_1', 'score': 0.9998936653137207}], [{'label': 'LABEL_0', 'score': 7.058176561258733e-05}, {'label': 'LABEL_1', 'score': 0.9999294281005859}], [{'label': 'LABEL_0', 'score': 8.281623013317585e-05}, {'label': 'LABEL_1', 'score': 0.9999171495437622}], [{'label': 'LABEL_0', 'score': 0.9778463244438171}, {'label': 'LABEL_1', 'score': 0.0221537034958601}], [{'label': 'LABEL_0', 'score': 0.01989707536995411}, {'label': 'LABEL_1', 'score': 0.9801029562950134}], [{'label': 'LABEL_0', 'score': 0.9570339322090149}, {'label': 'LABEL_1', 'score': 0.04296604171395302}], [{'label': 'LABEL_0', 'score': 0.00018663941591512412}, {'label': 'LABEL_1', 'score': 0.9998133778572083}], [{'label': 'LABEL_0', 'score': 0.002790728583931923}, {'label': 'LABEL_1', 'score': 0.9972092509269714}], [{'label': 'LABEL_0', 'score': 6.809701153542846e-05}, {'label': 'LABEL_1', 'score': 0.9999319314956665}], [{'label': 'LABEL_0', 'score': 0.6981069445610046}, {'label': 'LABEL_1', 'score': 0.301893025636673}], [{'label': 'LABEL_0', 'score': 0.9999555349349976}, {'label': 'LABEL_1', 'score': 4.4491396693047136e-05}], [{'label': 'LABEL_0', 'score': 0.9998884201049805}, {'label': 'LABEL_1', 'score': 0.00011152283695992082}], [{'label': 'LABEL_0', 'score': 0.9999455213546753}, {'label': 'LABEL_1', 'score': 5.449305899674073e-05}], [{'label': 'LABEL_0', 'score': 0.9977262616157532}, {'label': 'LABEL_1', 'score': 0.002273743972182274}], [{'label': 'LABEL_0', 'score': 0.99957674741745}, {'label': 'LABEL_1', 'score': 0.0004232293867971748}], [{'label': 'LABEL_0', 'score': 0.5793789625167847}, {'label': 'LABEL_1', 'score': 0.42062097787857056}], [{'label': 'LABEL_0', 'score': 0.9797163605690002}, {'label': 'LABEL_1', 'score': 0.020283648744225502}], [{'label': 'LABEL_0', 'score': 0.9999486207962036}, {'label': 'LABEL_1', 'score': 5.13687809871044e-05}], [{'label': 'LABEL_0', 'score': 0.9999562501907349}, {'label': 'LABEL_1', 'score': 4.374896889203228e-05}], [{'label': 'LABEL_0', 'score': 0.9999505281448364}, {'label': 'LABEL_1', 'score': 4.945258115185425e-05}], [{'label': 'LABEL_0', 'score': 0.9992685914039612}, {'label': 'LABEL_1', 'score': 0.0007314545218832791}], [{'label': 'LABEL_0', 'score': 0.999948263168335}, {'label': 'LABEL_1', 'score': 5.178947321837768e-05}], [{'label': 'LABEL_0', 'score': 0.9999432563781738}, {'label': 'LABEL_1', 'score': 5.6693086662562564e-05}], [{'label': 'LABEL_0', 'score': 0.9999512434005737}, {'label': 'LABEL_1', 'score': 4.8778449126984924e-05}], [{'label': 'LABEL_0', 'score': 0.9999583959579468}, {'label': 'LABEL_1', 'score': 4.16529510403052e-05}], [{'label': 'LABEL_0', 'score': 0.9999586343765259}, {'label': 'LABEL_1', 'score': 4.1396895539946854e-05}], [{'label': 'LABEL_0', 'score': 0.9999611377716064}, {'label': 'LABEL_1', 'score': 3.881156226270832e-05}], [{'label': 'LABEL_0', 'score': 0.999953031539917}, {'label': 'LABEL_1', 'score': 4.698526026913896e-05}], [{'label': 'LABEL_0', 'score': 0.9998831748962402}, {'label': 'LABEL_1', 'score': 0.00011680879106279463}], [{'label': 'LABEL_0', 'score': 0.9997439980506897}, {'label': 'LABEL_1', 'score': 0.00025594711769372225}], [{'label': 'LABEL_0', 'score': 0.99991774559021}, {'label': 'LABEL_1', 'score': 8.22517613414675e-05}], [{'label': 'LABEL_0', 'score': 0.9999505281448364}, {'label': 'LABEL_1', 'score': 4.946102490066551e-05}], [{'label': 'LABEL_0', 'score': 0.00037424181937240064}, {'label': 'LABEL_1', 'score': 0.9996256828308105}], [{'label': 'LABEL_0', 'score': 0.9999175071716309}, {'label': 'LABEL_1', 'score': 8.248080121120438e-05}], [{'label': 'LABEL_0', 'score': 0.11649186164140701}, {'label': 'LABEL_1', 'score': 0.8835082054138184}], [{'label': 'LABEL_0', 'score': 0.9989897608757019}, {'label': 'LABEL_1', 'score': 0.0010101738153025508}], [{'label': 'LABEL_0', 'score': 0.9994951486587524}, {'label': 'LABEL_1', 'score': 0.0005048824241384864}], [{'label': 'LABEL_0', 'score': 0.9999431371688843}, {'label': 'LABEL_1', 'score': 5.689141835318878e-05}], [{'label': 'LABEL_0', 'score': 0.9995114803314209}, {'label': 'LABEL_1', 'score': 0.0004884661757387221}], [{'label': 'LABEL_0', 'score': 0.9999570846557617}, {'label': 'LABEL_1', 'score': 4.294465543352999e-05}], [{'label': 'LABEL_0', 'score': 0.9999547004699707}, {'label': 'LABEL_1', 'score': 4.531318336375989e-05}], [{'label': 'LABEL_0', 'score': 0.999885082244873}, {'label': 'LABEL_1', 'score': 0.00011485142022138461}], [{'label': 'LABEL_0', 'score': 0.9768412709236145}, {'label': 'LABEL_1', 'score': 0.02315869741141796}], [{'label': 'LABEL_0', 'score': 0.9891440272331238}, {'label': 'LABEL_1', 'score': 0.01085600908845663}], [{'label': 'LABEL_0', 'score': 0.9999265670776367}, {'label': 'LABEL_1', 'score': 7.348601502599195e-05}], [{'label': 'LABEL_0', 'score': 0.9994196891784668}, {'label': 'LABEL_1', 'score': 0.0005803168169222772}], [{'label': 'LABEL_0', 'score': 0.9999278783798218}, {'label': 'LABEL_1', 'score': 7.209534669527784e-05}], [{'label': 'LABEL_0', 'score': 0.9998797178268433}, {'label': 'LABEL_1', 'score': 0.00012024352326989174}], [{'label': 'LABEL_0', 'score': 0.9999587535858154}, {'label': 'LABEL_1', 'score': 4.1286075429525226e-05}], [{'label': 'LABEL_0', 'score': 0.9593155384063721}, {'label': 'LABEL_1', 'score': 0.04068446531891823}], [{'label': 'LABEL_0', 'score': 0.9999579191207886}, {'label': 'LABEL_1', 'score': 4.208066820865497e-05}], [{'label': 'LABEL_0', 'score': 0.9999402761459351}, {'label': 'LABEL_1', 'score': 5.9720889112213627e-05}], [{'label': 'LABEL_0', 'score': 0.9998834133148193}, {'label': 'LABEL_1', 'score': 0.00011661047756206244}], [{'label': 'LABEL_0', 'score': 0.9999285936355591}, {'label': 'LABEL_1', 'score': 7.136387284845114e-05}], [{'label': 'LABEL_0', 'score': 0.9999456405639648}, {'label': 'LABEL_1', 'score': 5.4383308452088386e-05}], [{'label': 'LABEL_0', 'score': 0.9999599456787109}, {'label': 'LABEL_1', 'score': 4.006400195066817e-05}], [{'label': 'LABEL_0', 'score': 0.9996646642684937}, {'label': 'LABEL_1', 'score': 0.00033534469548612833}], [{'label': 'LABEL_0', 'score': 0.999955415725708}, {'label': 'LABEL_1', 'score': 4.458177863853052e-05}], [{'label': 'LABEL_0', 'score': 0.9999364614486694}, {'label': 'LABEL_1', 'score': 6.35586038697511e-05}], [{'label': 'LABEL_0', 'score': 0.9510453343391418}, {'label': 'LABEL_1', 'score': 0.04895465448498726}], [{'label': 'LABEL_0', 'score': 0.9999274015426636}, {'label': 'LABEL_1', 'score': 7.256215758388862e-05}], [{'label': 'LABEL_0', 'score': 0.9999600648880005}, {'label': 'LABEL_1', 'score': 3.9977749111130834e-05}], [{'label': 'LABEL_0', 'score': 0.9999327659606934}, {'label': 'LABEL_1', 'score': 6.726745777996257e-05}], [{'label': 'LABEL_0', 'score': 0.9999446868896484}, {'label': 'LABEL_1', 'score': 5.525389497051947e-05}], [{'label': 'LABEL_0', 'score': 0.9999333620071411}, {'label': 'LABEL_1', 'score': 6.667925481451675e-05}], [{'label': 'LABEL_0', 'score': 0.9999600648880005}, {'label': 'LABEL_1', 'score': 3.9909711631480604e-05}], [{'label': 'LABEL_0', 'score': 0.9999544620513916}, {'label': 'LABEL_1', 'score': 4.5517987018683925e-05}], [{'label': 'LABEL_0', 'score': 0.9999017715454102}, {'label': 'LABEL_1', 'score': 9.825819142861292e-05}], [{'label': 'LABEL_0', 'score': 0.9999357461929321}, {'label': 'LABEL_1', 'score': 6.42326267552562e-05}], [{'label': 'LABEL_0', 'score': 0.9999353885650635}, {'label': 'LABEL_1', 'score': 6.464686885010451e-05}], [{'label': 'LABEL_0', 'score': 0.9999517202377319}, {'label': 'LABEL_1', 'score': 4.8298363253707066e-05}], [{'label': 'LABEL_0', 'score': 0.9967066645622253}, {'label': 'LABEL_1', 'score': 0.003293348476290703}], [{'label': 'LABEL_0', 'score': 0.9999433755874634}, {'label': 'LABEL_1', 'score': 5.6596829381305724e-05}], [{'label': 'LABEL_0', 'score': 0.9999513626098633}, {'label': 'LABEL_1', 'score': 4.862324203713797e-05}], [{'label': 'LABEL_0', 'score': 0.999910831451416}, {'label': 'LABEL_1', 'score': 8.921916742110625e-05}], [{'label': 'LABEL_0', 'score': 0.9999493360519409}, {'label': 'LABEL_1', 'score': 5.069961480330676e-05}], [{'label': 'LABEL_0', 'score': 0.999471127986908}, {'label': 'LABEL_1', 'score': 0.00052888278150931}], [{'label': 'LABEL_0', 'score': 0.01838390901684761}, {'label': 'LABEL_1', 'score': 0.9816160202026367}], [{'label': 'LABEL_0', 'score': 0.9998869895935059}, {'label': 'LABEL_1', 'score': 0.00011303382780170068}], [{'label': 'LABEL_0', 'score': 0.9998164772987366}, {'label': 'LABEL_1', 'score': 0.0001836048613768071}], [{'label': 'LABEL_0', 'score': 0.9999479055404663}, {'label': 'LABEL_1', 'score': 5.211472307564691e-05}], [{'label': 'LABEL_0', 'score': 0.9045615196228027}, {'label': 'LABEL_1', 'score': 0.09543845057487488}], [{'label': 'LABEL_0', 'score': 0.999953031539917}, {'label': 'LABEL_1', 'score': 4.701802754425444e-05}], [{'label': 'LABEL_0', 'score': 0.9999560117721558}, {'label': 'LABEL_1', 'score': 4.404224091558717e-05}], [{'label': 'LABEL_0', 'score': 0.00020819230121560395}, {'label': 'LABEL_1', 'score': 0.9997918009757996}], [{'label': 'LABEL_0', 'score': 0.9999294281005859}, {'label': 'LABEL_1', 'score': 7.056265894789249e-05}], [{'label': 'LABEL_0', 'score': 0.9999583959579468}, {'label': 'LABEL_1', 'score': 4.1628925828263164e-05}], [{'label': 'LABEL_0', 'score': 0.9998733997344971}, {'label': 'LABEL_1', 'score': 0.00012662891822401434}], [{'label': 'LABEL_0', 'score': 0.0006852091755717993}, {'label': 'LABEL_1', 'score': 0.9993147850036621}], [{'label': 'LABEL_0', 'score': 0.020813683047890663}, {'label': 'LABEL_1', 'score': 0.9791863560676575}], [{'label': 'LABEL_0', 'score': 0.9994949102401733}, {'label': 'LABEL_1', 'score': 0.0005050519830547273}], [{'label': 'LABEL_0', 'score': 0.0005630429950542748}, {'label': 'LABEL_1', 'score': 0.9994369149208069}], [{'label': 'LABEL_0', 'score': 0.9999535083770752}, {'label': 'LABEL_1', 'score': 4.645232911570929e-05}], [{'label': 'LABEL_0', 'score': 0.9976744055747986}, {'label': 'LABEL_1', 'score': 0.0023255820851773024}], [{'label': 'LABEL_0', 'score': 0.9181817770004272}, {'label': 'LABEL_1', 'score': 0.08181818574666977}], [{'label': 'LABEL_0', 'score': 0.9999418258666992}, {'label': 'LABEL_1', 'score': 5.8117537264479324e-05}], [{'label': 'LABEL_0', 'score': 0.9999572038650513}, {'label': 'LABEL_1', 'score': 4.284395254217088e-05}], [{'label': 'LABEL_0', 'score': 0.9260537624359131}, {'label': 'LABEL_1', 'score': 0.07394623011350632}], [{'label': 'LABEL_0', 'score': 0.9998561143875122}, {'label': 'LABEL_1', 'score': 0.00014389112766366452}], [{'label': 'LABEL_0', 'score': 0.998705267906189}, {'label': 'LABEL_1', 'score': 0.0012946731876581907}], [{'label': 'LABEL_0', 'score': 0.9999566078186035}, {'label': 'LABEL_1', 'score': 4.336491474532522e-05}], [{'label': 'LABEL_0', 'score': 0.9998025298118591}, {'label': 'LABEL_1', 'score': 0.0001974919141503051}], [{'label': 'LABEL_0', 'score': 0.2647554576396942}, {'label': 'LABEL_1', 'score': 0.7352445721626282}], [{'label': 'LABEL_0', 'score': 0.03152379393577576}, {'label': 'LABEL_1', 'score': 0.9684762358665466}], [{'label': 'LABEL_0', 'score': 0.9998542070388794}, {'label': 'LABEL_1', 'score': 0.0001457645557820797}], [{'label': 'LABEL_0', 'score': 0.7529878616333008}, {'label': 'LABEL_1', 'score': 0.24701213836669922}], [{'label': 'LABEL_0', 'score': 0.9999516010284424}, {'label': 'LABEL_1', 'score': 4.836159496335313e-05}], [{'label': 'LABEL_0', 'score': 0.9999216794967651}, {'label': 'LABEL_1', 'score': 7.835991709725931e-05}], [{'label': 'LABEL_0', 'score': 0.9999524354934692}, {'label': 'LABEL_1', 'score': 4.7603502025594935e-05}], [{'label': 'LABEL_0', 'score': 0.9990639090538025}, {'label': 'LABEL_1', 'score': 0.0009360940894111991}], [{'label': 'LABEL_0', 'score': 0.08111468702554703}, {'label': 'LABEL_1', 'score': 0.918885350227356}], [{'label': 'LABEL_0', 'score': 0.999954104423523}, {'label': 'LABEL_1', 'score': 4.583574627758935e-05}], [{'label': 'LABEL_0', 'score': 0.9999451637268066}, {'label': 'LABEL_1', 'score': 5.478348248288967e-05}], [{'label': 'LABEL_0', 'score': 0.015266533009707928}, {'label': 'LABEL_1', 'score': 0.984733521938324}], [{'label': 'LABEL_0', 'score': 0.9999266862869263}, {'label': 'LABEL_1', 'score': 7.329571963055059e-05}], [{'label': 'LABEL_0', 'score': 0.9998917579650879}, {'label': 'LABEL_1', 'score': 0.00010818316513905302}], [{'label': 'LABEL_0', 'score': 0.9995631575584412}, {'label': 'LABEL_1', 'score': 0.00043688525329343975}], [{'label': 'LABEL_0', 'score': 0.9999492168426514}, {'label': 'LABEL_1', 'score': 5.07235927216243e-05}], [{'label': 'LABEL_0', 'score': 0.9999352693557739}, {'label': 'LABEL_1', 'score': 6.475663394667208e-05}], [{'label': 'LABEL_0', 'score': 0.9999510049819946}, {'label': 'LABEL_1', 'score': 4.895927486359142e-05}], [{'label': 'LABEL_0', 'score': 0.9998123049736023}, {'label': 'LABEL_1', 'score': 0.00018766101857181638}], [{'label': 'LABEL_0', 'score': 0.99992835521698}, {'label': 'LABEL_1', 'score': 7.16880604159087e-05}], [{'label': 'LABEL_0', 'score': 0.9999490976333618}, {'label': 'LABEL_1', 'score': 5.084244185127318e-05}], [{'label': 'LABEL_0', 'score': 0.9998971223831177}, {'label': 'LABEL_1', 'score': 0.00010289449710398912}], [{'label': 'LABEL_0', 'score': 0.9999270439147949}, {'label': 'LABEL_1', 'score': 7.300887955352664e-05}], [{'label': 'LABEL_0', 'score': 0.9987947940826416}, {'label': 'LABEL_1', 'score': 0.001205197535455227}], [{'label': 'LABEL_0', 'score': 0.9999148845672607}, {'label': 'LABEL_1', 'score': 8.515822992194444e-05}], [{'label': 'LABEL_0', 'score': 0.9998237490653992}, {'label': 'LABEL_1', 'score': 0.0001763347681844607}], [{'label': 'LABEL_0', 'score': 0.9999545812606812}, {'label': 'LABEL_1', 'score': 4.545799674815498e-05}], [{'label': 'LABEL_0', 'score': 0.9996688365936279}, {'label': 'LABEL_1', 'score': 0.00033111474476754665}], [{'label': 'LABEL_0', 'score': 0.0002519226400181651}, {'label': 'LABEL_1', 'score': 0.9997480511665344}], [{'label': 'LABEL_0', 'score': 0.9998493194580078}, {'label': 'LABEL_1', 'score': 0.00015071089728735387}], [{'label': 'LABEL_0', 'score': 0.7144814133644104}, {'label': 'LABEL_1', 'score': 0.2855185866355896}], [{'label': 'LABEL_0', 'score': 0.9986644983291626}, {'label': 'LABEL_1', 'score': 0.0013355102855712175}], [{'label': 'LABEL_0', 'score': 0.9999512434005737}, {'label': 'LABEL_1', 'score': 4.875427111983299e-05}], [{'label': 'LABEL_0', 'score': 0.9999048709869385}, {'label': 'LABEL_1', 'score': 9.507495997240767e-05}], [{'label': 'LABEL_0', 'score': 0.0006866008625365794}, {'label': 'LABEL_1', 'score': 0.9993133544921875}], [{'label': 'LABEL_0', 'score': 0.999687671661377}, {'label': 'LABEL_1', 'score': 0.00031235188362188637}], [{'label': 'LABEL_0', 'score': 0.9999555349349976}, {'label': 'LABEL_1', 'score': 4.4498865463538095e-05}], [{'label': 'LABEL_0', 'score': 0.9744226932525635}, {'label': 'LABEL_1', 'score': 0.025577375665307045}], [{'label': 'LABEL_0', 'score': 0.9983525276184082}, {'label': 'LABEL_1', 'score': 0.0016474457224830985}], [{'label': 'LABEL_0', 'score': 0.9932441115379333}, {'label': 'LABEL_1', 'score': 0.0067558856680989265}], [{'label': 'LABEL_0', 'score': 0.9999405145645142}, {'label': 'LABEL_1', 'score': 5.9495501773199067e-05}], [{'label': 'LABEL_0', 'score': 0.9998840093612671}, {'label': 'LABEL_1', 'score': 0.00011601445294218138}], [{'label': 'LABEL_0', 'score': 0.9999314546585083}, {'label': 'LABEL_1', 'score': 6.85546692693606e-05}], [{'label': 'LABEL_0', 'score': 0.9999489784240723}, {'label': 'LABEL_1', 'score': 5.106469689053483e-05}], [{'label': 'LABEL_0', 'score': 0.9999581575393677}, {'label': 'LABEL_1', 'score': 4.1814171709120274e-05}], [{'label': 'LABEL_0', 'score': 0.9999300241470337}, {'label': 'LABEL_1', 'score': 7.00192540534772e-05}], [{'label': 'LABEL_0', 'score': 0.9998706579208374}, {'label': 'LABEL_1', 'score': 0.00012930441880598664}], [{'label': 'LABEL_0', 'score': 0.9973033666610718}, {'label': 'LABEL_1', 'score': 0.0026966482400894165}], [{'label': 'LABEL_0', 'score': 0.9999207258224487}, {'label': 'LABEL_1', 'score': 7.923877274151891e-05}], [{'label': 'LABEL_0', 'score': 0.9998602867126465}, {'label': 'LABEL_1', 'score': 0.00013963898527435958}], [{'label': 'LABEL_0', 'score': 0.9999568462371826}, {'label': 'LABEL_1', 'score': 4.3152795115020126e-05}], [{'label': 'LABEL_0', 'score': 0.9997820258140564}, {'label': 'LABEL_1', 'score': 0.0002179621224058792}], [{'label': 'LABEL_0', 'score': 0.9999209642410278}, {'label': 'LABEL_1', 'score': 7.89814512245357e-05}], [{'label': 'LABEL_0', 'score': 0.9983859062194824}, {'label': 'LABEL_1', 'score': 0.0016140767838805914}], [{'label': 'LABEL_0', 'score': 0.8842098116874695}, {'label': 'LABEL_1', 'score': 0.11579015105962753}], [{'label': 'LABEL_0', 'score': 0.999953031539917}, {'label': 'LABEL_1', 'score': 4.6914828999433666e-05}], [{'label': 'LABEL_0', 'score': 0.999915599822998}, {'label': 'LABEL_1', 'score': 8.43352172523737e-05}], [{'label': 'LABEL_0', 'score': 0.9999029636383057}, {'label': 'LABEL_1', 'score': 9.705541742732748e-05}], [{'label': 'LABEL_0', 'score': 0.9999412298202515}, {'label': 'LABEL_1', 'score': 5.8817153330892324e-05}], [{'label': 'LABEL_0', 'score': 0.999896764755249}, {'label': 'LABEL_1', 'score': 0.00010321406443836167}], [{'label': 'LABEL_0', 'score': 0.9999505281448364}, {'label': 'LABEL_1', 'score': 4.950387301505543e-05}], [{'label': 'LABEL_0', 'score': 0.9999505281448364}, {'label': 'LABEL_1', 'score': 4.9426413170294836e-05}], [{'label': 'LABEL_0', 'score': 0.9999589920043945}, {'label': 'LABEL_1', 'score': 4.1028841224033386e-05}], [{'label': 'LABEL_0', 'score': 0.9999406337738037}, {'label': 'LABEL_1', 'score': 5.938428876106627e-05}], [{'label': 'LABEL_0', 'score': 0.9999511241912842}, {'label': 'LABEL_1', 'score': 4.8917787353275344e-05}], [{'label': 'LABEL_0', 'score': 0.999825656414032}, {'label': 'LABEL_1', 'score': 0.0001743924367474392}], [{'label': 'LABEL_0', 'score': 0.9998888969421387}, {'label': 'LABEL_1', 'score': 0.00011109044135082513}], [{'label': 'LABEL_0', 'score': 0.99982750415802}, {'label': 'LABEL_1', 'score': 0.00017247351934202015}], [{'label': 'LABEL_0', 'score': 0.9999381303787231}, {'label': 'LABEL_1', 'score': 6.183241202961653e-05}], [{'label': 'LABEL_0', 'score': 0.002620416460558772}, {'label': 'LABEL_1', 'score': 0.9973796606063843}], [{'label': 'LABEL_0', 'score': 0.9999537467956543}, {'label': 'LABEL_1', 'score': 4.624962457455695e-05}], [{'label': 'LABEL_0', 'score': 0.9999547004699707}, {'label': 'LABEL_1', 'score': 4.53485845355317e-05}], [{'label': 'LABEL_0', 'score': 0.9999383687973022}, {'label': 'LABEL_1', 'score': 6.157773168524727e-05}], [{'label': 'LABEL_0', 'score': 9.49251334532164e-05}, {'label': 'LABEL_1', 'score': 0.9999051094055176}], [{'label': 'LABEL_0', 'score': 0.9999597072601318}, {'label': 'LABEL_1', 'score': 4.0323720895685256e-05}], [{'label': 'LABEL_0', 'score': 0.9999326467514038}, {'label': 'LABEL_1', 'score': 6.733401824021712e-05}], [{'label': 'LABEL_0', 'score': 0.9999490976333618}, {'label': 'LABEL_1', 'score': 5.0919152272399515e-05}], [{'label': 'LABEL_0', 'score': 0.9893475770950317}, {'label': 'LABEL_1', 'score': 0.010652369819581509}], [{'label': 'LABEL_0', 'score': 0.9999545812606812}, {'label': 'LABEL_1', 'score': 4.5359523937804624e-05}], [{'label': 'LABEL_0', 'score': 0.9999576807022095}, {'label': 'LABEL_1', 'score': 4.231511411489919e-05}], [{'label': 'LABEL_0', 'score': 0.9997782111167908}, {'label': 'LABEL_1', 'score': 0.00022182526299729943}], [{'label': 'LABEL_0', 'score': 0.8024813532829285}, {'label': 'LABEL_1', 'score': 0.19751869142055511}], [{'label': 'LABEL_0', 'score': 0.9999526739120483}, {'label': 'LABEL_1', 'score': 4.727952546090819e-05}], [{'label': 'LABEL_0', 'score': 0.9999216794967651}, {'label': 'LABEL_1', 'score': 7.834296411601827e-05}], [{'label': 'LABEL_0', 'score': 0.9998263716697693}, {'label': 'LABEL_1', 'score': 0.00017365420353598893}], [{'label': 'LABEL_0', 'score': 0.6406821012496948}, {'label': 'LABEL_1', 'score': 0.3593178987503052}], [{'label': 'LABEL_0', 'score': 0.9998903274536133}, {'label': 'LABEL_1', 'score': 0.00010967548587359488}], [{'label': 'LABEL_0', 'score': 0.9999595880508423}, {'label': 'LABEL_1', 'score': 4.045236710226163e-05}], [{'label': 'LABEL_0', 'score': 0.9996641874313354}, {'label': 'LABEL_1', 'score': 0.00033584065386094153}], [{'label': 'LABEL_0', 'score': 0.999913215637207}, {'label': 'LABEL_1', 'score': 8.681166946189478e-05}], [{'label': 'LABEL_0', 'score': 0.9999537467956543}, {'label': 'LABEL_1', 'score': 4.61943018308375e-05}], [{'label': 'LABEL_0', 'score': 0.026361141353845596}, {'label': 'LABEL_1', 'score': 0.9736388921737671}], [{'label': 'LABEL_0', 'score': 0.20599769055843353}, {'label': 'LABEL_1', 'score': 0.7940022945404053}], [{'label': 'LABEL_0', 'score': 0.9999319314956665}, {'label': 'LABEL_1', 'score': 6.807350291637704e-05}], [{'label': 'LABEL_0', 'score': 0.9999583959579468}, {'label': 'LABEL_1', 'score': 4.164385609328747e-05}], [{'label': 'LABEL_0', 'score': 0.99994957447052}, {'label': 'LABEL_1', 'score': 5.042678822064772e-05}], [{'label': 'LABEL_0', 'score': 0.9999402761459351}, {'label': 'LABEL_1', 'score': 5.972043072688393e-05}], [{'label': 'LABEL_0', 'score': 0.9999387264251709}, {'label': 'LABEL_1', 'score': 6.122658669482917e-05}], [{'label': 'LABEL_0', 'score': 0.999957799911499}, {'label': 'LABEL_1', 'score': 4.223625728627667e-05}], [{'label': 'LABEL_0', 'score': 0.9999401569366455}, {'label': 'LABEL_1', 'score': 5.987965050735511e-05}], [{'label': 'LABEL_0', 'score': 0.9998999834060669}, {'label': 'LABEL_1', 'score': 9.996805601986125e-05}], [{'label': 'LABEL_0', 'score': 0.9999359846115112}, {'label': 'LABEL_1', 'score': 6.40311191091314e-05}], [{'label': 'LABEL_0', 'score': 0.9999569654464722}, {'label': 'LABEL_1', 'score': 4.306067421566695e-05}], [{'label': 'LABEL_0', 'score': 0.999947190284729}, {'label': 'LABEL_1', 'score': 5.281847916194238e-05}], [{'label': 'LABEL_0', 'score': 0.9999535083770752}, {'label': 'LABEL_1', 'score': 4.648427784559317e-05}], [{'label': 'LABEL_0', 'score': 0.9998350143432617}, {'label': 'LABEL_1', 'score': 0.00016491723363287747}], [{'label': 'LABEL_0', 'score': 0.9999555349349976}, {'label': 'LABEL_1', 'score': 4.444745718501508e-05}], [{'label': 'LABEL_0', 'score': 0.033702604472637177}, {'label': 'LABEL_1', 'score': 0.9662973284721375}], [{'label': 'LABEL_0', 'score': 0.9999231100082397}, {'label': 'LABEL_1', 'score': 7.683788862777874e-05}], [{'label': 'LABEL_0', 'score': 0.9999185800552368}, {'label': 'LABEL_1', 'score': 8.141552825691178e-05}], [{'label': 'LABEL_0', 'score': 0.9999097585678101}, {'label': 'LABEL_1', 'score': 9.022564336191863e-05}], [{'label': 'LABEL_0', 'score': 0.9998248219490051}, {'label': 'LABEL_1', 'score': 0.00017521916015539318}], [{'label': 'LABEL_0', 'score': 0.9999381303787231}, {'label': 'LABEL_1', 'score': 6.183954974403605e-05}], [{'label': 'LABEL_0', 'score': 0.990878164768219}, {'label': 'LABEL_1', 'score': 0.009121831506490707}], [{'label': 'LABEL_0', 'score': 0.9999171495437622}, {'label': 'LABEL_1', 'score': 8.287389209726825e-05}], [{'label': 'LABEL_0', 'score': 0.9972375631332397}, {'label': 'LABEL_1', 'score': 0.0027624547947198153}], [{'label': 'LABEL_0', 'score': 0.9999146461486816}, {'label': 'LABEL_1', 'score': 8.538866677554324e-05}], [{'label': 'LABEL_0', 'score': 0.9998778104782104}, {'label': 'LABEL_1', 'score': 0.0001221438287757337}], [{'label': 'LABEL_0', 'score': 0.99994957447052}, {'label': 'LABEL_1', 'score': 5.037421215092763e-05}], [{'label': 'LABEL_0', 'score': 0.9999527931213379}, {'label': 'LABEL_1', 'score': 4.72095598524902e-05}], [{'label': 'LABEL_0', 'score': 0.9998749494552612}, {'label': 'LABEL_1', 'score': 0.00012498066644184291}], [{'label': 'LABEL_0', 'score': 0.9997560381889343}, {'label': 'LABEL_1', 'score': 0.00024391399347223341}], [{'label': 'LABEL_0', 'score': 0.9999583959579468}, {'label': 'LABEL_1', 'score': 4.159098898526281e-05}], [{'label': 'LABEL_0', 'score': 0.013709797523915768}, {'label': 'LABEL_1', 'score': 0.9862901568412781}], [{'label': 'LABEL_0', 'score': 0.9915233850479126}, {'label': 'LABEL_1', 'score': 0.008476657792925835}], [{'label': 'LABEL_0', 'score': 0.9999421834945679}, {'label': 'LABEL_1', 'score': 5.77580722165294e-05}], [{'label': 'LABEL_0', 'score': 0.9998573064804077}, {'label': 'LABEL_1', 'score': 0.0001427135430276394}], [{'label': 'LABEL_0', 'score': 0.9999579191207886}, {'label': 'LABEL_1', 'score': 4.208323662169278e-05}], [{'label': 'LABEL_0', 'score': 0.9999558925628662}, {'label': 'LABEL_1', 'score': 4.415107105160132e-05}], [{'label': 'LABEL_0', 'score': 0.9999432563781738}, {'label': 'LABEL_1', 'score': 5.6734679674264044e-05}], [{'label': 'LABEL_0', 'score': 0.9999343156814575}, {'label': 'LABEL_1', 'score': 6.570348341483623e-05}], [{'label': 'LABEL_0', 'score': 0.2737278938293457}, {'label': 'LABEL_1', 'score': 0.7262720465660095}], [{'label': 'LABEL_0', 'score': 0.9999254941940308}, {'label': 'LABEL_1', 'score': 7.449532131431624e-05}], [{'label': 'LABEL_0', 'score': 0.9999313354492188}, {'label': 'LABEL_1', 'score': 6.867244519526139e-05}], [{'label': 'LABEL_0', 'score': 0.9999445676803589}, {'label': 'LABEL_1', 'score': 5.544158921111375e-05}], [{'label': 'LABEL_0', 'score': 0.9999433755874634}, {'label': 'LABEL_1', 'score': 5.667276855092496e-05}], [{'label': 'LABEL_0', 'score': 0.9999468326568604}, {'label': 'LABEL_1', 'score': 5.314435838954523e-05}], [{'label': 'LABEL_0', 'score': 0.9999265670776367}, {'label': 'LABEL_1', 'score': 7.347753125941381e-05}], [{'label': 'LABEL_0', 'score': 0.9984874725341797}, {'label': 'LABEL_1', 'score': 0.0015124614583328366}], [{'label': 'LABEL_0', 'score': 0.9983344674110413}, {'label': 'LABEL_1', 'score': 0.001665557618252933}], [{'label': 'LABEL_0', 'score': 0.999874472618103}, {'label': 'LABEL_1', 'score': 0.00012550588871818036}], [{'label': 'LABEL_0', 'score': 0.9999505281448364}, {'label': 'LABEL_1', 'score': 4.9436410336056724e-05}], [{'label': 'LABEL_0', 'score': 0.9975094795227051}, {'label': 'LABEL_1', 'score': 0.0024904999881982803}], [{'label': 'LABEL_0', 'score': 0.9999545812606812}, {'label': 'LABEL_1', 'score': 4.543732575257309e-05}], [{'label': 'LABEL_0', 'score': 0.9992268085479736}, {'label': 'LABEL_1', 'score': 0.0007731523364782333}], [{'label': 'LABEL_0', 'score': 0.990921139717102}, {'label': 'LABEL_1', 'score': 0.009078909642994404}], [{'label': 'LABEL_0', 'score': 0.9999533891677856}, {'label': 'LABEL_1', 'score': 4.661910134018399e-05}], [{'label': 'LABEL_0', 'score': 0.005666873883455992}, {'label': 'LABEL_1', 'score': 0.9943331480026245}], [{'label': 'LABEL_0', 'score': 0.9999594688415527}, {'label': 'LABEL_1', 'score': 4.054056989843957e-05}], [{'label': 'LABEL_0', 'score': 0.9990649819374084}, {'label': 'LABEL_1', 'score': 0.0009350146865472198}], [{'label': 'LABEL_0', 'score': 0.9998438358306885}, {'label': 'LABEL_1', 'score': 0.00015612087736371905}], [{'label': 'LABEL_0', 'score': 0.9619662165641785}, {'label': 'LABEL_1', 'score': 0.038033805787563324}], [{'label': 'LABEL_0', 'score': 0.9997099041938782}, {'label': 'LABEL_1', 'score': 0.00029011163860559464}], [{'label': 'LABEL_0', 'score': 0.9999300241470337}, {'label': 'LABEL_1', 'score': 7.000195910222828e-05}], [{'label': 'LABEL_0', 'score': 0.031495101749897}, {'label': 'LABEL_1', 'score': 0.9685048460960388}], [{'label': 'LABEL_0', 'score': 0.9999444484710693}, {'label': 'LABEL_1', 'score': 5.5492157116532326e-05}], [{'label': 'LABEL_0', 'score': 0.004714910872280598}, {'label': 'LABEL_1', 'score': 0.9952850937843323}], [{'label': 'LABEL_0', 'score': 0.9999582767486572}, {'label': 'LABEL_1', 'score': 4.173290290054865e-05}]]\n"
     ]
    },
    {
     "ename": "TypeError",
     "evalue": "'<' not supported between instances of 'dict' and 'dict'",
     "output_type": "error",
     "traceback": [
      "\u001b[0;31m---------------------------------------------------------------------------\u001b[0m",
      "\u001b[0;31mTypeError\u001b[0m                                 Traceback (most recent call last)",
      "Cell \u001b[0;32mIn[54], line 4\u001b[0m\n\u001b[1;32m      2\u001b[0m providers \u001b[38;5;241m=\u001b[39m [\u001b[38;5;124m\"\u001b[39m\u001b[38;5;124mCUDAExecutionProvider\u001b[39m\u001b[38;5;124m\"\u001b[39m] \u001b[38;5;28;01mif\u001b[39;00m torch\u001b[38;5;241m.\u001b[39mcuda\u001b[38;5;241m.\u001b[39mis_available() \u001b[38;5;28;01melse\u001b[39;00m [\u001b[38;5;124m\"\u001b[39m\u001b[38;5;124mCPUExecutionProvider\u001b[39m\u001b[38;5;124m\"\u001b[39m]\n\u001b[1;32m      3\u001b[0m quantized_session \u001b[38;5;241m=\u001b[39m ort\u001b[38;5;241m.\u001b[39mInferenceSession(\u001b[38;5;124m\"\u001b[39m\u001b[38;5;124mbinary_distill_model_quant.onnx\u001b[39m\u001b[38;5;124m\"\u001b[39m,providers\u001b[38;5;241m=\u001b[39mproviders)\n\u001b[0;32m----> 4\u001b[0m originalModelScore \u001b[38;5;241m=\u001b[39m \u001b[43mtimed_inference\u001b[49m\u001b[43m(\u001b[49m\u001b[43mmodel\u001b[49m\u001b[43m,\u001b[49m\u001b[43m \u001b[49m\u001b[43mtokenizer\u001b[49m\u001b[43m)\u001b[49m\n\u001b[1;32m      5\u001b[0m \u001b[38;5;28mprint\u001b[39m(\u001b[38;5;124mf\u001b[39m\u001b[38;5;124m\"\u001b[39m\u001b[38;5;124mOriginal Model F1 Score: \u001b[39m\u001b[38;5;132;01m{\u001b[39;00moriginalModelScore[\u001b[38;5;241m0\u001b[39m]\u001b[38;5;132;01m}\u001b[39;00m\u001b[38;5;124m, Time taken: \u001b[39m\u001b[38;5;132;01m{\u001b[39;00moriginalModelScore[\u001b[38;5;241m1\u001b[39m]\u001b[38;5;132;01m}\u001b[39;00m\u001b[38;5;124m seconds\u001b[39m\u001b[38;5;124m\"\u001b[39m)\n\u001b[1;32m      6\u001b[0m quantizedModelScore \u001b[38;5;241m=\u001b[39m timed_onnx_inference(session\u001b[38;5;241m=\u001b[39mquantized_session, tokenizer\u001b[38;5;241m=\u001b[39mtokenizer,dataset\u001b[38;5;241m=\u001b[39monnx_test_dataset)\n",
      "Cell \u001b[0;32mIn[52], line 47\u001b[0m, in \u001b[0;36mtimed_inference\u001b[0;34m(model, tokenizer)\u001b[0m\n\u001b[1;32m     42\u001b[0m cleaned_results \u001b[38;5;241m=\u001b[39m [\n\u001b[1;32m     43\u001b[0m [\u001b[38;5;241m1\u001b[39m \u001b[38;5;28;01mif\u001b[39;00m score[\u001b[38;5;124m\"\u001b[39m\u001b[38;5;124mscore\u001b[39m\u001b[38;5;124m\"\u001b[39m] \u001b[38;5;241m>\u001b[39m \u001b[38;5;241m0.5\u001b[39m \u001b[38;5;28;01melse\u001b[39;00m \u001b[38;5;241m0\u001b[39m \u001b[38;5;28;01mfor\u001b[39;00m score \u001b[38;5;129;01min\u001b[39;00m result]\n\u001b[1;32m     44\u001b[0m \u001b[38;5;28;01mfor\u001b[39;00m result \u001b[38;5;129;01min\u001b[39;00m results\n\u001b[1;32m     45\u001b[0m ]\n\u001b[1;32m     46\u001b[0m \u001b[38;5;28mprint\u001b[39m(test_dataset[\u001b[38;5;124m'\u001b[39m\u001b[38;5;124mcyberbullying\u001b[39m\u001b[38;5;124m'\u001b[39m], results)\n\u001b[0;32m---> 47\u001b[0m f1 \u001b[38;5;241m=\u001b[39m \u001b[43mf1_score\u001b[49m\u001b[43m(\u001b[49m\u001b[43mtest_dataset\u001b[49m\u001b[43m[\u001b[49m\u001b[38;5;124;43m'\u001b[39;49m\u001b[38;5;124;43mcyberbullying\u001b[39;49m\u001b[38;5;124;43m'\u001b[39;49m\u001b[43m]\u001b[49m\u001b[43m,\u001b[49m\u001b[43m \u001b[49m\u001b[43mresults\u001b[49m\u001b[43m,\u001b[49m\u001b[43m \u001b[49m\u001b[43maverage\u001b[49m\u001b[38;5;241;43m=\u001b[39;49m\u001b[38;5;124;43m'\u001b[39;49m\u001b[38;5;124;43mmicro\u001b[39;49m\u001b[38;5;124;43m'\u001b[39;49m\u001b[43m)\u001b[49m\n\u001b[1;32m     48\u001b[0m \u001b[38;5;28;01mreturn\u001b[39;00m f1, end_time \u001b[38;5;241m-\u001b[39m start_time\n",
      "File \u001b[0;32m/opt/conda/lib/python3.11/site-packages/sklearn/utils/_param_validation.py:216\u001b[0m, in \u001b[0;36mvalidate_params.<locals>.decorator.<locals>.wrapper\u001b[0;34m(*args, **kwargs)\u001b[0m\n\u001b[1;32m    210\u001b[0m \u001b[38;5;28;01mtry\u001b[39;00m:\n\u001b[1;32m    211\u001b[0m     \u001b[38;5;28;01mwith\u001b[39;00m config_context(\n\u001b[1;32m    212\u001b[0m         skip_parameter_validation\u001b[38;5;241m=\u001b[39m(\n\u001b[1;32m    213\u001b[0m             prefer_skip_nested_validation \u001b[38;5;129;01mor\u001b[39;00m global_skip_validation\n\u001b[1;32m    214\u001b[0m         )\n\u001b[1;32m    215\u001b[0m     ):\n\u001b[0;32m--> 216\u001b[0m         \u001b[38;5;28;01mreturn\u001b[39;00m \u001b[43mfunc\u001b[49m\u001b[43m(\u001b[49m\u001b[38;5;241;43m*\u001b[39;49m\u001b[43margs\u001b[49m\u001b[43m,\u001b[49m\u001b[43m \u001b[49m\u001b[38;5;241;43m*\u001b[39;49m\u001b[38;5;241;43m*\u001b[39;49m\u001b[43mkwargs\u001b[49m\u001b[43m)\u001b[49m\n\u001b[1;32m    217\u001b[0m \u001b[38;5;28;01mexcept\u001b[39;00m InvalidParameterError \u001b[38;5;28;01mas\u001b[39;00m e:\n\u001b[1;32m    218\u001b[0m     \u001b[38;5;66;03m# When the function is just a wrapper around an estimator, we allow\u001b[39;00m\n\u001b[1;32m    219\u001b[0m     \u001b[38;5;66;03m# the function to delegate validation to the estimator, but we replace\u001b[39;00m\n\u001b[1;32m    220\u001b[0m     \u001b[38;5;66;03m# the name of the estimator by the name of the function in the error\u001b[39;00m\n\u001b[1;32m    221\u001b[0m     \u001b[38;5;66;03m# message to avoid confusion.\u001b[39;00m\n\u001b[1;32m    222\u001b[0m     msg \u001b[38;5;241m=\u001b[39m re\u001b[38;5;241m.\u001b[39msub(\n\u001b[1;32m    223\u001b[0m         \u001b[38;5;124mr\u001b[39m\u001b[38;5;124m\"\u001b[39m\u001b[38;5;124mparameter of \u001b[39m\u001b[38;5;124m\\\u001b[39m\u001b[38;5;124mw+ must be\u001b[39m\u001b[38;5;124m\"\u001b[39m,\n\u001b[1;32m    224\u001b[0m         \u001b[38;5;124mf\u001b[39m\u001b[38;5;124m\"\u001b[39m\u001b[38;5;124mparameter of \u001b[39m\u001b[38;5;132;01m{\u001b[39;00mfunc\u001b[38;5;241m.\u001b[39m\u001b[38;5;18m__qualname__\u001b[39m\u001b[38;5;132;01m}\u001b[39;00m\u001b[38;5;124m must be\u001b[39m\u001b[38;5;124m\"\u001b[39m,\n\u001b[1;32m    225\u001b[0m         \u001b[38;5;28mstr\u001b[39m(e),\n\u001b[1;32m    226\u001b[0m     )\n",
      "File \u001b[0;32m/opt/conda/lib/python3.11/site-packages/sklearn/metrics/_classification.py:1324\u001b[0m, in \u001b[0;36mf1_score\u001b[0;34m(y_true, y_pred, labels, pos_label, average, sample_weight, zero_division)\u001b[0m\n\u001b[1;32m   1144\u001b[0m \u001b[38;5;129m@validate_params\u001b[39m(\n\u001b[1;32m   1145\u001b[0m     {\n\u001b[1;32m   1146\u001b[0m         \u001b[38;5;124m\"\u001b[39m\u001b[38;5;124my_true\u001b[39m\u001b[38;5;124m\"\u001b[39m: [\u001b[38;5;124m\"\u001b[39m\u001b[38;5;124marray-like\u001b[39m\u001b[38;5;124m\"\u001b[39m, \u001b[38;5;124m\"\u001b[39m\u001b[38;5;124msparse matrix\u001b[39m\u001b[38;5;124m\"\u001b[39m],\n\u001b[0;32m   (...)\u001b[0m\n\u001b[1;32m   1171\u001b[0m     zero_division\u001b[38;5;241m=\u001b[39m\u001b[38;5;124m\"\u001b[39m\u001b[38;5;124mwarn\u001b[39m\u001b[38;5;124m\"\u001b[39m,\n\u001b[1;32m   1172\u001b[0m ):\n\u001b[1;32m   1173\u001b[0m \u001b[38;5;250m    \u001b[39m\u001b[38;5;124;03m\"\"\"Compute the F1 score, also known as balanced F-score or F-measure.\u001b[39;00m\n\u001b[1;32m   1174\u001b[0m \n\u001b[1;32m   1175\u001b[0m \u001b[38;5;124;03m    The F1 score can be interpreted as a harmonic mean of the precision and\u001b[39;00m\n\u001b[0;32m   (...)\u001b[0m\n\u001b[1;32m   1322\u001b[0m \u001b[38;5;124;03m    array([0.66666667, 1.        , 0.66666667])\u001b[39;00m\n\u001b[1;32m   1323\u001b[0m \u001b[38;5;124;03m    \"\"\"\u001b[39;00m\n\u001b[0;32m-> 1324\u001b[0m     \u001b[38;5;28;01mreturn\u001b[39;00m \u001b[43mfbeta_score\u001b[49m\u001b[43m(\u001b[49m\n\u001b[1;32m   1325\u001b[0m \u001b[43m        \u001b[49m\u001b[43my_true\u001b[49m\u001b[43m,\u001b[49m\n\u001b[1;32m   1326\u001b[0m \u001b[43m        \u001b[49m\u001b[43my_pred\u001b[49m\u001b[43m,\u001b[49m\n\u001b[1;32m   1327\u001b[0m \u001b[43m        \u001b[49m\u001b[43mbeta\u001b[49m\u001b[38;5;241;43m=\u001b[39;49m\u001b[38;5;241;43m1\u001b[39;49m\u001b[43m,\u001b[49m\n\u001b[1;32m   1328\u001b[0m \u001b[43m        \u001b[49m\u001b[43mlabels\u001b[49m\u001b[38;5;241;43m=\u001b[39;49m\u001b[43mlabels\u001b[49m\u001b[43m,\u001b[49m\n\u001b[1;32m   1329\u001b[0m \u001b[43m        \u001b[49m\u001b[43mpos_label\u001b[49m\u001b[38;5;241;43m=\u001b[39;49m\u001b[43mpos_label\u001b[49m\u001b[43m,\u001b[49m\n\u001b[1;32m   1330\u001b[0m \u001b[43m        \u001b[49m\u001b[43maverage\u001b[49m\u001b[38;5;241;43m=\u001b[39;49m\u001b[43maverage\u001b[49m\u001b[43m,\u001b[49m\n\u001b[1;32m   1331\u001b[0m \u001b[43m        \u001b[49m\u001b[43msample_weight\u001b[49m\u001b[38;5;241;43m=\u001b[39;49m\u001b[43msample_weight\u001b[49m\u001b[43m,\u001b[49m\n\u001b[1;32m   1332\u001b[0m \u001b[43m        \u001b[49m\u001b[43mzero_division\u001b[49m\u001b[38;5;241;43m=\u001b[39;49m\u001b[43mzero_division\u001b[49m\u001b[43m,\u001b[49m\n\u001b[1;32m   1333\u001b[0m \u001b[43m    \u001b[49m\u001b[43m)\u001b[49m\n",
      "File \u001b[0;32m/opt/conda/lib/python3.11/site-packages/sklearn/utils/_param_validation.py:189\u001b[0m, in \u001b[0;36mvalidate_params.<locals>.decorator.<locals>.wrapper\u001b[0;34m(*args, **kwargs)\u001b[0m\n\u001b[1;32m    187\u001b[0m global_skip_validation \u001b[38;5;241m=\u001b[39m get_config()[\u001b[38;5;124m\"\u001b[39m\u001b[38;5;124mskip_parameter_validation\u001b[39m\u001b[38;5;124m\"\u001b[39m]\n\u001b[1;32m    188\u001b[0m \u001b[38;5;28;01mif\u001b[39;00m global_skip_validation:\n\u001b[0;32m--> 189\u001b[0m     \u001b[38;5;28;01mreturn\u001b[39;00m \u001b[43mfunc\u001b[49m\u001b[43m(\u001b[49m\u001b[38;5;241;43m*\u001b[39;49m\u001b[43margs\u001b[49m\u001b[43m,\u001b[49m\u001b[43m \u001b[49m\u001b[38;5;241;43m*\u001b[39;49m\u001b[38;5;241;43m*\u001b[39;49m\u001b[43mkwargs\u001b[49m\u001b[43m)\u001b[49m\n\u001b[1;32m    191\u001b[0m func_sig \u001b[38;5;241m=\u001b[39m signature(func)\n\u001b[1;32m    193\u001b[0m \u001b[38;5;66;03m# Map *args/**kwargs to the function signature\u001b[39;00m\n",
      "File \u001b[0;32m/opt/conda/lib/python3.11/site-packages/sklearn/metrics/_classification.py:1517\u001b[0m, in \u001b[0;36mfbeta_score\u001b[0;34m(y_true, y_pred, beta, labels, pos_label, average, sample_weight, zero_division)\u001b[0m\n\u001b[1;32m   1336\u001b[0m \u001b[38;5;129m@validate_params\u001b[39m(\n\u001b[1;32m   1337\u001b[0m     {\n\u001b[1;32m   1338\u001b[0m         \u001b[38;5;124m\"\u001b[39m\u001b[38;5;124my_true\u001b[39m\u001b[38;5;124m\"\u001b[39m: [\u001b[38;5;124m\"\u001b[39m\u001b[38;5;124marray-like\u001b[39m\u001b[38;5;124m\"\u001b[39m, \u001b[38;5;124m\"\u001b[39m\u001b[38;5;124msparse matrix\u001b[39m\u001b[38;5;124m\"\u001b[39m],\n\u001b[0;32m   (...)\u001b[0m\n\u001b[1;32m   1365\u001b[0m     zero_division\u001b[38;5;241m=\u001b[39m\u001b[38;5;124m\"\u001b[39m\u001b[38;5;124mwarn\u001b[39m\u001b[38;5;124m\"\u001b[39m,\n\u001b[1;32m   1366\u001b[0m ):\n\u001b[1;32m   1367\u001b[0m \u001b[38;5;250m    \u001b[39m\u001b[38;5;124;03m\"\"\"Compute the F-beta score.\u001b[39;00m\n\u001b[1;32m   1368\u001b[0m \n\u001b[1;32m   1369\u001b[0m \u001b[38;5;124;03m    The F-beta score is the weighted harmonic mean of precision and recall,\u001b[39;00m\n\u001b[0;32m   (...)\u001b[0m\n\u001b[1;32m   1514\u001b[0m \u001b[38;5;124;03m    0.12...\u001b[39;00m\n\u001b[1;32m   1515\u001b[0m \u001b[38;5;124;03m    \"\"\"\u001b[39;00m\n\u001b[0;32m-> 1517\u001b[0m     _, _, f, _ \u001b[38;5;241m=\u001b[39m \u001b[43mprecision_recall_fscore_support\u001b[49m\u001b[43m(\u001b[49m\n\u001b[1;32m   1518\u001b[0m \u001b[43m        \u001b[49m\u001b[43my_true\u001b[49m\u001b[43m,\u001b[49m\n\u001b[1;32m   1519\u001b[0m \u001b[43m        \u001b[49m\u001b[43my_pred\u001b[49m\u001b[43m,\u001b[49m\n\u001b[1;32m   1520\u001b[0m \u001b[43m        \u001b[49m\u001b[43mbeta\u001b[49m\u001b[38;5;241;43m=\u001b[39;49m\u001b[43mbeta\u001b[49m\u001b[43m,\u001b[49m\n\u001b[1;32m   1521\u001b[0m \u001b[43m        \u001b[49m\u001b[43mlabels\u001b[49m\u001b[38;5;241;43m=\u001b[39;49m\u001b[43mlabels\u001b[49m\u001b[43m,\u001b[49m\n\u001b[1;32m   1522\u001b[0m \u001b[43m        \u001b[49m\u001b[43mpos_label\u001b[49m\u001b[38;5;241;43m=\u001b[39;49m\u001b[43mpos_label\u001b[49m\u001b[43m,\u001b[49m\n\u001b[1;32m   1523\u001b[0m \u001b[43m        \u001b[49m\u001b[43maverage\u001b[49m\u001b[38;5;241;43m=\u001b[39;49m\u001b[43maverage\u001b[49m\u001b[43m,\u001b[49m\n\u001b[1;32m   1524\u001b[0m \u001b[43m        \u001b[49m\u001b[43mwarn_for\u001b[49m\u001b[38;5;241;43m=\u001b[39;49m\u001b[43m(\u001b[49m\u001b[38;5;124;43m\"\u001b[39;49m\u001b[38;5;124;43mf-score\u001b[39;49m\u001b[38;5;124;43m\"\u001b[39;49m\u001b[43m,\u001b[49m\u001b[43m)\u001b[49m\u001b[43m,\u001b[49m\n\u001b[1;32m   1525\u001b[0m \u001b[43m        \u001b[49m\u001b[43msample_weight\u001b[49m\u001b[38;5;241;43m=\u001b[39;49m\u001b[43msample_weight\u001b[49m\u001b[43m,\u001b[49m\n\u001b[1;32m   1526\u001b[0m \u001b[43m        \u001b[49m\u001b[43mzero_division\u001b[49m\u001b[38;5;241;43m=\u001b[39;49m\u001b[43mzero_division\u001b[49m\u001b[43m,\u001b[49m\n\u001b[1;32m   1527\u001b[0m \u001b[43m    \u001b[49m\u001b[43m)\u001b[49m\n\u001b[1;32m   1528\u001b[0m     \u001b[38;5;28;01mreturn\u001b[39;00m f\n",
      "File \u001b[0;32m/opt/conda/lib/python3.11/site-packages/sklearn/utils/_param_validation.py:189\u001b[0m, in \u001b[0;36mvalidate_params.<locals>.decorator.<locals>.wrapper\u001b[0;34m(*args, **kwargs)\u001b[0m\n\u001b[1;32m    187\u001b[0m global_skip_validation \u001b[38;5;241m=\u001b[39m get_config()[\u001b[38;5;124m\"\u001b[39m\u001b[38;5;124mskip_parameter_validation\u001b[39m\u001b[38;5;124m\"\u001b[39m]\n\u001b[1;32m    188\u001b[0m \u001b[38;5;28;01mif\u001b[39;00m global_skip_validation:\n\u001b[0;32m--> 189\u001b[0m     \u001b[38;5;28;01mreturn\u001b[39;00m \u001b[43mfunc\u001b[49m\u001b[43m(\u001b[49m\u001b[38;5;241;43m*\u001b[39;49m\u001b[43margs\u001b[49m\u001b[43m,\u001b[49m\u001b[43m \u001b[49m\u001b[38;5;241;43m*\u001b[39;49m\u001b[38;5;241;43m*\u001b[39;49m\u001b[43mkwargs\u001b[49m\u001b[43m)\u001b[49m\n\u001b[1;32m    191\u001b[0m func_sig \u001b[38;5;241m=\u001b[39m signature(func)\n\u001b[1;32m    193\u001b[0m \u001b[38;5;66;03m# Map *args/**kwargs to the function signature\u001b[39;00m\n",
      "File \u001b[0;32m/opt/conda/lib/python3.11/site-packages/sklearn/metrics/_classification.py:1830\u001b[0m, in \u001b[0;36mprecision_recall_fscore_support\u001b[0;34m(y_true, y_pred, beta, labels, pos_label, average, warn_for, sample_weight, zero_division)\u001b[0m\n\u001b[1;32m   1661\u001b[0m \u001b[38;5;250m\u001b[39m\u001b[38;5;124;03m\"\"\"Compute precision, recall, F-measure and support for each class.\u001b[39;00m\n\u001b[1;32m   1662\u001b[0m \n\u001b[1;32m   1663\u001b[0m \u001b[38;5;124;03mThe precision is the ratio ``tp / (tp + fp)`` where ``tp`` is the number of\u001b[39;00m\n\u001b[0;32m   (...)\u001b[0m\n\u001b[1;32m   1827\u001b[0m \u001b[38;5;124;03m array([2, 2, 2]))\u001b[39;00m\n\u001b[1;32m   1828\u001b[0m \u001b[38;5;124;03m\"\"\"\u001b[39;00m\n\u001b[1;32m   1829\u001b[0m _check_zero_division(zero_division)\n\u001b[0;32m-> 1830\u001b[0m labels \u001b[38;5;241m=\u001b[39m \u001b[43m_check_set_wise_labels\u001b[49m\u001b[43m(\u001b[49m\u001b[43my_true\u001b[49m\u001b[43m,\u001b[49m\u001b[43m \u001b[49m\u001b[43my_pred\u001b[49m\u001b[43m,\u001b[49m\u001b[43m \u001b[49m\u001b[43maverage\u001b[49m\u001b[43m,\u001b[49m\u001b[43m \u001b[49m\u001b[43mlabels\u001b[49m\u001b[43m,\u001b[49m\u001b[43m \u001b[49m\u001b[43mpos_label\u001b[49m\u001b[43m)\u001b[49m\n\u001b[1;32m   1832\u001b[0m \u001b[38;5;66;03m# Calculate tp_sum, pred_sum, true_sum ###\u001b[39;00m\n\u001b[1;32m   1833\u001b[0m samplewise \u001b[38;5;241m=\u001b[39m average \u001b[38;5;241m==\u001b[39m \u001b[38;5;124m\"\u001b[39m\u001b[38;5;124msamples\u001b[39m\u001b[38;5;124m\"\u001b[39m\n",
      "File \u001b[0;32m/opt/conda/lib/python3.11/site-packages/sklearn/metrics/_classification.py:1596\u001b[0m, in \u001b[0;36m_check_set_wise_labels\u001b[0;34m(y_true, y_pred, average, labels, pos_label)\u001b[0m\n\u001b[1;32m   1593\u001b[0m     \u001b[38;5;28;01mraise\u001b[39;00m \u001b[38;5;167;01mValueError\u001b[39;00m(\u001b[38;5;124m\"\u001b[39m\u001b[38;5;124maverage has to be one of \u001b[39m\u001b[38;5;124m\"\u001b[39m \u001b[38;5;241m+\u001b[39m \u001b[38;5;28mstr\u001b[39m(average_options))\n\u001b[1;32m   1595\u001b[0m y_true, y_pred \u001b[38;5;241m=\u001b[39m attach_unique(y_true, y_pred)\n\u001b[0;32m-> 1596\u001b[0m y_type, y_true, y_pred \u001b[38;5;241m=\u001b[39m \u001b[43m_check_targets\u001b[49m\u001b[43m(\u001b[49m\u001b[43my_true\u001b[49m\u001b[43m,\u001b[49m\u001b[43m \u001b[49m\u001b[43my_pred\u001b[49m\u001b[43m)\u001b[49m\n\u001b[1;32m   1597\u001b[0m \u001b[38;5;66;03m# Convert to Python primitive type to avoid NumPy type / Python str\u001b[39;00m\n\u001b[1;32m   1598\u001b[0m \u001b[38;5;66;03m# comparison. See https://github.com/numpy/numpy/issues/6784\u001b[39;00m\n\u001b[1;32m   1599\u001b[0m present_labels \u001b[38;5;241m=\u001b[39m _tolist(unique_labels(y_true, y_pred))\n",
      "File \u001b[0;32m/opt/conda/lib/python3.11/site-packages/sklearn/metrics/_classification.py:100\u001b[0m, in \u001b[0;36m_check_targets\u001b[0;34m(y_true, y_pred)\u001b[0m\n\u001b[1;32m     98\u001b[0m check_consistent_length(y_true, y_pred)\n\u001b[1;32m     99\u001b[0m type_true \u001b[38;5;241m=\u001b[39m type_of_target(y_true, input_name\u001b[38;5;241m=\u001b[39m\u001b[38;5;124m\"\u001b[39m\u001b[38;5;124my_true\u001b[39m\u001b[38;5;124m\"\u001b[39m)\n\u001b[0;32m--> 100\u001b[0m type_pred \u001b[38;5;241m=\u001b[39m \u001b[43mtype_of_target\u001b[49m\u001b[43m(\u001b[49m\u001b[43my_pred\u001b[49m\u001b[43m,\u001b[49m\u001b[43m \u001b[49m\u001b[43minput_name\u001b[49m\u001b[38;5;241;43m=\u001b[39;49m\u001b[38;5;124;43m\"\u001b[39;49m\u001b[38;5;124;43my_pred\u001b[39;49m\u001b[38;5;124;43m\"\u001b[39;49m\u001b[43m)\u001b[49m\n\u001b[1;32m    102\u001b[0m y_type \u001b[38;5;241m=\u001b[39m {type_true, type_pred}\n\u001b[1;32m    103\u001b[0m \u001b[38;5;28;01mif\u001b[39;00m y_type \u001b[38;5;241m==\u001b[39m {\u001b[38;5;124m\"\u001b[39m\u001b[38;5;124mbinary\u001b[39m\u001b[38;5;124m\"\u001b[39m, \u001b[38;5;124m\"\u001b[39m\u001b[38;5;124mmulticlass\u001b[39m\u001b[38;5;124m\"\u001b[39m}:\n",
      "File \u001b[0;32m/opt/conda/lib/python3.11/site-packages/sklearn/utils/multiclass.py:333\u001b[0m, in \u001b[0;36mtype_of_target\u001b[0;34m(y, input_name, raise_unknown)\u001b[0m\n\u001b[1;32m    330\u001b[0m \u001b[38;5;28;01mif\u001b[39;00m sparse_pandas:\n\u001b[1;32m    331\u001b[0m     \u001b[38;5;28;01mraise\u001b[39;00m \u001b[38;5;167;01mValueError\u001b[39;00m(\u001b[38;5;124m\"\u001b[39m\u001b[38;5;124my cannot be class \u001b[39m\u001b[38;5;124m'\u001b[39m\u001b[38;5;124mSparseSeries\u001b[39m\u001b[38;5;124m'\u001b[39m\u001b[38;5;124m or \u001b[39m\u001b[38;5;124m'\u001b[39m\u001b[38;5;124mSparseArray\u001b[39m\u001b[38;5;124m'\u001b[39m\u001b[38;5;124m\"\u001b[39m)\n\u001b[0;32m--> 333\u001b[0m \u001b[38;5;28;01mif\u001b[39;00m \u001b[43mis_multilabel\u001b[49m\u001b[43m(\u001b[49m\u001b[43my\u001b[49m\u001b[43m)\u001b[49m:\n\u001b[1;32m    334\u001b[0m     \u001b[38;5;28;01mreturn\u001b[39;00m \u001b[38;5;124m\"\u001b[39m\u001b[38;5;124mmultilabel-indicator\u001b[39m\u001b[38;5;124m\"\u001b[39m\n\u001b[1;32m    336\u001b[0m \u001b[38;5;66;03m# DeprecationWarning will be replaced by ValueError, see NEP 34\u001b[39;00m\n\u001b[1;32m    337\u001b[0m \u001b[38;5;66;03m# https://numpy.org/neps/nep-0034-infer-dtype-is-object.html\u001b[39;00m\n\u001b[1;32m    338\u001b[0m \u001b[38;5;66;03m# We therefore catch both deprecation (NumPy < 1.24) warning and\u001b[39;00m\n\u001b[1;32m    339\u001b[0m \u001b[38;5;66;03m# value error (NumPy >= 1.24).\u001b[39;00m\n",
      "File \u001b[0;32m/opt/conda/lib/python3.11/site-packages/sklearn/utils/multiclass.py:194\u001b[0m, in \u001b[0;36mis_multilabel\u001b[0;34m(y)\u001b[0m\n\u001b[1;32m    188\u001b[0m     \u001b[38;5;28;01mreturn\u001b[39;00m (\n\u001b[1;32m    189\u001b[0m         \u001b[38;5;28mlen\u001b[39m(y\u001b[38;5;241m.\u001b[39mdata) \u001b[38;5;241m==\u001b[39m \u001b[38;5;241m0\u001b[39m\n\u001b[1;32m    190\u001b[0m         \u001b[38;5;129;01mor\u001b[39;00m (labels\u001b[38;5;241m.\u001b[39msize \u001b[38;5;241m==\u001b[39m \u001b[38;5;241m1\u001b[39m \u001b[38;5;129;01mor\u001b[39;00m (labels\u001b[38;5;241m.\u001b[39msize \u001b[38;5;241m==\u001b[39m \u001b[38;5;241m2\u001b[39m) \u001b[38;5;129;01mand\u001b[39;00m (\u001b[38;5;241m0\u001b[39m \u001b[38;5;129;01min\u001b[39;00m labels))\n\u001b[1;32m    191\u001b[0m         \u001b[38;5;129;01mand\u001b[39;00m (y\u001b[38;5;241m.\u001b[39mdtype\u001b[38;5;241m.\u001b[39mkind \u001b[38;5;129;01min\u001b[39;00m \u001b[38;5;124m\"\u001b[39m\u001b[38;5;124mbiu\u001b[39m\u001b[38;5;124m\"\u001b[39m \u001b[38;5;129;01mor\u001b[39;00m _is_integral_float(labels))  \u001b[38;5;66;03m# bool, int, uint\u001b[39;00m\n\u001b[1;32m    192\u001b[0m     )\n\u001b[1;32m    193\u001b[0m \u001b[38;5;28;01melse\u001b[39;00m:\n\u001b[0;32m--> 194\u001b[0m     labels \u001b[38;5;241m=\u001b[39m \u001b[43mcached_unique\u001b[49m\u001b[43m(\u001b[49m\u001b[43my\u001b[49m\u001b[43m,\u001b[49m\u001b[43m \u001b[49m\u001b[43mxp\u001b[49m\u001b[38;5;241;43m=\u001b[39;49m\u001b[43mxp\u001b[49m\u001b[43m)\u001b[49m\n\u001b[1;32m    196\u001b[0m     \u001b[38;5;28;01mreturn\u001b[39;00m labels\u001b[38;5;241m.\u001b[39mshape[\u001b[38;5;241m0\u001b[39m] \u001b[38;5;241m<\u001b[39m \u001b[38;5;241m3\u001b[39m \u001b[38;5;129;01mand\u001b[39;00m (\n\u001b[1;32m    197\u001b[0m         xp\u001b[38;5;241m.\u001b[39misdtype(y\u001b[38;5;241m.\u001b[39mdtype, (\u001b[38;5;124m\"\u001b[39m\u001b[38;5;124mbool\u001b[39m\u001b[38;5;124m\"\u001b[39m, \u001b[38;5;124m\"\u001b[39m\u001b[38;5;124msigned integer\u001b[39m\u001b[38;5;124m\"\u001b[39m, \u001b[38;5;124m\"\u001b[39m\u001b[38;5;124munsigned integer\u001b[39m\u001b[38;5;124m\"\u001b[39m))\n\u001b[1;32m    198\u001b[0m         \u001b[38;5;129;01mor\u001b[39;00m _is_integral_float(labels)\n\u001b[1;32m    199\u001b[0m     )\n",
      "File \u001b[0;32m/opt/conda/lib/python3.11/site-packages/sklearn/utils/_unique.py:105\u001b[0m, in \u001b[0;36mcached_unique\u001b[0;34m(xp, *ys)\u001b[0m\n\u001b[1;32m     81\u001b[0m \u001b[38;5;28;01mdef\u001b[39;00m \u001b[38;5;21mcached_unique\u001b[39m(\u001b[38;5;241m*\u001b[39mys, xp\u001b[38;5;241m=\u001b[39m\u001b[38;5;28;01mNone\u001b[39;00m):\n\u001b[1;32m     82\u001b[0m \u001b[38;5;250m    \u001b[39m\u001b[38;5;124;03m\"\"\"Return the unique values of ys.\u001b[39;00m\n\u001b[1;32m     83\u001b[0m \n\u001b[1;32m     84\u001b[0m \u001b[38;5;124;03m    Use the cached values from dtype.metadata if present.\u001b[39;00m\n\u001b[0;32m   (...)\u001b[0m\n\u001b[1;32m    103\u001b[0m \u001b[38;5;124;03m        Unique values of ys.\u001b[39;00m\n\u001b[1;32m    104\u001b[0m \u001b[38;5;124;03m    \"\"\"\u001b[39;00m\n\u001b[0;32m--> 105\u001b[0m     res \u001b[38;5;241m=\u001b[39m \u001b[38;5;28;43mtuple\u001b[39;49m\u001b[43m(\u001b[49m\u001b[43m_cached_unique\u001b[49m\u001b[43m(\u001b[49m\u001b[43my\u001b[49m\u001b[43m,\u001b[49m\u001b[43m \u001b[49m\u001b[43mxp\u001b[49m\u001b[38;5;241;43m=\u001b[39;49m\u001b[43mxp\u001b[49m\u001b[43m)\u001b[49m\u001b[43m \u001b[49m\u001b[38;5;28;43;01mfor\u001b[39;49;00m\u001b[43m \u001b[49m\u001b[43my\u001b[49m\u001b[43m \u001b[49m\u001b[38;5;129;43;01min\u001b[39;49;00m\u001b[43m \u001b[49m\u001b[43mys\u001b[49m\u001b[43m)\u001b[49m\n\u001b[1;32m    106\u001b[0m     \u001b[38;5;28;01mif\u001b[39;00m \u001b[38;5;28mlen\u001b[39m(res) \u001b[38;5;241m==\u001b[39m \u001b[38;5;241m1\u001b[39m:\n\u001b[1;32m    107\u001b[0m         \u001b[38;5;28;01mreturn\u001b[39;00m res[\u001b[38;5;241m0\u001b[39m]\n",
      "File \u001b[0;32m/opt/conda/lib/python3.11/site-packages/sklearn/utils/_unique.py:105\u001b[0m, in \u001b[0;36m<genexpr>\u001b[0;34m(.0)\u001b[0m\n\u001b[1;32m     81\u001b[0m \u001b[38;5;28;01mdef\u001b[39;00m \u001b[38;5;21mcached_unique\u001b[39m(\u001b[38;5;241m*\u001b[39mys, xp\u001b[38;5;241m=\u001b[39m\u001b[38;5;28;01mNone\u001b[39;00m):\n\u001b[1;32m     82\u001b[0m \u001b[38;5;250m    \u001b[39m\u001b[38;5;124;03m\"\"\"Return the unique values of ys.\u001b[39;00m\n\u001b[1;32m     83\u001b[0m \n\u001b[1;32m     84\u001b[0m \u001b[38;5;124;03m    Use the cached values from dtype.metadata if present.\u001b[39;00m\n\u001b[0;32m   (...)\u001b[0m\n\u001b[1;32m    103\u001b[0m \u001b[38;5;124;03m        Unique values of ys.\u001b[39;00m\n\u001b[1;32m    104\u001b[0m \u001b[38;5;124;03m    \"\"\"\u001b[39;00m\n\u001b[0;32m--> 105\u001b[0m     res \u001b[38;5;241m=\u001b[39m \u001b[38;5;28mtuple\u001b[39m(\u001b[43m_cached_unique\u001b[49m\u001b[43m(\u001b[49m\u001b[43my\u001b[49m\u001b[43m,\u001b[49m\u001b[43m \u001b[49m\u001b[43mxp\u001b[49m\u001b[38;5;241;43m=\u001b[39;49m\u001b[43mxp\u001b[49m\u001b[43m)\u001b[49m \u001b[38;5;28;01mfor\u001b[39;00m y \u001b[38;5;129;01min\u001b[39;00m ys)\n\u001b[1;32m    106\u001b[0m     \u001b[38;5;28;01mif\u001b[39;00m \u001b[38;5;28mlen\u001b[39m(res) \u001b[38;5;241m==\u001b[39m \u001b[38;5;241m1\u001b[39m:\n\u001b[1;32m    107\u001b[0m         \u001b[38;5;28;01mreturn\u001b[39;00m res[\u001b[38;5;241m0\u001b[39m]\n",
      "File \u001b[0;32m/opt/conda/lib/python3.11/site-packages/sklearn/utils/_unique.py:78\u001b[0m, in \u001b[0;36m_cached_unique\u001b[0;34m(y, xp)\u001b[0m\n\u001b[1;32m     76\u001b[0m     \u001b[38;5;28;01mpass\u001b[39;00m\n\u001b[1;32m     77\u001b[0m xp, _ \u001b[38;5;241m=\u001b[39m get_namespace(y, xp\u001b[38;5;241m=\u001b[39mxp)\n\u001b[0;32m---> 78\u001b[0m \u001b[38;5;28;01mreturn\u001b[39;00m \u001b[43mxp\u001b[49m\u001b[38;5;241;43m.\u001b[39;49m\u001b[43munique_values\u001b[49m\u001b[43m(\u001b[49m\u001b[43my\u001b[49m\u001b[43m)\u001b[49m\n",
      "File \u001b[0;32m/opt/conda/lib/python3.11/site-packages/sklearn/utils/_array_api.py:416\u001b[0m, in \u001b[0;36m_NumPyAPIWrapper.unique_values\u001b[0;34m(self, x)\u001b[0m\n\u001b[1;32m    415\u001b[0m \u001b[38;5;28;01mdef\u001b[39;00m \u001b[38;5;21munique_values\u001b[39m(\u001b[38;5;28mself\u001b[39m, x):\n\u001b[0;32m--> 416\u001b[0m     \u001b[38;5;28;01mreturn\u001b[39;00m \u001b[43mnumpy\u001b[49m\u001b[38;5;241;43m.\u001b[39;49m\u001b[43munique\u001b[49m\u001b[43m(\u001b[49m\u001b[43mx\u001b[49m\u001b[43m)\u001b[49m\n",
      "File \u001b[0;32m/opt/conda/lib/python3.11/site-packages/numpy/lib/arraysetops.py:274\u001b[0m, in \u001b[0;36munique\u001b[0;34m(ar, return_index, return_inverse, return_counts, axis, equal_nan)\u001b[0m\n\u001b[1;32m    272\u001b[0m ar \u001b[38;5;241m=\u001b[39m np\u001b[38;5;241m.\u001b[39masanyarray(ar)\n\u001b[1;32m    273\u001b[0m \u001b[38;5;28;01mif\u001b[39;00m axis \u001b[38;5;129;01mis\u001b[39;00m \u001b[38;5;28;01mNone\u001b[39;00m:\n\u001b[0;32m--> 274\u001b[0m     ret \u001b[38;5;241m=\u001b[39m \u001b[43m_unique1d\u001b[49m\u001b[43m(\u001b[49m\u001b[43mar\u001b[49m\u001b[43m,\u001b[49m\u001b[43m \u001b[49m\u001b[43mreturn_index\u001b[49m\u001b[43m,\u001b[49m\u001b[43m \u001b[49m\u001b[43mreturn_inverse\u001b[49m\u001b[43m,\u001b[49m\u001b[43m \u001b[49m\u001b[43mreturn_counts\u001b[49m\u001b[43m,\u001b[49m\u001b[43m \u001b[49m\n\u001b[1;32m    275\u001b[0m \u001b[43m                    \u001b[49m\u001b[43mequal_nan\u001b[49m\u001b[38;5;241;43m=\u001b[39;49m\u001b[43mequal_nan\u001b[49m\u001b[43m)\u001b[49m\n\u001b[1;32m    276\u001b[0m     \u001b[38;5;28;01mreturn\u001b[39;00m _unpack_tuple(ret)\n\u001b[1;32m    278\u001b[0m \u001b[38;5;66;03m# axis was specified and not None\u001b[39;00m\n",
      "File \u001b[0;32m/opt/conda/lib/python3.11/site-packages/numpy/lib/arraysetops.py:336\u001b[0m, in \u001b[0;36m_unique1d\u001b[0;34m(ar, return_index, return_inverse, return_counts, equal_nan)\u001b[0m\n\u001b[1;32m    334\u001b[0m     aux \u001b[38;5;241m=\u001b[39m ar[perm]\n\u001b[1;32m    335\u001b[0m \u001b[38;5;28;01melse\u001b[39;00m:\n\u001b[0;32m--> 336\u001b[0m     ar\u001b[38;5;241m.\u001b[39msort()\n\u001b[1;32m    337\u001b[0m     aux \u001b[38;5;241m=\u001b[39m ar\n\u001b[1;32m    338\u001b[0m mask \u001b[38;5;241m=\u001b[39m np\u001b[38;5;241m.\u001b[39mempty(aux\u001b[38;5;241m.\u001b[39mshape, dtype\u001b[38;5;241m=\u001b[39mnp\u001b[38;5;241m.\u001b[39mbool_)\n",
      "\u001b[0;31mTypeError\u001b[0m: '<' not supported between instances of 'dict' and 'dict'"
     ]
    }
   ],
   "source": [
    "model.eval()\n",
    "providers = [\"CUDAExecutionProvider\"] if torch.cuda.is_available() else [\"CPUExecutionProvider\"]\n",
    "quantized_session = ort.InferenceSession(\"binary_distill_model_quant.onnx\",providers=providers)\n",
    "originalModelScore = timed_inference(model, tokenizer)\n",
    "print(f\"Original Model F1 Score: {originalModelScore[0]}, Time taken: {originalModelScore[1]} seconds\")\n",
    "quantizedModelScore = timed_onnx_inference(session=quantized_session, tokenizer=tokenizer,dataset=onnx_test_dataset)\n",
    "print(f\"Quantized Model F1 Score: {quantizedModelScore[0]}, Time taken: {quantizedModelScore[1]} seconds\")"
   ]
  },
  {
   "cell_type": "code",
   "execution_count": null,
   "id": "04afbce5-9e4e-4677-8999-02c28ddb728f",
   "metadata": {},
   "outputs": [],
   "source": []
  }
 ],
 "metadata": {
  "kernelspec": {
   "display_name": "Python 3 (ipykernel)",
   "language": "python",
   "name": "python3"
  },
  "language_info": {
   "codemirror_mode": {
    "name": "ipython",
    "version": 3
   },
   "file_extension": ".py",
   "mimetype": "text/x-python",
   "name": "python",
   "nbconvert_exporter": "python",
   "pygments_lexer": "ipython3",
   "version": "3.11.6"
  }
 },
 "nbformat": 4,
 "nbformat_minor": 5
}
