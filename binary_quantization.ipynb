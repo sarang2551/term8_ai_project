{
 "cells": [
  {
   "cell_type": "code",
   "execution_count": null,
   "id": "69e19620-3b9b-4ead-893c-bdaa1738416a",
   "metadata": {},
   "outputs": [],
   "source": [
    "!pip install -U transformers\n",
    "!pip install -U torch\n",
    "!pip install -U joblib\n",
    "!pip install -U onnx\n",
    "!pip install -U onnxruntime\n",
    "!pip install -U scikit-learn\n",
    "!pip install -U datasets"
   ]
  },
  {
   "cell_type": "code",
   "execution_count": 1,
   "id": "1c3975a5-d8ca-4e25-ac24-499c52aad57a",
   "metadata": {},
   "outputs": [
    {
     "name": "stderr",
     "output_type": "stream",
     "text": [
      "/opt/conda/lib/python3.11/site-packages/tqdm/auto.py:21: TqdmWarning: IProgress not found. Please update jupyter and ipywidgets. See https://ipywidgets.readthedocs.io/en/stable/user_install.html\n",
      "  from .autonotebook import tqdm as notebook_tqdm\n",
      "/opt/conda/lib/python3.11/site-packages/torchvision/io/image.py:13: UserWarning: Failed to load image Python extension: '/opt/conda/lib/python3.11/site-packages/torchvision/image.so: undefined symbol: _ZN3c1017RegisterOperatorsD1Ev'If you don't plan on using image functionality from `torchvision.io`, you can ignore this warning. Otherwise, there might be something wrong with your environment. Did you have `libjpeg` or `libpng` installed before building `torchvision` from source?\n",
      "  warn(\n"
     ]
    }
   ],
   "source": [
    "from transformers import DistilBertTokenizer\n",
    "import torch\n",
    "import joblib\n",
    "from torch.utils.data import DataLoader, Dataset\n",
    "import onnx\n",
    "import onnxruntime as ort\n",
    "from onnxruntime.quantization import quantize_dynamic, QuantType\n",
    "from transformers import AutoTokenizer, AutoModelForSequenceClassification, pipeline\n",
    "import numpy as np\n",
    "from sklearn.metrics import f1_score, accuracy_score\n",
    "import os\n",
    "import time\n",
    "from datasets import Dataset\n",
    "device = torch.device(\"cuda\" if torch.cuda.is_available() else \"cpu\")"
   ]
  },
  {
   "cell_type": "code",
   "execution_count": 2,
   "id": "26b9630c-2018-4e11-921b-b110f076106c",
   "metadata": {},
   "outputs": [
    {
     "name": "stdout",
     "output_type": "stream",
     "text": [
      "DistilBertForSequenceClassification(\n",
      "  (distilbert): DistilBertModel(\n",
      "    (embeddings): Embeddings(\n",
      "      (word_embeddings): Embedding(30522, 768, padding_idx=0)\n",
      "      (position_embeddings): Embedding(512, 768)\n",
      "      (LayerNorm): LayerNorm((768,), eps=1e-12, elementwise_affine=True)\n",
      "      (dropout): Dropout(p=0.1, inplace=False)\n",
      "    )\n",
      "    (transformer): Transformer(\n",
      "      (layer): ModuleList(\n",
      "        (0-5): 6 x TransformerBlock(\n",
      "          (attention): DistilBertSdpaAttention(\n",
      "            (dropout): Dropout(p=0.1, inplace=False)\n",
      "            (q_lin): Linear(in_features=768, out_features=768, bias=True)\n",
      "            (k_lin): Linear(in_features=768, out_features=768, bias=True)\n",
      "            (v_lin): Linear(in_features=768, out_features=768, bias=True)\n",
      "            (out_lin): Linear(in_features=768, out_features=768, bias=True)\n",
      "          )\n",
      "          (sa_layer_norm): LayerNorm((768,), eps=1e-12, elementwise_affine=True)\n",
      "          (ffn): FFN(\n",
      "            (dropout): Dropout(p=0.1, inplace=False)\n",
      "            (lin1): Linear(in_features=768, out_features=3072, bias=True)\n",
      "            (lin2): Linear(in_features=3072, out_features=768, bias=True)\n",
      "            (activation): GELUActivation()\n",
      "          )\n",
      "          (output_layer_norm): LayerNorm((768,), eps=1e-12, elementwise_affine=True)\n",
      "        )\n",
      "      )\n",
      "    )\n",
      "  )\n",
      "  (pre_classifier): Linear(in_features=768, out_features=768, bias=True)\n",
      "  (classifier): Linear(in_features=768, out_features=2, bias=True)\n",
      "  (dropout): Dropout(p=0.2, inplace=False)\n",
      ")\n"
     ]
    }
   ],
   "source": [
    "# Load model and tokenizer\n",
    "model = joblib.load(\"binary_classification_kd.joblib\")  # if you used joblib to save a wrapped torch model\n",
    "print((model))"
   ]
  },
  {
   "cell_type": "code",
   "execution_count": 3,
   "id": "d5ef3c0e-f8b8-4598-8602-c35ae426d19b",
   "metadata": {},
   "outputs": [
    {
     "name": "stdout",
     "output_type": "stream",
     "text": [
      "{'id': 'fd74868bc7a076e1', 'comment_text': \"What the hell, what would we call her if we wanted to say she was black? I'm talking about her race.\", 'cyberbullying': 1}\n"
     ]
    }
   ],
   "source": [
    "test_dataset = Dataset.from_file(r\"../subset_test/data-00000-of-00001.arrow\")\n",
    "label_map = {'toxic':0, 'severe_toxic':1, 'obscene':2, 'threat':3, 'insult':4, 'identity_hate':5}\n",
    "# remove uncessary columns\n",
    "test_dataset = test_dataset.remove_columns(list(label_map.keys()))\n",
    "print(test_dataset[0])\n",
    "\n",
    "# define\n",
    "tokenizer = DistilBertTokenizer.from_pretrained(\"distilbert-base-uncased\")"
   ]
  },
  {
   "cell_type": "code",
   "execution_count": 4,
   "id": "beeda6aa-1a13-4ad8-b2a1-ab841426c9ac",
   "metadata": {},
   "outputs": [],
   "source": [
    "def preprocess_for_onnx(ex):\n",
    "    tokens = tokenizer(\n",
    "        ex[\"comment_text\"],\n",
    "        padding=\"max_length\",\n",
    "        truncation=True,\n",
    "        max_length=128,\n",
    "        return_tensors=\"np\"\n",
    "    )\n",
    "    return {\n",
    "        \"input_ids\": tokens[\"input_ids\"][0],\n",
    "        \"attention_mask\": tokens[\"attention_mask\"][0],\n",
    "        \"labels\": ex[\"cyberbullying\"]\n",
    "    }\n",
    "onnx_test_dataset = test_dataset.map(preprocess_for_onnx)"
   ]
  },
  {
   "cell_type": "markdown",
   "id": "c114933f-2318-47a1-a3d8-7192b2cb3753",
   "metadata": {},
   "source": [
    "## Code for exporting the BERT model into a ONNX model"
   ]
  },
  {
   "cell_type": "code",
   "execution_count": 36,
   "id": "43648f6b-3ca4-42b0-af70-482d0afd6385",
   "metadata": {},
   "outputs": [],
   "source": [
    "dummy = tokenizer(\"This is a test\", return_tensors=\"pt\", padding=\"max_length\", truncation=True, max_length=128)\n",
    "dummy.to(device)  # Move model to GPU if available\n",
    "torch.onnx.export(\n",
    "    model,\n",
    "    (dummy[\"input_ids\"], dummy[\"attention_mask\"]),\n",
    "    \"binary_distill_model.onnx\",\n",
    "    input_names=[\"input_ids\", \"attention_mask\"],\n",
    "    output_names=[\"logits\"],\n",
    "    dynamic_axes={\n",
    "        \"input_ids\": {0: \"batch_size\", 1: \"seq_len\"},\n",
    "        \"attention_mask\": {0: \"batch_size\", 1: \"seq_len\"},\n",
    "        \"logits\": {0: \"batch_size\", 1: \"num_labels\"},\n",
    "    },\n",
    "    opset_version=14\n",
    ")"
   ]
  },
  {
   "cell_type": "code",
   "execution_count": 37,
   "id": "dec03138-e39d-45e7-93c2-9d86402b1f73",
   "metadata": {},
   "outputs": [
    {
     "name": "stdout",
     "output_type": "stream",
     "text": [
      "ONNX export successful and model is valid!\n"
     ]
    }
   ],
   "source": [
    "onnx_model = onnx.load(\"binary_distill_model.onnx\")\n",
    "onnx.checker.check_model(onnx_model)\n",
    "print(\"ONNX export successful and model is valid!\")"
   ]
  },
  {
   "cell_type": "markdown",
   "id": "c9c83609-a938-4bff-9379-116b2359c078",
   "metadata": {},
   "source": [
    "## ONNX quantization code"
   ]
  },
  {
   "cell_type": "code",
   "execution_count": 38,
   "id": "a2b21414-2b27-424a-81af-74340e451cf3",
   "metadata": {},
   "outputs": [
    {
     "name": "stderr",
     "output_type": "stream",
     "text": [
      "WARNING:root:Please consider to run pre-processing before quantization. Refer to example: https://github.com/microsoft/onnxruntime-inference-examples/blob/main/quantization/image_classification/cpu/ReadMe.md \n"
     ]
    }
   ],
   "source": [
    "model_input=\"binary_distill_model.onnx\"\n",
    "model_output=\"binary_distill_model_quant.onnx\"\n",
    "quantize_dynamic(\n",
    "    model_input=model_input,\n",
    "    model_output=model_output,\n",
    "    weight_type=QuantType.QUInt8,\n",
    ")"
   ]
  },
  {
   "cell_type": "code",
   "execution_count": 39,
   "id": "fb440042-97c0-4eff-8763-36fbfe63dcfa",
   "metadata": {},
   "outputs": [],
   "source": [
    "def print_size_of_model(model,name):\n",
    "    torch.save(model.state_dict(), \"temp.p\")\n",
    "    print(name,' Size (MB):', os.path.getsize(\"temp.p\")/1e6)\n",
    "    os.remove('temp.p')\n",
    "def print_size_of_onnx_model(model_path, name=\"ONNX Model\"):\n",
    "    size_mb = os.path.getsize(model_path) / 1e6\n",
    "    print(f\"{name} Size (MB): {size_mb:.2f}\")"
   ]
  },
  {
   "cell_type": "code",
   "execution_count": 41,
   "id": "abab1914-1d61-4f6d-bcee-c6cd908331a3",
   "metadata": {},
   "outputs": [
    {
     "name": "stdout",
     "output_type": "stream",
     "text": [
      "Quant ONNX model Size (MB): 67.38\n",
      "Original model  Size (MB): 267.854622\n"
     ]
    }
   ],
   "source": [
    "print_size_of_onnx_model(\"binary_distill_model_quant.onnx\",\"Quant ONNX model\")\n",
    "print_size_of_model(model,\"Original model\")"
   ]
  },
  {
   "cell_type": "markdown",
   "id": "e4297574-eea3-441f-8ce1-0f3057980db3",
   "metadata": {},
   "source": [
    "# Inference Section"
   ]
  },
  {
   "cell_type": "code",
   "execution_count": 5,
   "id": "9eb75c39-d168-401a-a6ae-17197e5f29d5",
   "metadata": {},
   "outputs": [],
   "source": [
    "def timed_onnx_inference(session, tokenizer, dataset, batch_size=32):\n",
    "    start_time = time.time()\n",
    "    all_preds = []\n",
    "    all_labels = []\n",
    "\n",
    "    for i in range(0, len(dataset), batch_size):\n",
    "        batch = dataset[i:i+batch_size]  # This is a dict of batched columns\n",
    "\n",
    "        # Tokenize batch[\"comment_text\"]\n",
    "        tokens = tokenizer(\n",
    "            batch[\"comment_text\"],\n",
    "            return_tensors=\"np\",\n",
    "            padding=\"max_length\",\n",
    "            truncation=True,\n",
    "            max_length=128\n",
    "        )\n",
    "\n",
    "        inputs = {\n",
    "            \"input_ids\": tokens[\"input_ids\"].astype(np.int64),\n",
    "            \"attention_mask\": tokens[\"attention_mask\"].astype(np.int64)\n",
    "        }\n",
    "\n",
    "        # ONNX inference\n",
    "        logits = session.run([\"logits\"], inputs)[0]\n",
    "        probs = 1 / (1 + np.exp(-logits))  # Sigmoid\n",
    "        preds = [prob.index(1) for prob in (probs > 0.5).astype(int).tolist()]\n",
    "        # print(preds)\n",
    "        all_preds.extend(preds)\n",
    "        all_labels.extend(batch[\"cyberbullying\"])\n",
    "\n",
    "    end_time = time.time()\n",
    "    # print(all_labels, all_preds)\n",
    "    f1 = f1_score(all_labels, all_preds, average=\"micro\")\n",
    "    return f1, end_time - start_time\n",
    "\n",
    "def timed_inference(model, tokenizer):\n",
    "    start_time = time.time()\n",
    "    classifier = pipeline(\"text-classification\", model=model, tokenizer=tokenizer, device=device, return_all_scores=False)\n",
    "    results = classifier(test_dataset['comment_text'], max_length=128, padding=\"max_length\", truncation=True)\n",
    "    end_time = time.time()\n",
    "    cleaned_results = [int(result[\"label\"][-1]) for result in results]\n",
    "    f1 = f1_score(test_dataset['cyberbullying'], cleaned_results, average='micro')\n",
    "    return f1, end_time - start_time"
   ]
  },
  {
   "cell_type": "code",
   "execution_count": 6,
   "id": "d1ccdb74-d9ba-4503-96da-04e1df6a11f8",
   "metadata": {},
   "outputs": [
    {
     "data": {
      "text/plain": [
       "['AzureExecutionProvider', 'CPUExecutionProvider']"
      ]
     },
     "execution_count": 6,
     "metadata": {},
     "output_type": "execute_result"
    }
   ],
   "source": [
    "ort.get_available_providers()"
   ]
  },
  {
   "cell_type": "code",
   "execution_count": 11,
   "id": "969b8391-7fa7-46a1-8656-9b57280c246f",
   "metadata": {},
   "outputs": [
    {
     "name": "stderr",
     "output_type": "stream",
     "text": [
      "Device set to use cuda\n",
      "/opt/conda/lib/python3.11/site-packages/transformers/pipelines/text_classification.py:106: UserWarning: `return_all_scores` is now deprecated,  if want a similar functionality use `top_k=None` instead of `return_all_scores=True` or `top_k=1` instead of `return_all_scores=False`.\n",
      "  warnings.warn(\n"
     ]
    },
    {
     "name": "stdout",
     "output_type": "stream",
     "text": [
      "Original Model F1 Score: 0.902, Time taken: 2.9888014793395996 seconds\n",
      "Quantized Model F1 Score: 0.902, Time taken: 51.64895009994507 seconds\n"
     ]
    }
   ],
   "source": [
    "model.eval()\n",
    "# providers = [\"CUDAExecutionProvider\"] if torch.cuda.is_available() else [\"CPUExecutionProvider\"]\n",
    "providers = [\"CPUExecutionProvider\"]\n",
    "quantized_session = ort.InferenceSession(\"binary_distill_model_quant.onnx\",providers=providers)\n",
    "originalModelScore = timed_inference(model, tokenizer)\n",
    "print(f\"Original Model F1 Score: {originalModelScore[0]}, Time taken: {originalModelScore[1]} seconds\")\n",
    "quantizedModelScore = timed_onnx_inference(session=quantized_session, tokenizer=tokenizer,dataset=onnx_test_dataset)\n",
    "print(f\"Quantized Model F1 Score: {quantizedModelScore[0]}, Time taken: {quantizedModelScore[1]} seconds\")"
   ]
  },
  {
   "cell_type": "code",
   "execution_count": null,
   "id": "04afbce5-9e4e-4677-8999-02c28ddb728f",
   "metadata": {},
   "outputs": [],
   "source": []
  }
 ],
 "metadata": {
  "kernelspec": {
   "display_name": "Python 3 (ipykernel)",
   "language": "python",
   "name": "python3"
  },
  "language_info": {
   "codemirror_mode": {
    "name": "ipython",
    "version": 3
   },
   "file_extension": ".py",
   "mimetype": "text/x-python",
   "name": "python",
   "nbconvert_exporter": "python",
   "pygments_lexer": "ipython3",
   "version": "3.11.6"
  }
 },
 "nbformat": 4,
 "nbformat_minor": 5
}
