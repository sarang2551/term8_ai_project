{
 "cells": [
  {
   "cell_type": "code",
   "execution_count": 16,
   "id": "25846bb0-a465-4aec-90d2-849797751858",
   "metadata": {},
   "outputs": [
    {
     "name": "stdout",
     "output_type": "stream",
     "text": [
      "Using cpu device\n"
     ]
    }
   ],
   "source": [
    "# Please install OpenAI SDK first: `pip3 install openai`\n",
    "# !pip install -U openai\n",
    "import json\n",
    "from openai import OpenAI\n",
    "import pandas as pd\n",
    "import torch\n",
    "# Check if the current `accelerator <https://pytorch.org/docs/stable/torch.html#accelerators>`__is available, and if not, use the CPU\n",
    "device = torch.device(\"cuda\" if torch.cuda.is_available() else \"cpu\")\n",
    "print(f\"Using {device} device\")\n",
    "\n",
    "def generate_response(user_prompt, API_KEY):\n",
    "    client = OpenAI(api_key=API_KEY, base_url=\"https://api.deepseek.com\")\n",
    "    system_prompt = \"\"\"\n",
    "    The user will provide some social media post text, parse and output in JSON format, \"1\" if the post is toxic, and \"0\" if not toxic. \n",
    "    \n",
    "    EXAMPLE INPUT: \n",
    "    COCKSUCKER BEFORE YOU PISS AROUND ON MY WORK\n",
    "    \n",
    "    EXAMPLE JSON OUTPUT:\n",
    "    {\n",
    "        \"cyberbullying\": 1\n",
    "    }\n",
    "    \"\"\"\n",
    "    response = client.chat.completions.create(\n",
    "        model=\"deepseek-chat\",\n",
    "        messages=[\n",
    "            {\"role\": \"system\", \"content\": system_prompt},\n",
    "            {\"role\": \"user\", \"content\": user_prompt},\n",
    "        ],\n",
    "        response_format={\n",
    "            'type': 'json_object'\n",
    "        },\n",
    "        stream=False\n",
    "    )\n",
    "    \n",
    "    return json.loads(response.choices[0].message.content)\n",
    "\n",
    "def generate_response_multiclass(user_prompt, API_KEY):\n",
    "    client = OpenAI(api_key=API_KEY, base_url=\"https://api.deepseek.com\")\n",
    "    system_prompt = \"\"\"\n",
    "    The user will provide some social media post text, parse and output in JSON format, multi-label classify the post for each of the following categories: toxic, severe toxic, obscene, threat, insult, identity hate. \n",
    "    \n",
    "    EXAMPLE INPUT: \n",
    "    COCKSUCKER BEFORE YOU PISS AROUND ON MY WORK\n",
    "    \n",
    "    EXAMPLE JSON OUTPUT:\n",
    "    {\n",
    "        \"toxic\": 1,\n",
    "        \"severe toxic\": 1,\n",
    "        \"obscene\": 1,\n",
    "        \"threat\": 0,\n",
    "        \"insult\": 1,\n",
    "        \"identity hate\": 0\n",
    "    }\n",
    "    \"\"\"\n",
    "    response = client.chat.completions.create(\n",
    "        model=\"deepseek-chat\",\n",
    "        messages=[\n",
    "            {\"role\": \"system\", \"content\": system_prompt},\n",
    "            {\"role\": \"user\", \"content\": user_prompt},\n",
    "        ],\n",
    "        response_format={\n",
    "            'type': 'json_object'\n",
    "        },\n",
    "        stream=False\n",
    "    )\n",
    "    \n",
    "    return json.loads(response.choices[0].message.content)\n",
    "\n",
    "def call_all(list_of_comments, dpsk_func, API_KEY):\n",
    "    \"\"\"function to run the deepseek call on all the text data and output a json file\"\"\"\n",
    "    json_outputs = []\n",
    "    for i in list_of_comments:\n",
    "        json_outputs.append(dpsk_func(i, API_KEY))\n",
    "    # Convert the list into a JSON array\n",
    "    json_array = json.dumps(json_outputs, indent=4)\n",
    "    # Save the json array as a file\n",
    "    with open('cyberbullying.json', 'w') as file:\n",
    "        file.write(json_array)"
   ]
  },
  {
   "cell_type": "code",
   "execution_count": 17,
   "id": "c9b80e7d-15a0-4c8f-84b6-9aeea8f8fd85",
   "metadata": {},
   "outputs": [],
   "source": [
    "# Example usage LOAD THE DATASET HERE\n",
    "\n",
    "# Load and drop missing values\n",
    "df = pd.read_excel(\"train.xlsx\")\n",
    "df = df.dropna(subset=[\"comment_text\", \"cyberbullying\"])\n",
    "\n",
    "# Ensure types\n",
    "df[\"comment_text\"] = df[\"comment_text\"].astype(str)\n",
    "df[\"cyberbullying\"] = df[\"cyberbullying\"].astype(int)\n",
    "\n",
    "# Extra safety: remove non-stringy things\n",
    "def is_valid_text(t):\n",
    "    return isinstance(t, str) and len(t.strip()) > 0\n",
    "\n",
    "df = df[df[\"comment_text\"].apply(is_valid_text)]\n",
    "\n",
    "comments = df[\"comment_text\"].tolist()\n",
    "comments = comments[:3] # for testing"
   ]
  },
  {
   "cell_type": "code",
   "execution_count": 24,
   "id": "6184379c-1e4d-4580-b903-75d74533cac8",
   "metadata": {},
   "outputs": [
    {
     "name": "stdout",
     "output_type": "stream",
     "text": [
      "Explanation\n",
      "Why the edits made under my username Hardcore Metallica Fan were reverted? They weren't vandalisms, just closure on some GAs after I voted at New York Dolls FAC. And please don't remove the template from the talk page since I'm retired now.89.205.38.27\n",
      "D'aww! He matches this background colour I'm seemingly stuck with. Thanks.  (talk) 21:51, January 11, 2016 (UTC)\n",
      "Hey man, I'm really not trying to edit war. It's just that this guy is constantly removing relevant information and talking to me through edits instead of my talk page. He seems to care more about the formatting than the actual info.\n"
     ]
    }
   ],
   "source": [
    "API_KEY = \"PUT API KEY HERE\"\n",
    "call_all(comments, generate_response_multiclass, API_KEY)"
   ]
  },
  {
   "cell_type": "code",
   "execution_count": null,
   "id": "15ae7f02-9c63-4666-a2bf-9bfb17da25b5",
   "metadata": {},
   "outputs": [],
   "source": []
  }
 ],
 "metadata": {
  "kernelspec": {
   "display_name": "Python 3 (ipykernel)",
   "language": "python",
   "name": "python3"
  },
  "language_info": {
   "codemirror_mode": {
    "name": "ipython",
    "version": 3
   },
   "file_extension": ".py",
   "mimetype": "text/x-python",
   "name": "python",
   "nbconvert_exporter": "python",
   "pygments_lexer": "ipython3",
   "version": "3.11.9"
  }
 },
 "nbformat": 4,
 "nbformat_minor": 5
}
