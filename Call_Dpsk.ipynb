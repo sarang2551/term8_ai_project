{
 "cells": [
  {
   "cell_type": "code",
   "execution_count": null,
   "id": "25846bb0-a465-4aec-90d2-849797751858",
   "metadata": {},
   "outputs": [],
   "source": [
    "# Please install OpenAI SDK first: `pip3 install openai`\n",
    "# !pip install -U openai\n",
    "from openai import OpenAI\n",
    "\n",
    "client = OpenAI(api_key=\"<COPY API KEY HERE>\", base_url=\"https://api.deepseek.com\")\n",
    "\n",
    "def generate_response(prompt):\n",
    "    response = client.chat.completions.create(\n",
    "        model=\"deepseek-chat\",\n",
    "        messages=[\n",
    "            {\"role\": \"system\", \"content\": \"You are a helpful assistant\"},\n",
    "            {\"role\": \"user\", \"content\": prompt},\n",
    "        ],\n",
    "        stream=False\n",
    "    )\n",
    "    \n",
    "    print(response.choices[0].message.content)\n",
    "\n",
    "# Example usage\n",
    "prompt = \"Area of triangle: base 6cm, height 4cm. Show formula and result only\"\n",
    "result = generate_response(prompt)\n",
    "print(result)"
   ]
  },
  {
   "cell_type": "code",
   "execution_count": null,
   "id": "c9b80e7d-15a0-4c8f-84b6-9aeea8f8fd85",
   "metadata": {},
   "outputs": [],
   "source": []
  }
 ],
 "metadata": {
  "kernelspec": {
   "display_name": "Python 3 (ipykernel)",
   "language": "python",
   "name": "python3"
  },
  "language_info": {
   "codemirror_mode": {
    "name": "ipython",
    "version": 3
   },
   "file_extension": ".py",
   "mimetype": "text/x-python",
   "name": "python",
   "nbconvert_exporter": "python",
   "pygments_lexer": "ipython3",
   "version": "3.11.9"
  }
 },
 "nbformat": 4,
 "nbformat_minor": 5
}
