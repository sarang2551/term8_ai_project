{
 "cells": [
  {
   "cell_type": "code",
   "execution_count": null,
   "metadata": {},
   "outputs": [
    {
     "data": {
      "text/plain": [
       "False"
      ]
     },
     "execution_count": 32,
     "metadata": {},
     "output_type": "execute_result"
    }
   ],
   "source": [
    "import torch\n",
    "import onnx\n",
    "import onnxruntime as ort\n",
    "from onnxruntime.quantization import quantize_dynamic, QuantType\n",
    "from transformers import AutoTokenizer, AutoModelForSequenceClassification, pipeline\n",
    "from datasets import Dataset\n",
    "import numpy as np\n",
    "from sklearn.metrics import f1_score\n",
    "import os\n",
    "import time\n",
    "import torch\n",
    "from scipy.special import expit\n",
    "torch.cuda.is_available()"
   ]
  },
  {
   "cell_type": "code",
   "execution_count": 3,
   "metadata": {},
   "outputs": [],
   "source": [
    "label_map = {'toxic':0, 'severe_toxic':1, 'obscene':2, 'threat':3, 'insult':4, 'identity_hate':5}"
   ]
  },
  {
   "cell_type": "code",
   "execution_count": 50,
   "metadata": {},
   "outputs": [
    {
     "data": {
      "text/plain": [
       "{'id': '0001ea8717f6de06',\n",
       " 'comment_text': 'Thank you for understanding. I think very highly of you and would not revert without discussion.',\n",
       " 'cyberbullying': 0,\n",
       " 'labels': [0.0, 0.0, 0.0, 0.0, 0.0, 0.0]}"
      ]
     },
     "execution_count": 50,
     "metadata": {},
     "output_type": "execute_result"
    }
   ],
   "source": [
    "test_dataset = Dataset.from_file(r\"processed_dataset/test/data-00000-of-00001.arrow\")\n",
    "model = AutoModelForSequenceClassification.from_pretrained(f\"./models/BERT_Multi-Label_classification\", num_labels=len(label_map.keys()), hidden_dropout_prob=0.1)\n",
    "tokenizer = AutoTokenizer.from_pretrained(f\"./models/BERT_Multi-Label_classification\")\n",
    "# Define label map\n",
    "label_map = {'toxic': 0, 'severe_toxic': 1, 'obscene': 2, 'threat': 3, 'insult': 4, 'identity_hate': 5}\n",
    "\n",
    "# Create multi-label column\n",
    "def create_multi_label(example):\n",
    "    return {\"labels\": [np.float32(example[label]) for label in label_map.keys()]}\n",
    "\n",
    "test_dataset = test_dataset.map(create_multi_label).remove_columns(list(label_map.keys()))\n",
    "test_dataset[0]"
   ]
  },
  {
   "cell_type": "code",
   "execution_count": 36,
   "metadata": {},
   "outputs": [
    {
     "name": "stderr",
     "output_type": "stream",
     "text": [
      "Map: 100%|██████████| 63978/63978 [00:37<00:00, 1715.18 examples/s]\n"
     ]
    },
    {
     "data": {
      "text/plain": [
       "{'id': '0001ea8717f6de06',\n",
       " 'comment_text': 'Thank you for understanding. I think very highly of you and would not revert without discussion.',\n",
       " 'cyberbullying': 0,\n",
       " 'labels': [0.0, 0.0, 0.0, 0.0, 0.0, 0.0],\n",
       " 'input_ids': [101,\n",
       "  4067,\n",
       "  2017,\n",
       "  2005,\n",
       "  4824,\n",
       "  1012,\n",
       "  1045,\n",
       "  2228,\n",
       "  2200,\n",
       "  3811,\n",
       "  1997,\n",
       "  2017,\n",
       "  1998,\n",
       "  2052,\n",
       "  2025,\n",
       "  7065,\n",
       "  8743,\n",
       "  2302,\n",
       "  6594,\n",
       "  1012,\n",
       "  102,\n",
       "  0,\n",
       "  0,\n",
       "  0,\n",
       "  0,\n",
       "  0,\n",
       "  0,\n",
       "  0,\n",
       "  0,\n",
       "  0,\n",
       "  0,\n",
       "  0,\n",
       "  0,\n",
       "  0,\n",
       "  0,\n",
       "  0,\n",
       "  0,\n",
       "  0,\n",
       "  0,\n",
       "  0,\n",
       "  0,\n",
       "  0,\n",
       "  0,\n",
       "  0,\n",
       "  0,\n",
       "  0,\n",
       "  0,\n",
       "  0,\n",
       "  0,\n",
       "  0,\n",
       "  0,\n",
       "  0,\n",
       "  0,\n",
       "  0,\n",
       "  0,\n",
       "  0,\n",
       "  0,\n",
       "  0,\n",
       "  0,\n",
       "  0,\n",
       "  0,\n",
       "  0,\n",
       "  0,\n",
       "  0,\n",
       "  0,\n",
       "  0,\n",
       "  0,\n",
       "  0,\n",
       "  0,\n",
       "  0,\n",
       "  0,\n",
       "  0,\n",
       "  0,\n",
       "  0,\n",
       "  0,\n",
       "  0,\n",
       "  0,\n",
       "  0,\n",
       "  0,\n",
       "  0,\n",
       "  0,\n",
       "  0,\n",
       "  0,\n",
       "  0,\n",
       "  0,\n",
       "  0,\n",
       "  0,\n",
       "  0,\n",
       "  0,\n",
       "  0,\n",
       "  0,\n",
       "  0,\n",
       "  0,\n",
       "  0,\n",
       "  0,\n",
       "  0,\n",
       "  0,\n",
       "  0,\n",
       "  0,\n",
       "  0,\n",
       "  0,\n",
       "  0,\n",
       "  0,\n",
       "  0,\n",
       "  0,\n",
       "  0,\n",
       "  0,\n",
       "  0,\n",
       "  0,\n",
       "  0,\n",
       "  0,\n",
       "  0,\n",
       "  0,\n",
       "  0,\n",
       "  0,\n",
       "  0,\n",
       "  0,\n",
       "  0,\n",
       "  0,\n",
       "  0,\n",
       "  0,\n",
       "  0,\n",
       "  0,\n",
       "  0,\n",
       "  0,\n",
       "  0,\n",
       "  0,\n",
       "  0],\n",
       " 'attention_mask': [1,\n",
       "  1,\n",
       "  1,\n",
       "  1,\n",
       "  1,\n",
       "  1,\n",
       "  1,\n",
       "  1,\n",
       "  1,\n",
       "  1,\n",
       "  1,\n",
       "  1,\n",
       "  1,\n",
       "  1,\n",
       "  1,\n",
       "  1,\n",
       "  1,\n",
       "  1,\n",
       "  1,\n",
       "  1,\n",
       "  1,\n",
       "  0,\n",
       "  0,\n",
       "  0,\n",
       "  0,\n",
       "  0,\n",
       "  0,\n",
       "  0,\n",
       "  0,\n",
       "  0,\n",
       "  0,\n",
       "  0,\n",
       "  0,\n",
       "  0,\n",
       "  0,\n",
       "  0,\n",
       "  0,\n",
       "  0,\n",
       "  0,\n",
       "  0,\n",
       "  0,\n",
       "  0,\n",
       "  0,\n",
       "  0,\n",
       "  0,\n",
       "  0,\n",
       "  0,\n",
       "  0,\n",
       "  0,\n",
       "  0,\n",
       "  0,\n",
       "  0,\n",
       "  0,\n",
       "  0,\n",
       "  0,\n",
       "  0,\n",
       "  0,\n",
       "  0,\n",
       "  0,\n",
       "  0,\n",
       "  0,\n",
       "  0,\n",
       "  0,\n",
       "  0,\n",
       "  0,\n",
       "  0,\n",
       "  0,\n",
       "  0,\n",
       "  0,\n",
       "  0,\n",
       "  0,\n",
       "  0,\n",
       "  0,\n",
       "  0,\n",
       "  0,\n",
       "  0,\n",
       "  0,\n",
       "  0,\n",
       "  0,\n",
       "  0,\n",
       "  0,\n",
       "  0,\n",
       "  0,\n",
       "  0,\n",
       "  0,\n",
       "  0,\n",
       "  0,\n",
       "  0,\n",
       "  0,\n",
       "  0,\n",
       "  0,\n",
       "  0,\n",
       "  0,\n",
       "  0,\n",
       "  0,\n",
       "  0,\n",
       "  0,\n",
       "  0,\n",
       "  0,\n",
       "  0,\n",
       "  0,\n",
       "  0,\n",
       "  0,\n",
       "  0,\n",
       "  0,\n",
       "  0,\n",
       "  0,\n",
       "  0,\n",
       "  0,\n",
       "  0,\n",
       "  0,\n",
       "  0,\n",
       "  0,\n",
       "  0,\n",
       "  0,\n",
       "  0,\n",
       "  0,\n",
       "  0,\n",
       "  0,\n",
       "  0,\n",
       "  0,\n",
       "  0,\n",
       "  0,\n",
       "  0,\n",
       "  0,\n",
       "  0,\n",
       "  0,\n",
       "  0]}"
      ]
     },
     "execution_count": 36,
     "metadata": {},
     "output_type": "execute_result"
    }
   ],
   "source": [
    "def preprocess_for_onnx(ex):\n",
    "    tokens = tokenizer(\n",
    "        ex[\"comment_text\"],\n",
    "        padding=\"max_length\",\n",
    "        truncation=True,\n",
    "        max_length=128,\n",
    "        return_tensors=\"np\"\n",
    "    )\n",
    "    return {\n",
    "        \"input_ids\": tokens[\"input_ids\"][0],\n",
    "        \"attention_mask\": tokens[\"attention_mask\"][0],\n",
    "        \"labels\": ex[\"labels\"]\n",
    "    }\n",
    "onnx_test_dataset = test_dataset.map(preprocess_for_onnx)\n",
    "onnx_test_dataset[0]"
   ]
  },
  {
   "cell_type": "code",
   "execution_count": 53,
   "metadata": {},
   "outputs": [],
   "source": [
    "def print_size_of_model(model,name):\n",
    "    torch.save(model.state_dict(), \"temp.p\")\n",
    "    print(name,' Size (MB):', os.path.getsize(\"temp.p\")/1e6)\n",
    "    os.remove('temp.p')\n",
    "def print_size_of_onnx_model(model_path, name=\"ONNX Model\"):\n",
    "    size_mb = os.path.getsize(model_path) / 1e6\n",
    "    print(f\"{name} Size (MB): {size_mb:.2f}\")"
   ]
  },
  {
   "cell_type": "code",
   "execution_count": 54,
   "metadata": {},
   "outputs": [
    {
     "name": "stdout",
     "output_type": "stream",
     "text": [
      "Original ONNX model Size (MB): 110.38\n",
      "Original model  Size (MB): 438.012793\n"
     ]
    }
   ],
   "source": [
    "print_size_of_onnx_model(\"models/multi_label_model_quant.onnx\",\"Original ONNX model\")\n",
    "print_size_of_model(model,\"Original model\")"
   ]
  },
  {
   "cell_type": "markdown",
   "metadata": {},
   "source": [
    "## Code for exporting the BERT model into a ONNX model"
   ]
  },
  {
   "cell_type": "code",
   "execution_count": 15,
   "metadata": {},
   "outputs": [],
   "source": [
    "dummy = tokenizer(\"This is a test\", return_tensors=\"pt\", padding=\"max_length\", truncation=True, max_length=128)\n",
    "\n",
    "torch.onnx.export(\n",
    "    model,\n",
    "    (dummy[\"input_ids\"], dummy[\"attention_mask\"]),\n",
    "    \"models/multi_label_model.onnx\",\n",
    "    input_names=[\"input_ids\", \"attention_mask\"],\n",
    "    output_names=[\"logits\"],\n",
    "    dynamic_axes={\n",
    "        \"input_ids\": {0: \"batch_size\", 1: \"seq_len\"},\n",
    "        \"attention_mask\": {0: \"batch_size\", 1: \"seq_len\"},\n",
    "        \"logits\": {0: \"batch_size\", 1: \"num_labels\"},\n",
    "    },\n",
    "    opset_version=14\n",
    ")"
   ]
  },
  {
   "cell_type": "code",
   "execution_count": null,
   "metadata": {},
   "outputs": [
    {
     "name": "stdout",
     "output_type": "stream",
     "text": [
      "ONNX export successful and model is valid!\n"
     ]
    }
   ],
   "source": [
    "onnx_model = onnx.load(\"models/multi_label_model.onnx\")\n",
    "onnx.checker.check_model(onnx_model)\n",
    "print(\"ONNX export successful and model is valid!\")"
   ]
  },
  {
   "cell_type": "markdown",
   "metadata": {},
   "source": [
    "### ONNX Quantization code "
   ]
  },
  {
   "cell_type": "code",
   "execution_count": 33,
   "metadata": {},
   "outputs": [
    {
     "name": "stderr",
     "output_type": "stream",
     "text": [
      "WARNING:root:Please consider to run pre-processing before quantization. Refer to example: https://github.com/microsoft/onnxruntime-inference-examples/blob/main/quantization/image_classification/cpu/ReadMe.md \n"
     ]
    }
   ],
   "source": [
    "model_input=\"models/multi_label_model.onnx\"\n",
    "model_output=\"models/multi_label_model_quant.onnx\"\n",
    "quantize_dynamic(\n",
    "    model_input=model_input,\n",
    "    model_output=model_output,\n",
    "    weight_type=QuantType.QUInt8,\n",
    ")"
   ]
  },
  {
   "cell_type": "markdown",
   "metadata": {},
   "source": [
    "## Inference Section"
   ]
  },
  {
   "cell_type": "code",
   "execution_count": 47,
   "metadata": {},
   "outputs": [],
   "source": [
    "def timed_onnx_inference(session, tokenizer, dataset, batch_size=32):\n",
    "    start_time = time.time()\n",
    "    all_preds = []\n",
    "    all_labels = []\n",
    "\n",
    "    for i in range(0, len(dataset), batch_size):\n",
    "        batch = dataset[i:i+batch_size]  # This is a dict of batched columns\n",
    "\n",
    "        # Tokenize batch[\"comment_text\"]\n",
    "        tokens = tokenizer(\n",
    "            batch[\"comment_text\"],\n",
    "            return_tensors=\"np\",\n",
    "            padding=\"max_length\",\n",
    "            truncation=True,\n",
    "            max_length=128\n",
    "        )\n",
    "\n",
    "        inputs = {\n",
    "            \"input_ids\": tokens[\"input_ids\"].astype(np.int64),\n",
    "            \"attention_mask\": tokens[\"attention_mask\"].astype(np.int64)\n",
    "        }\n",
    "\n",
    "        # ONNX inference\n",
    "        logits = session.run([\"logits\"], inputs)[0]\n",
    "        probs = 1 / (1 + np.exp(-logits))  # Sigmoid\n",
    "\n",
    "        preds = (probs > 0.5).astype(int)\n",
    "\n",
    "        all_preds.extend(preds.tolist())\n",
    "        all_labels.extend(batch[\"labels\"])\n",
    "\n",
    "    end_time = time.time()\n",
    "\n",
    "    f1 = f1_score(all_labels, all_preds, average=\"micro\")\n",
    "    return f1, end_time - start_time"
   ]
  },
  {
   "cell_type": "code",
   "execution_count": 41,
   "metadata": {},
   "outputs": [],
   "source": [
    "def timed_inference(model, tokenizer):\n",
    "    start_time = time.time()\n",
    "    classifier = pipeline(\"text-classification\", model=model, tokenizer=tokenizer, device=0, return_all_scores=True)\n",
    "    results = classifier(test_dataset['comment_text'], max_length=128, padding=\"max_length\", truncation=True)\n",
    "    end_time = time.time()\n",
    "    cleaned_results = [\n",
    "    [1 if score[\"score\"] > 0.5 else 0 for score in result]\n",
    "    for result in results\n",
    "    ]\n",
    "    f1 = f1_score(test_dataset['labels'], cleaned_results, average='micro')\n",
    "    return f1, end_time - start_time"
   ]
  },
  {
   "cell_type": "code",
   "execution_count": 48,
   "metadata": {},
   "outputs": [
    {
     "ename": "KeyboardInterrupt",
     "evalue": "",
     "output_type": "error",
     "traceback": [
      "\u001b[31m---------------------------------------------------------------------------\u001b[39m",
      "\u001b[31mKeyboardInterrupt\u001b[39m                         Traceback (most recent call last)",
      "\u001b[36mCell\u001b[39m\u001b[36m \u001b[39m\u001b[32mIn[48]\u001b[39m\u001b[32m, line 3\u001b[39m\n\u001b[32m      1\u001b[39m quantized_session = ort.InferenceSession(\u001b[33m\"\u001b[39m\u001b[33mmodels/multi_label_model_quant.onnx\u001b[39m\u001b[33m\"\u001b[39m,providers=[\u001b[33m\"\u001b[39m\u001b[33mCUDAExecutionProvider\u001b[39m\u001b[33m\"\u001b[39m])\n\u001b[32m      2\u001b[39m \u001b[38;5;66;03m#originalModelScore = timed_inference(model, tokenizer)\u001b[39;00m\n\u001b[32m----> \u001b[39m\u001b[32m3\u001b[39m quantizedModelScore = \u001b[43mtimed_onnx_inference\u001b[49m\u001b[43m(\u001b[49m\u001b[43msession\u001b[49m\u001b[43m=\u001b[49m\u001b[43mquantized_session\u001b[49m\u001b[43m,\u001b[49m\u001b[43m \u001b[49m\u001b[43mtokenizer\u001b[49m\u001b[43m=\u001b[49m\u001b[43mtokenizer\u001b[49m\u001b[43m,\u001b[49m\u001b[43mdataset\u001b[49m\u001b[43m=\u001b[49m\u001b[43monnx_test_dataset\u001b[49m\u001b[43m)\u001b[49m\n\u001b[32m      4\u001b[39m \u001b[38;5;66;03m#print(f\"Original Model F1 Score: {originalModelScore[0]}, Time taken: {originalModelScore[1]} seconds\")\u001b[39;00m\n\u001b[32m      5\u001b[39m \u001b[38;5;28mprint\u001b[39m(\u001b[33mf\u001b[39m\u001b[33m\"\u001b[39m\u001b[33mQuantized Model F1 Score: \u001b[39m\u001b[38;5;132;01m{\u001b[39;00mquantizedModelScore[\u001b[32m0\u001b[39m]\u001b[38;5;132;01m}\u001b[39;00m\u001b[33m, Time taken: \u001b[39m\u001b[38;5;132;01m{\u001b[39;00mquantizedModelScore[\u001b[32m1\u001b[39m]\u001b[38;5;132;01m}\u001b[39;00m\u001b[33m seconds\u001b[39m\u001b[33m\"\u001b[39m)\n",
      "\u001b[36mCell\u001b[39m\u001b[36m \u001b[39m\u001b[32mIn[47]\u001b[39m\u001b[32m, line 24\u001b[39m, in \u001b[36mtimed_onnx_inference\u001b[39m\u001b[34m(session, tokenizer, dataset, batch_size)\u001b[39m\n\u001b[32m     18\u001b[39m inputs = {\n\u001b[32m     19\u001b[39m     \u001b[33m\"\u001b[39m\u001b[33minput_ids\u001b[39m\u001b[33m\"\u001b[39m: tokens[\u001b[33m\"\u001b[39m\u001b[33minput_ids\u001b[39m\u001b[33m\"\u001b[39m].astype(np.int64),\n\u001b[32m     20\u001b[39m     \u001b[33m\"\u001b[39m\u001b[33mattention_mask\u001b[39m\u001b[33m\"\u001b[39m: tokens[\u001b[33m\"\u001b[39m\u001b[33mattention_mask\u001b[39m\u001b[33m\"\u001b[39m].astype(np.int64)\n\u001b[32m     21\u001b[39m }\n\u001b[32m     23\u001b[39m \u001b[38;5;66;03m# ONNX inference\u001b[39;00m\n\u001b[32m---> \u001b[39m\u001b[32m24\u001b[39m logits = \u001b[43msession\u001b[49m\u001b[43m.\u001b[49m\u001b[43mrun\u001b[49m\u001b[43m(\u001b[49m\u001b[43m[\u001b[49m\u001b[33;43m\"\u001b[39;49m\u001b[33;43mlogits\u001b[39;49m\u001b[33;43m\"\u001b[39;49m\u001b[43m]\u001b[49m\u001b[43m,\u001b[49m\u001b[43m \u001b[49m\u001b[43minputs\u001b[49m\u001b[43m)\u001b[49m[\u001b[32m0\u001b[39m]\n\u001b[32m     25\u001b[39m probs = \u001b[32m1\u001b[39m / (\u001b[32m1\u001b[39m + np.exp(-logits))  \u001b[38;5;66;03m# Sigmoid\u001b[39;00m\n\u001b[32m     27\u001b[39m preds = (probs > \u001b[32m0.5\u001b[39m).astype(\u001b[38;5;28mint\u001b[39m)\n",
      "\u001b[36mFile \u001b[39m\u001b[32md:\\Anaconda\\envs\\AI_env\\Lib\\site-packages\\onnxruntime\\capi\\onnxruntime_inference_collection.py:270\u001b[39m, in \u001b[36mSession.run\u001b[39m\u001b[34m(self, output_names, input_feed, run_options)\u001b[39m\n\u001b[32m    268\u001b[39m     output_names = [output.name \u001b[38;5;28;01mfor\u001b[39;00m output \u001b[38;5;129;01min\u001b[39;00m \u001b[38;5;28mself\u001b[39m._outputs_meta]\n\u001b[32m    269\u001b[39m \u001b[38;5;28;01mtry\u001b[39;00m:\n\u001b[32m--> \u001b[39m\u001b[32m270\u001b[39m     \u001b[38;5;28;01mreturn\u001b[39;00m \u001b[38;5;28;43mself\u001b[39;49m\u001b[43m.\u001b[49m\u001b[43m_sess\u001b[49m\u001b[43m.\u001b[49m\u001b[43mrun\u001b[49m\u001b[43m(\u001b[49m\u001b[43moutput_names\u001b[49m\u001b[43m,\u001b[49m\u001b[43m \u001b[49m\u001b[43minput_feed\u001b[49m\u001b[43m,\u001b[49m\u001b[43m \u001b[49m\u001b[43mrun_options\u001b[49m\u001b[43m)\u001b[49m\n\u001b[32m    271\u001b[39m \u001b[38;5;28;01mexcept\u001b[39;00m C.EPFail \u001b[38;5;28;01mas\u001b[39;00m err:\n\u001b[32m    272\u001b[39m     \u001b[38;5;28;01mif\u001b[39;00m \u001b[38;5;28mself\u001b[39m._enable_fallback:\n",
      "\u001b[31mKeyboardInterrupt\u001b[39m: "
     ]
    }
   ],
   "source": [
    "quantized_session = ort.InferenceSession(\"models/multi_label_model_quant.onnx\",providers=[\"CUDAExecutionProvider\"])\n",
    "#originalModelScore = timed_inference(model, tokenizer)\n",
    "quantizedModelScore = timed_onnx_inference(session=quantized_session, tokenizer=tokenizer,dataset=onnx_test_dataset)\n",
    "#print(f\"Original Model F1 Score: {originalModelScore[0]}, Time taken: {originalModelScore[1]} seconds\")\n",
    "print(f\"Quantized Model F1 Score: {quantizedModelScore[0]}, Time taken: {quantizedModelScore[1]} seconds\")"
   ]
  }
 ],
 "metadata": {
  "kernelspec": {
   "display_name": "AI_env",
   "language": "python",
   "name": "python3"
  },
  "language_info": {
   "codemirror_mode": {
    "name": "ipython",
    "version": 3
   },
   "file_extension": ".py",
   "mimetype": "text/x-python",
   "name": "python",
   "nbconvert_exporter": "python",
   "pygments_lexer": "ipython3",
   "version": "3.11.11"
  }
 },
 "nbformat": 4,
 "nbformat_minor": 4
}
