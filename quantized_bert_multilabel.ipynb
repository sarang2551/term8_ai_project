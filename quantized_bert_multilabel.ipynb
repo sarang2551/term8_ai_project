{
 "cells": [
  {
   "cell_type": "code",
   "execution_count": 1,
   "metadata": {},
   "outputs": [
    {
     "name": "stderr",
     "output_type": "stream",
     "text": [
      "d:\\Anaconda\\envs\\AI_env\\Lib\\site-packages\\tqdm\\auto.py:21: TqdmWarning: IProgress not found. Please update jupyter and ipywidgets. See https://ipywidgets.readthedocs.io/en/stable/user_install.html\n",
      "  from .autonotebook import tqdm as notebook_tqdm\n"
     ]
    }
   ],
   "source": [
    "import torch\n",
    "import onnx\n",
    "import onnxruntime as ort\n",
    "from onnxruntime.quantization import quantize_dynamic, QuantType\n",
    "from transformers import AutoTokenizer, AutoModelForSequenceClassification, pipeline\n",
    "from datasets import Dataset\n",
    "import numpy as np\n",
    "from sklearn.metrics import f1_score\n",
    "import os\n",
    "import time\n",
    "device = torch.device(\"cuda\" if torch.cuda.is_available() else \"cpu\")"
   ]
  },
  {
   "cell_type": "code",
   "execution_count": 2,
   "metadata": {},
   "outputs": [],
   "source": [
    "label_map = {'toxic':0, 'severe_toxic':1, 'obscene':2, 'threat':3, 'insult':4, 'identity_hate':5}"
   ]
  },
  {
   "cell_type": "code",
   "execution_count": null,
   "metadata": {},
   "outputs": [
    {
     "data": {
      "text/plain": [
       "{'id': 'fd74868bc7a076e1',\n",
       " 'comment_text': \"What the hell, what would we call her if we wanted to say she was black? I'm talking about her race.\",\n",
       " 'cyberbullying': 1,\n",
       " 'labels': [1.0, 0.0, 0.0, 0.0, 0.0, 0.0]}"
      ]
     },
     "execution_count": 3,
     "metadata": {},
     "output_type": "execute_result"
    }
   ],
   "source": [
    "test_dataset = Dataset.from_file(r\"processed_dataset/subset_test/data-00000-of-00001.arrow\")\n",
    "model = AutoModelForSequenceClassification.from_pretrained(f\"./models/BERT_Multi-Label_classification\", num_labels=len(label_map.keys())).to(device)\n",
    "tokenizer = AutoTokenizer.from_pretrained(f\"./models/BERT_Multi-Label_classification\")\n",
    "\n",
    "# Create multi-label column\n",
    "def create_multi_label(example):\n",
    "    return {\"labels\": [np.float32(example[label]) for label in label_map.keys()]}\n",
    "\n",
    "test_dataset = test_dataset.map(create_multi_label).remove_columns(list(label_map.keys()))\n",
    "test_dataset[0]"
   ]
  },
  {
   "cell_type": "code",
   "execution_count": 4,
   "metadata": {},
   "outputs": [
    {
     "name": "stderr",
     "output_type": "stream",
     "text": [
      "Map:   0%|          | 0/500 [00:00<?, ? examples/s]"
     ]
    },
    {
     "name": "stderr",
     "output_type": "stream",
     "text": [
      "Map: 100%|██████████| 500/500 [00:00<00:00, 1629.56 examples/s]\n"
     ]
    }
   ],
   "source": [
    "def preprocess_for_onnx(ex):\n",
    "    tokens = tokenizer(\n",
    "        ex[\"comment_text\"],\n",
    "        padding=\"max_length\",\n",
    "        truncation=True,\n",
    "        max_length=128,\n",
    "        return_tensors=\"np\"\n",
    "    )\n",
    "    return {\n",
    "        \"input_ids\": tokens[\"input_ids\"][0],\n",
    "        \"attention_mask\": tokens[\"attention_mask\"][0],\n",
    "        \"labels\": ex[\"labels\"]\n",
    "    }\n",
    "onnx_test_dataset = test_dataset.map(preprocess_for_onnx)"
   ]
  },
  {
   "cell_type": "markdown",
   "metadata": {},
   "source": [
    "## Code for exporting the BERT model into a ONNX model"
   ]
  },
  {
   "cell_type": "code",
   "execution_count": 15,
   "metadata": {},
   "outputs": [],
   "source": [
    "dummy = tokenizer(\"This is a test\", return_tensors=\"pt\", padding=\"max_length\", truncation=True, max_length=128)\n",
    "\n",
    "torch.onnx.export(\n",
    "    model,\n",
    "    (dummy[\"input_ids\"], dummy[\"attention_mask\"]),\n",
    "    \"models/multi_label_model.onnx\",\n",
    "    input_names=[\"input_ids\", \"attention_mask\"],\n",
    "    output_names=[\"logits\"],\n",
    "    dynamic_axes={\n",
    "        \"input_ids\": {0: \"batch_size\", 1: \"seq_len\"},\n",
    "        \"attention_mask\": {0: \"batch_size\", 1: \"seq_len\"},\n",
    "        \"logits\": {0: \"batch_size\", 1: \"num_labels\"},\n",
    "    },\n",
    "    opset_version=14\n",
    ")"
   ]
  },
  {
   "cell_type": "code",
   "execution_count": null,
   "metadata": {},
   "outputs": [
    {
     "name": "stdout",
     "output_type": "stream",
     "text": [
      "ONNX export successful and model is valid!\n"
     ]
    }
   ],
   "source": [
    "onnx_model = onnx.load(\"models/multi_label_model.onnx\")\n",
    "onnx.checker.check_model(onnx_model)\n",
    "print(\"ONNX export successful and model is valid!\")"
   ]
  },
  {
   "cell_type": "markdown",
   "metadata": {},
   "source": [
    "### ONNX Quantization code "
   ]
  },
  {
   "cell_type": "code",
   "execution_count": 33,
   "metadata": {},
   "outputs": [
    {
     "name": "stderr",
     "output_type": "stream",
     "text": [
      "WARNING:root:Please consider to run pre-processing before quantization. Refer to example: https://github.com/microsoft/onnxruntime-inference-examples/blob/main/quantization/image_classification/cpu/ReadMe.md \n"
     ]
    }
   ],
   "source": [
    "model_input=\"models/multi_label_model.onnx\"\n",
    "model_output=\"models/multi_label_model_quant.onnx\"\n",
    "quantize_dynamic(\n",
    "    model_input=model_input,\n",
    "    model_output=model_output,\n",
    "    weight_type=QuantType.QUInt8,\n",
    ")"
   ]
  },
  {
   "cell_type": "code",
   "execution_count": null,
   "metadata": {},
   "outputs": [],
   "source": [
    "def print_size_of_model(model,name):\n",
    "    torch.save(model.state_dict(), \"temp.p\")\n",
    "    print(name,' Size (MB):', os.path.getsize(\"temp.p\")/1e6)\n",
    "    os.remove('temp.p')\n",
    "def print_size_of_onnx_model(model_path, name=\"ONNX Model\"):\n",
    "    size_mb = os.path.getsize(model_path) / 1e6\n",
    "    print(f\"{name} Size (MB): {size_mb:.2f}\")"
   ]
  },
  {
   "cell_type": "code",
   "execution_count": null,
   "metadata": {},
   "outputs": [],
   "source": [
    "print_size_of_onnx_model(\"models/multi_label_model_quant.onnx\",\"Original ONNX model\")\n",
    "print_size_of_model(model,\"Original model\")"
   ]
  },
  {
   "cell_type": "markdown",
   "metadata": {},
   "source": [
    "## Inference Section"
   ]
  },
  {
   "cell_type": "code",
   "execution_count": 7,
   "metadata": {},
   "outputs": [],
   "source": [
    "def timed_onnx_inference(session, tokenizer, dataset, batch_size=32):\n",
    "    start_time = time.time()\n",
    "    all_preds = []\n",
    "    all_labels = []\n",
    "\n",
    "    for i in range(0, len(dataset), batch_size):\n",
    "        batch = dataset[i:i+batch_size]  # This is a dict of batched columns\n",
    "\n",
    "        # Tokenize batch[\"comment_text\"]\n",
    "        tokens = tokenizer(\n",
    "            batch[\"comment_text\"],\n",
    "            return_tensors=\"np\",\n",
    "            padding=\"max_length\",\n",
    "            truncation=True,\n",
    "            max_length=128\n",
    "        )\n",
    "\n",
    "        inputs = {\n",
    "            \"input_ids\": tokens[\"input_ids\"].astype(np.int64),\n",
    "            \"attention_mask\": tokens[\"attention_mask\"].astype(np.int64)\n",
    "        }\n",
    "\n",
    "        # ONNX inference\n",
    "        logits = session.run([\"logits\"], inputs)[0]\n",
    "        probs = 1 / (1 + np.exp(-logits))  # Sigmoid\n",
    "\n",
    "        preds = (probs > 0.5).astype(int)\n",
    "\n",
    "        all_preds.extend(preds.tolist())\n",
    "        all_labels.extend(batch[\"labels\"])\n",
    "\n",
    "    end_time = time.time()\n",
    "\n",
    "    f1 = f1_score(all_labels, all_preds, average=\"micro\")\n",
    "    return f1, end_time - start_time"
   ]
  },
  {
   "cell_type": "code",
   "execution_count": null,
   "metadata": {},
   "outputs": [],
   "source": [
    "def timed_inference(model, tokenizer):\n",
    "    start_time = time.time()\n",
    "    classifier = pipeline(\"text-classification\", model=model, tokenizer=tokenizer, device=device, top_k=None)\n",
    "    results = classifier(test_dataset['comment_text'], max_length=128, padding=\"max_length\", truncation=True)\n",
    "    end_time = time.time()\n",
    "    cleaned_results = [\n",
    "    [1 if score[\"score\"] > 0.5 else 0 for score in result]\n",
    "    for result in results\n",
    "    ]\n",
    "    f1 = f1_score(test_dataset['labels'], cleaned_results, average='micro')\n",
    "    return f1, end_time - start_time"
   ]
  },
  {
   "cell_type": "code",
   "execution_count": 9,
   "metadata": {},
   "outputs": [
    {
     "name": "stderr",
     "output_type": "stream",
     "text": [
      "Device set to use cpu\n",
      "d:\\Anaconda\\envs\\AI_env\\Lib\\site-packages\\transformers\\pipelines\\text_classification.py:106: UserWarning: `return_all_scores` is now deprecated,  if want a similar functionality use `top_k=None` instead of `return_all_scores=True` or `top_k=1` instead of `return_all_scores=False`.\n",
      "  warnings.warn(\n"
     ]
    },
    {
     "name": "stdout",
     "output_type": "stream",
     "text": [
      "Original Model F1 Score: 0.8268551236749117, Time taken: 51.68964982032776 seconds\n",
      "Quantized Model F1 Score: 0.7978241160471442, Time taken: 13.311426877975464 seconds\n"
     ]
    }
   ],
   "source": [
    "providers = [\"CUDAExecutionProvider\"] if torch.cuda.is_available() else [\"CPUExecutionProvider\"]\n",
    "quantized_session = ort.InferenceSession(\"models/multi_label_model_quant.onnx\",providers=providers)\n",
    "originalModelScore = timed_inference(model, tokenizer)\n",
    "print(f\"Original Model F1 Score: {originalModelScore[0]}, Time taken: {originalModelScore[1]} seconds\")\n",
    "quantizedModelScore = timed_onnx_inference(session=quantized_session, tokenizer=tokenizer,dataset=onnx_test_dataset)\n",
    "print(f\"Quantized Model F1 Score: {quantizedModelScore[0]}, Time taken: {quantizedModelScore[1]} seconds\")"
   ]
  }
 ],
 "metadata": {
  "kernelspec": {
   "display_name": "AI_env",
   "language": "python",
   "name": "python3"
  },
  "language_info": {
   "codemirror_mode": {
    "name": "ipython",
    "version": 3
   },
   "file_extension": ".py",
   "mimetype": "text/x-python",
   "name": "python",
   "nbconvert_exporter": "python",
   "pygments_lexer": "ipython3",
   "version": "3.11.11"
  }
 },
 "nbformat": 4,
 "nbformat_minor": 4
}
